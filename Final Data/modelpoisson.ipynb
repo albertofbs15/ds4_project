{
 "cells": [
  {
   "cell_type": "code",
   "execution_count": 277,
   "metadata": {},
   "outputs": [],
   "source": [
    "import numpy as np\n",
    "import pandas as pd\n",
    "import math\n",
    "import statsmodels.api as sm\n",
    "import matplotlib.pyplot as plt\n",
    "from statsmodels.formula.api import glm\n",
    "\n",
    "#import folium # package for making maps, please make sure to use a version older than 1.0..\n",
    "\n"
   ]
  },
  {
   "cell_type": "code",
   "execution_count": 184,
   "metadata": {},
   "outputs": [],
   "source": [
    "df=pd.read_csv('Final_Final.csv')\n",
    "lights=pd.read_csv('lights_clean.csv')\n",
    "list_df=[]\n",
    "x_df=[]\n",
    "y_df=[]\n",
    "for i in range(df.shape[0]):\n",
    "    address=str(round(df['LATITUD'].iloc[i],7))+' '+str(round(df['LONGITUD'].iloc[i],7))\n",
    "    list_df.append(address)   \n",
    "    \n",
    "df['LAT_LON']=list_df\n",
    "df['ID']=df['BUS_SUBIDA']\n",
    "\n",
    "\n",
    "newdf=df[['LAT_LON','ID','BUS_SUBIDA','BUS_BAJADA','TRAFICO','POT','PIEZA_URBANA','LATITUD','LONGITUD']]"
   ]
  },
  {
   "cell_type": "code",
   "execution_count": 185,
   "metadata": {},
   "outputs": [],
   "source": [
    "dff=newdf.groupby(['LAT_LON']).count().reset_index()\n",
    "list_df=[]\n",
    "for i in range(dff.shape[0]):\n",
    "    list_df.append(np.array(newdf[newdf['LAT_LON']==dff['LAT_LON'].iloc[i]]).tolist()[0])\n",
    "\n"
   ]
  },
  {
   "cell_type": "code",
   "execution_count": 186,
   "metadata": {},
   "outputs": [],
   "source": [
    "final_df = pd.DataFrame.from_records(list_df)\n",
    "final_df=final_df.rename(columns={0:'LAT_LON',1:'ID',2:'BUS_SUBIDA',3:'BUS_BAJADA',4:'TRAFICO',5:'POT',6:'PIEZA_URBANA',7:'LATITUD',8:'LONGITUD'})\n",
    "final_df['ID']=dff['ID']\n",
    "final"
   ]
  },
  {
   "cell_type": "code",
   "execution_count": 347,
   "metadata": {},
   "outputs": [],
   "source": [
    "closest=np.zeros(final_df.shape[0])\n",
    "numclose=np.zeros(final_df.shape[0])\n",
    "numclose2=np.zeros(final_df.shape[0])\n",
    "numclose3=np.zeros(final_df.shape[0])\n",
    "for i in range(final_df.shape[0]):\n",
    "    corner_lat=final_df['LATITUD'][i]\n",
    "    corner_lon=final_df['LONGITUD'][i]\n",
    "    light_lat=np.array(lights['LATITUD'])\n",
    "    light_lon=np.array(lights['LONGITUD'])\n",
    "    dx = (light_lon-corner_lon)*40000*np.cos((light_lat+corner_lat)*math.pi/360)/360\n",
    "    dy = (light_lat-corner_lat)*40000/360\n",
    "    distance=np.sqrt(dx**2+dy**2)\n",
    "    closest[i]=distance[distance.argmin()]\n",
    "    numclose[i]=sum(distance<0.1)\n",
    "    numclose2[i]=sum(((distance>=0.1) & (distance<0.5)))\n",
    "    numclose3[i]=sum(((distance>=0.5) & (distance<2)))\n",
    "final_df['NLIGHTS']=list(numclose)\n",
    "final_df['NLIGHTS2']=list(numclose2)\n",
    "final_df['NLIGHTS3']=list(numclose3)\n",
    "\n",
    "final_df['CLOSEST_LIGHT']=list(closest)\n",
    "data=final_df.drop(columns=['LAT_LON','LONGITUD','LATITUD'])\n",
    "data=data.rename(columns={'ID':'NACCIDENTS'})"
   ]
  },
  {
   "cell_type": "code",
   "execution_count": 349,
   "metadata": {},
   "outputs": [
    {
     "data": {
      "text/html": [
       "<table class=\"simpletable\">\n",
       "<caption>Generalized Linear Model Regression Results</caption>\n",
       "<tr>\n",
       "  <th>Dep. Variable:</th>      <td>NACCIDENTS</td>    <th>  No. Observations:  </th>  <td>  6056</td> \n",
       "</tr>\n",
       "<tr>\n",
       "  <th>Model:</th>                  <td>GLM</td>       <th>  Df Residuals:      </th>  <td>  6034</td> \n",
       "</tr>\n",
       "<tr>\n",
       "  <th>Model Family:</th>         <td>Poisson</td>     <th>  Df Model:          </th>  <td>    21</td> \n",
       "</tr>\n",
       "<tr>\n",
       "  <th>Link Function:</th>          <td>log</td>       <th>  Scale:             </th> <td>  1.0000</td>\n",
       "</tr>\n",
       "<tr>\n",
       "  <th>Method:</th>                <td>IRLS</td>       <th>  Log-Likelihood:    </th> <td> -23054.</td>\n",
       "</tr>\n",
       "<tr>\n",
       "  <th>Date:</th>            <td>Wed, 27 Nov 2019</td> <th>  Deviance:          </th> <td>  30357.</td>\n",
       "</tr>\n",
       "<tr>\n",
       "  <th>Time:</th>                <td>10:04:42</td>     <th>  Pearson chi2:      </th> <td>6.33e+04</td>\n",
       "</tr>\n",
       "<tr>\n",
       "  <th>No. Iterations:</th>          <td>6</td>        <th>                     </th>     <td> </td>   \n",
       "</tr>\n",
       "<tr>\n",
       "  <th>Covariance Type:</th>     <td>nonrobust</td>    <th>                     </th>     <td> </td>   \n",
       "</tr>\n",
       "</table>\n",
       "<table class=\"simpletable\">\n",
       "<tr>\n",
       "                    <td></td>                      <th>coef</th>     <th>std err</th>      <th>z</th>      <th>P>|z|</th>  <th>[0.025</th>    <th>0.975]</th>  \n",
       "</tr>\n",
       "<tr>\n",
       "  <th>Intercept</th>                            <td>    1.5132</td> <td>    0.047</td> <td>   32.432</td> <td> 0.000</td> <td>    1.422</td> <td>    1.605</td>\n",
       "</tr>\n",
       "<tr>\n",
       "  <th>POT[T.comercial]</th>                     <td>    0.1981</td> <td>    0.028</td> <td>    7.035</td> <td> 0.000</td> <td>    0.143</td> <td>    0.253</td>\n",
       "</tr>\n",
       "<tr>\n",
       "  <th>POT[T.industrial]</th>                    <td>    0.4391</td> <td>    0.042</td> <td>   10.533</td> <td> 0.000</td> <td>    0.357</td> <td>    0.521</td>\n",
       "</tr>\n",
       "<tr>\n",
       "  <th>POT[T.ninguna]</th>                       <td>   -0.0261</td> <td>    0.032</td> <td>   -0.824</td> <td> 0.410</td> <td>   -0.088</td> <td>    0.036</td>\n",
       "</tr>\n",
       "<tr>\n",
       "  <th>POT[T.portuaria]</th>                     <td>   -0.3580</td> <td>    0.078</td> <td>   -4.581</td> <td> 0.000</td> <td>   -0.511</td> <td>   -0.205</td>\n",
       "</tr>\n",
       "<tr>\n",
       "  <th>POT[T.protegida]</th>                     <td>   -0.0046</td> <td>    0.043</td> <td>   -0.107</td> <td> 0.915</td> <td>   -0.089</td> <td>    0.080</td>\n",
       "</tr>\n",
       "<tr>\n",
       "  <th>POT[T.residencial]</th>                   <td>   -0.2855</td> <td>    0.030</td> <td>   -9.410</td> <td> 0.000</td> <td>   -0.345</td> <td>   -0.226</td>\n",
       "</tr>\n",
       "<tr>\n",
       "  <th>PIEZA_URBANA[T.centro metropolitana]</th> <td>   -0.1971</td> <td>    0.035</td> <td>   -5.675</td> <td> 0.000</td> <td>   -0.265</td> <td>   -0.129</td>\n",
       "</tr>\n",
       "<tr>\n",
       "  <th>PIEZA_URBANA[T.ninguna]</th>              <td>   -0.0135</td> <td>    0.061</td> <td>   -0.221</td> <td> 0.825</td> <td>   -0.133</td> <td>    0.106</td>\n",
       "</tr>\n",
       "<tr>\n",
       "  <th>PIEZA_URBANA[T.prado norte]</th>          <td>   -0.0517</td> <td>    0.030</td> <td>   -1.716</td> <td> 0.086</td> <td>   -0.111</td> <td>    0.007</td>\n",
       "</tr>\n",
       "<tr>\n",
       "  <th>PIEZA_URBANA[T.ribera occidental]</th>    <td>    0.3904</td> <td>    0.040</td> <td>    9.837</td> <td> 0.000</td> <td>    0.313</td> <td>    0.468</td>\n",
       "</tr>\n",
       "<tr>\n",
       "  <th>PIEZA_URBANA[T.riomar]</th>               <td>    0.2107</td> <td>    0.026</td> <td>    7.978</td> <td> 0.000</td> <td>    0.159</td> <td>    0.262</td>\n",
       "</tr>\n",
       "<tr>\n",
       "  <th>PIEZA_URBANA[T.suroccidental 1]</th>      <td>   -0.2062</td> <td>    0.040</td> <td>   -5.167</td> <td> 0.000</td> <td>   -0.284</td> <td>   -0.128</td>\n",
       "</tr>\n",
       "<tr>\n",
       "  <th>PIEZA_URBANA[T.suroccidental 2]</th>      <td>   -0.0392</td> <td>    0.041</td> <td>   -0.956</td> <td> 0.339</td> <td>   -0.120</td> <td>    0.041</td>\n",
       "</tr>\n",
       "<tr>\n",
       "  <th>PIEZA_URBANA[T.suroriental]</th>          <td>   -0.0463</td> <td>    0.031</td> <td>   -1.500</td> <td> 0.134</td> <td>   -0.107</td> <td>    0.014</td>\n",
       "</tr>\n",
       "<tr>\n",
       "  <th>BUS_SUBIDA</th>                           <td>   -0.1429</td> <td>    0.009</td> <td>  -15.433</td> <td> 0.000</td> <td>   -0.161</td> <td>   -0.125</td>\n",
       "</tr>\n",
       "<tr>\n",
       "  <th>BUS_BAJADA</th>                           <td>    0.0520</td> <td>    0.010</td> <td>    5.361</td> <td> 0.000</td> <td>    0.033</td> <td>    0.071</td>\n",
       "</tr>\n",
       "<tr>\n",
       "  <th>TRAFICO</th>                              <td>   -0.0469</td> <td>    0.036</td> <td>   -1.296</td> <td> 0.195</td> <td>   -0.118</td> <td>    0.024</td>\n",
       "</tr>\n",
       "<tr>\n",
       "  <th>NLIGHTS</th>                              <td>    0.1183</td> <td>    0.012</td> <td>    9.519</td> <td> 0.000</td> <td>    0.094</td> <td>    0.143</td>\n",
       "</tr>\n",
       "<tr>\n",
       "  <th>NLIGHTS2</th>                             <td>   -0.0090</td> <td>    0.002</td> <td>   -3.923</td> <td> 0.000</td> <td>   -0.013</td> <td>   -0.004</td>\n",
       "</tr>\n",
       "<tr>\n",
       "  <th>NLIGHTS3</th>                             <td>   -0.0016</td> <td>    0.000</td> <td>   -4.783</td> <td> 0.000</td> <td>   -0.002</td> <td>   -0.001</td>\n",
       "</tr>\n",
       "<tr>\n",
       "  <th>CLOSEST_LIGHT</th>                        <td>    0.0022</td> <td>    0.016</td> <td>    0.140</td> <td> 0.889</td> <td>   -0.028</td> <td>    0.033</td>\n",
       "</tr>\n",
       "</table>"
      ],
      "text/plain": [
       "<class 'statsmodels.iolib.summary.Summary'>\n",
       "\"\"\"\n",
       "                 Generalized Linear Model Regression Results                  \n",
       "==============================================================================\n",
       "Dep. Variable:             NACCIDENTS   No. Observations:                 6056\n",
       "Model:                            GLM   Df Residuals:                     6034\n",
       "Model Family:                 Poisson   Df Model:                           21\n",
       "Link Function:                    log   Scale:                          1.0000\n",
       "Method:                          IRLS   Log-Likelihood:                -23054.\n",
       "Date:                Wed, 27 Nov 2019   Deviance:                       30357.\n",
       "Time:                        10:04:42   Pearson chi2:                 6.33e+04\n",
       "No. Iterations:                     6                                         \n",
       "Covariance Type:            nonrobust                                         \n",
       "========================================================================================================\n",
       "                                           coef    std err          z      P>|z|      [0.025      0.975]\n",
       "--------------------------------------------------------------------------------------------------------\n",
       "Intercept                                1.5132      0.047     32.432      0.000       1.422       1.605\n",
       "POT[T.comercial]                         0.1981      0.028      7.035      0.000       0.143       0.253\n",
       "POT[T.industrial]                        0.4391      0.042     10.533      0.000       0.357       0.521\n",
       "POT[T.ninguna]                          -0.0261      0.032     -0.824      0.410      -0.088       0.036\n",
       "POT[T.portuaria]                        -0.3580      0.078     -4.581      0.000      -0.511      -0.205\n",
       "POT[T.protegida]                        -0.0046      0.043     -0.107      0.915      -0.089       0.080\n",
       "POT[T.residencial]                      -0.2855      0.030     -9.410      0.000      -0.345      -0.226\n",
       "PIEZA_URBANA[T.centro metropolitana]    -0.1971      0.035     -5.675      0.000      -0.265      -0.129\n",
       "PIEZA_URBANA[T.ninguna]                 -0.0135      0.061     -0.221      0.825      -0.133       0.106\n",
       "PIEZA_URBANA[T.prado norte]             -0.0517      0.030     -1.716      0.086      -0.111       0.007\n",
       "PIEZA_URBANA[T.ribera occidental]        0.3904      0.040      9.837      0.000       0.313       0.468\n",
       "PIEZA_URBANA[T.riomar]                   0.2107      0.026      7.978      0.000       0.159       0.262\n",
       "PIEZA_URBANA[T.suroccidental 1]         -0.2062      0.040     -5.167      0.000      -0.284      -0.128\n",
       "PIEZA_URBANA[T.suroccidental 2]         -0.0392      0.041     -0.956      0.339      -0.120       0.041\n",
       "PIEZA_URBANA[T.suroriental]             -0.0463      0.031     -1.500      0.134      -0.107       0.014\n",
       "BUS_SUBIDA                              -0.1429      0.009    -15.433      0.000      -0.161      -0.125\n",
       "BUS_BAJADA                               0.0520      0.010      5.361      0.000       0.033       0.071\n",
       "TRAFICO                                 -0.0469      0.036     -1.296      0.195      -0.118       0.024\n",
       "NLIGHTS                                  0.1183      0.012      9.519      0.000       0.094       0.143\n",
       "NLIGHTS2                                -0.0090      0.002     -3.923      0.000      -0.013      -0.004\n",
       "NLIGHTS3                                -0.0016      0.000     -4.783      0.000      -0.002      -0.001\n",
       "CLOSEST_LIGHT                            0.0022      0.016      0.140      0.889      -0.028       0.033\n",
       "========================================================================================================\n",
       "\"\"\""
      ]
     },
     "execution_count": 349,
     "metadata": {},
     "output_type": "execute_result"
    }
   ],
   "source": [
    "formula='NACCIDENTS~BUS_SUBIDA+BUS_BAJADA+TRAFICO+POT+PIEZA_URBANA+NLIGHTS+NLIGHTS2+NLIGHTS3+CLOSEST_LIGHT'\n",
    "mod1 = glm(formula=formula, data=data, family=sm.families.Poisson()).fit()\n",
    "mod1.summary()"
   ]
  },
  {
   "cell_type": "code",
   "execution_count": 339,
   "metadata": {},
   "outputs": [
    {
     "data": {
      "image/png": "[encoded data removed]",
      "text/plain": [
       "<Figure size 432x288 with 1 Axes>"
      ]
     },
     "metadata": {
      "needs_background": "light"
     },
     "output_type": "display_data"
    },
    {
     "data": {
      "image/png": "[encoded data removed]",
      "text/plain": [
       "<Figure size 432x288 with 1 Axes>"
      ]
     },
     "metadata": {
      "needs_background": "light"
     },
     "output_type": "display_data"
    }
   ],
   "source": [
    "mod1.predict()\n",
    "plt.plot(list(mod1.predict()))\n",
    "plt.show()\n",
    "plt.plot(data['NACCIDENTS'])\n",
    "plt.show()"
   ]
  },
  {
   "cell_type": "code",
   "execution_count": null,
   "metadata": {},
   "outputs": [],
   "source": []
  }
 ],
 "metadata": {
  "kernelspec": {
   "display_name": "Python 3",
   "language": "python",
   "name": "python3"
  },
  "language_info": {
   "codemirror_mode": {
    "name": "ipython",
    "version": 3
   },
   "file_extension": ".py",
   "mimetype": "text/x-python",
   "name": "python",
   "nbconvert_exporter": "python",
   "pygments_lexer": "ipython3",
   "version": "3.6.9"
  }
 },
 "nbformat": 4,
 "nbformat_minor": 2
}
