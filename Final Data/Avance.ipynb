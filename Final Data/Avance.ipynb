{
 "cells": [
  {
   "cell_type": "code",
   "execution_count": 2,
   "metadata": {},
   "outputs": [],
   "source": [
    "import numpy as np\n",
    "import pandas as pd\n",
    "import math\n",
    "import statsmodels.api as sm\n",
    "import matplotlib.pyplot as plt\n",
    "from statsmodels.formula.api import glm\n",
    "import collections\n",
    "from statsmodels.sandbox.stats.multicomp import multipletests\n"
   ]
  },
  {
   "cell_type": "code",
   "execution_count": 3,
   "metadata": {},
   "outputs": [],
   "source": [
    "df=pd.read_csv('Final_poisson.csv').iloc[:,1:]"
   ]
  },
  {
   "cell_type": "code",
   "execution_count": 4,
   "metadata": {},
   "outputs": [],
   "source": [
    "import time"
   ]
  },
  {
   "cell_type": "code",
   "execution_count": 5,
   "metadata": {},
   "outputs": [
    {
     "name": "stdout",
     "output_type": "stream",
     "text": [
      "--- 0.07788491249084473 seconds ---\n"
     ]
    }
   ],
   "source": [
    "def conteo_perf(newdf=df):\n",
    "    df_drop=newdf.drop_duplicates(subset='LAT_LON') \n",
    "    conteos=newdf[['LAT_LON','SITIO_EXACTO_ACCIDENTE']].groupby(['LAT_LON','SITIO_EXACTO_ACCIDENTE']).size().reset_index(name='count')\n",
    "    grp_conteos = conteos.groupby('LAT_LON')['count'].agg(['sum','max'])\n",
    "    grp_conteos['sum_rate'] = grp_conteos['max'] / grp_conteos['sum']\n",
    "    filtered_conteos = grp_conteos[grp_conteos['sum_rate'] > 0.3]\n",
    "    return_df = filtered_conteos.drop(['max', 'sum_rate'], axis=1)\n",
    "    return_df.rename(columns = {'sum':'NACCIDENTS'}, inplace = True) \n",
    "    fusion=pd.merge(return_df,df_drop,on='LAT_LON',how='inner')[['NACCIDENTS','AÑO_ACCIDENTE','MES_ACCIDENTE',\n",
    "                                                     'CLASE_ACCIDENTE','LONGITUD', 'LATITUD',\n",
    "                                                     'POT', 'PIEZA_URBANA', 'BUS_SUBIDA','BUS_BAJADA', \n",
    "                                                     'TRAFICO','ES_FESTIVO','SOLO_HORA']].reset_index().iloc[:,1:]\n",
    "    return(fusion)\n",
    "\n",
    "start_time = time.time()\n",
    "b=conteo_perf()\n",
    "print(\"--- %s seconds ---\" % (time.time() - start_time))"
   ]
  },
  {
   "cell_type": "code",
   "execution_count": 9,
   "metadata": {},
   "outputs": [],
   "source": [
    "semaforos=pd.read_csv('lights_clean.csv')[['LATITUD','LONGITUD']]"
   ]
  },
  {
   "cell_type": "code",
   "execution_count": 24,
   "metadata": {},
   "outputs": [
    {
     "name": "stdout",
     "output_type": "stream",
     "text": [
      "Index(['LATITUD', 'LONGITUD'], dtype='object')\n",
      "Index(['NACCIDENTS', 'AÑO_ACCIDENTE', 'MES_ACCIDENTE', 'CLASE_ACCIDENTE',\n",
      "       'LONGITUD', 'LATITUD', 'POT', 'PIEZA_URBANA', 'BUS_SUBIDA',\n",
      "       'BUS_BAJADA', 'TRAFICO', 'ES_FESTIVO', 'SOLO_HORA'],\n",
      "      dtype='object')\n"
     ]
    }
   ],
   "source": [
    "print(semaforos.columns)\n",
    "print(b.columns)"
   ]
  },
  {
   "cell_type": "code",
   "execution_count": 48,
   "metadata": {},
   "outputs": [],
   "source": [
    "def distancia_auxiliar(x,lights=semaforos):\n",
    "    dx = (lights['LONGITUD']-x['LONGITUD'])*40000*np.cos((lights['LATITUD']+x['LATITUD'])*math.pi/360)/360\n",
    "    dy = (lights['LATITUD']-x['LATITUD'])*40000/360\n",
    "    dist=np.sqrt(dx**2+dy**2)\n",
    "    return(np.min(dist))\n",
    "    \n",
    "def distancia_semaforos(df=b,lights=semaforos):\n",
    "    return(df.apply(distancia_auxiliar,axis=1))\n",
    "#     return([np.min(distancia_auxiliar(x=[aux1,aux2])) for (aux1,aux2) in zip(df[['LATITUD'],df['LONGITUD']])])\n",
    "#     for i in range(df.shape[0]):\n",
    "#         aux=df.iloc[i,:][['LATITUD','LONGITUD']]\n",
    "#         dx = (lights['LONGITUD']-aux['LONGITUD'])*40000*np.cos((lights['LATITUD']+aux['LATITUD'])*math.pi/360)/360\n",
    "#         dy = (lights['LONGITUD']-aux['LATITUD'])*40000/360\n",
    "#         dist=np.sqrt(dx**2+dy**2)\n",
    "#         np.min(dist)"
   ]
  },
  {
   "cell_type": "code",
   "execution_count": 49,
   "metadata": {},
   "outputs": [
    {
     "name": "stdout",
     "output_type": "stream",
     "text": [
      "--- 9.43163013458252 seconds ---\n"
     ]
    }
   ],
   "source": [
    "start_time = time.time()\n",
    "a=distancia_semaforos()\n",
    "print(\"--- %s seconds ---\" % (time.time() - start_time))"
   ]
  },
  {
   "cell_type": "code",
   "execution_count": 50,
   "metadata": {},
   "outputs": [
    {
     "data": {
      "text/plain": [
       "0       2.074364\n",
       "1       1.507733\n",
       "2       1.630849\n",
       "3       1.294282\n",
       "4       2.777795\n",
       "          ...   \n",
       "5825    2.691293\n",
       "5826    2.772020\n",
       "5827    2.811648\n",
       "5828    2.858991\n",
       "5829    2.991998\n",
       "Length: 5830, dtype: float64"
      ]
     },
     "execution_count": 50,
     "metadata": {},
     "output_type": "execute_result"
    }
   ],
   "source": [
    "a"
   ]
  }
 ],
 "metadata": {
  "kernelspec": {
   "display_name": "Python 3",
   "language": "python",
   "name": "python3"
  },
  "language_info": {
   "codemirror_mode": {
    "name": "ipython",
    "version": 3
   },
   "file_extension": ".py",
   "mimetype": "text/x-python",
   "name": "python",
   "nbconvert_exporter": "python",
   "pygments_lexer": "ipython3",
   "version": "3.7.4"
  },
  "varInspector": {
   "cols": {
    "lenName": 16,
    "lenType": 16,
    "lenVar": 40
   },
   "kernels_config": {
    "python": {
     "delete_cmd_postfix": "",
     "delete_cmd_prefix": "del ",
     "library": "var_list.py",
     "varRefreshCmd": "print(var_dic_list())"
    },
    "r": {
     "delete_cmd_postfix": ") ",
     "delete_cmd_prefix": "rm(",
     "library": "var_list.r",
     "varRefreshCmd": "cat(var_dic_list()) "
    }
   },
   "oldHeight": 122.4,
   "position": {
    "height": "40px",
    "left": "398.2px",
    "right": "20px",
    "top": "120px",
    "width": "350px"
   },
   "types_to_exclude": [
    "module",
    "function",
    "builtin_function_or_method",
    "instance",
    "_Feature"
   ],
   "varInspector_section_display": "none",
   "window_display": false
  }
 },
 "nbformat": 4,
 "nbformat_minor": 2
}
