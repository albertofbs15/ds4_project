{
 "cells": [
  {
   "cell_type": "code",
   "execution_count": 25,
   "metadata": {},
   "outputs": [],
   "source": [
    "import numpy as np\n",
    "import pandas as pd"
   ]
  },
  {
   "cell_type": "code",
   "execution_count": 32,
   "metadata": {},
   "outputs": [],
   "source": [
    "#hipotesis=pd.read_excel('hipotesis.xlsx')\n",
    "datos=pd.read_excel('datos_joined_UTF8.xlsx')\n"
   ]
  },
  {
   "cell_type": "code",
   "execution_count": 27,
   "metadata": {},
   "outputs": [],
   "source": [
    "hipotesis_filtrado=hipotesis[(hipotesis['AÑO ACCIDENTE']<=2019) & (hipotesis['MES ACCIDENTE']<=7)]\n",
    "hipotesis_filtrado.loc[:,'DESC CLASE']=hipotesis_filtrado['DESC CLASE'].fillna('NO REGISTRA')"
   ]
  },
  {
   "cell_type": "code",
   "execution_count": 31,
   "metadata": {},
   "outputs": [],
   "source": [
    "hipotesis_filtrado.loc[:,'MOTOCICLETA']=0\n",
    "hipotesis_filtrado.loc[:,'AUTOMOVIL']=0\n",
    "hipotesis_filtrado.loc[:,'CAMIONETA']=0\n",
    "hipotesis_filtrado.loc[:,'BUS']=0\n",
    "hipotesis_filtrado.loc[:,'CAMION']=0\n",
    "hipotesis_filtrado.loc[:,'CAMPERO']=0\n",
    "hipotesis_filtrado.loc[:,'BUSETA']=0\n",
    "hipotesis_filtrado.loc[:,'BICICLETA']=0\n",
    "hipotesis_filtrado.loc[:,'MICROBUS']=0\n",
    "hipotesis_filtrado.loc[:,'TRACTO/CAMION']=0\n",
    "hipotesis_filtrado.loc[:,'VOLQUETA']=0\n",
    "hipotesis_filtrado.loc[:,'MOTOCARRO']=0\n",
    "hipotesis_filtrado.loc[:,'DESCONOCIDA']=0\n",
    "hipotesis_filtrado.loc[:,'CUATRIMOTO']=0\n",
    "hipotesis_filtrado.loc[:,'MAQUINARIA AGRICOLA']=0\n",
    "hipotesis_filtrado.loc[:,'TRACCION ANIMAL']=0\n",
    "hipotesis_filtrado.loc[:,'MAQUINARIA INDUSTRIAL']=0\n",
    "hipotesis_filtrado.loc[:,'CAMION (RNMA)']=0\n",
    "hipotesis_filtrado.loc[:,'DUMPER VOLQUETAARTICULADA']=0\n",
    "hipotesis_filtrado.loc[:,'REMOLQUE']=0\n",
    "hipotesis_filtrado.loc[:,'SEMIREMOLQUE']=0\n",
    "hipotesis_filtrado.loc[:,'RETROEXCAVADORA']=0\n",
    "hipotesis_filtrado.loc[:,'MONTACARGAS']=0\n",
    "hipotesis_filtrado.loc[:,'BUS ARTICULADO']=0\n",
    "hipotesis_filtrado.loc[:,'MINICARGADOR']=0\n",
    "hipotesis_filtrado.loc[:,'MINI EXCAVADORA']=0\n",
    "hipotesis_filtrado.loc[:,'NO REGISTRA']=0"
   ]
  },
  {
   "cell_type": "code",
   "execution_count": 37,
   "metadata": {},
   "outputs": [],
   "source": [
    "hipotesis_agrupado=hipotesis_filtrado.groupby('ID')\n",
    "hipotesis_auxiliar=pd.DataFrame().reindex_like(hipotesis_filtrado).dropna()"
   ]
  },
  {
   "cell_type": "code",
   "execution_count": 31,
   "metadata": {
    "scrolled": false
   },
   "outputs": [],
   "source": [
    "for grupo in hipotesis_agrupado:\n",
    "    aux=grupo[1].copy()\n",
    "    unico=aux['DESC CLASE'].unique()\n",
    "    for vehiculo in unico:\n",
    "        conteo=len(aux[aux['DESC CLASE']==vehiculo])\n",
    "        aux.loc[:,vehiculo]=conteo\n",
    "    hipotesis_auxiliar=hipotesis_auxiliar.append(aux)\n",
    "\n",
    "        "
   ]
  },
  {
   "cell_type": "code",
   "execution_count": 45,
   "metadata": {},
   "outputs": [],
   "source": [
    "hipotesis_auxiliar.reset_index().to_csv('hipotesis_transformadas.csv')"
   ]
  },
  {
   "cell_type": "markdown",
   "metadata": {},
   "source": [
    "# Ya en lo anterior se hizo la creación y valores de las nuevas variables.\n",
    "### Ahora vamos a fucionar las filas."
   ]
  },
  {
   "cell_type": "code",
   "execution_count": 10,
   "metadata": {},
   "outputs": [],
   "source": [
    "#hipotesis_transformadas=pd.read_csv('hipotesis_transformadas.csv')\n",
    "hipotesis_transformadas=hipotesis_transformadas.iloc[:,2:]"
   ]
  },
  {
   "cell_type": "code",
   "execution_count": 16,
   "metadata": {},
   "outputs": [],
   "source": [
    "agrupado=hipotesis_transformadas.groupby('ID')\n",
    "#print(hipotesis_transformadas.sort_values(by='ID').loc[0])\n",
    "#print(hipotesis_transformadas.sort_values(by='ID').loc[1])"
   ]
  },
  {
   "cell_type": "code",
   "execution_count": 29,
   "metadata": {},
   "outputs": [],
   "source": [
    "lista_auxiliar=pd.DataFrame().reindex_like(hipotesis_transformadas).dropna()\n",
    "for i in agrupado:\n",
    "    aux=i[1]\n",
    "    lista_auxiliar=lista_auxiliar.append([aux.iloc[0,:]])"
   ]
  },
  {
   "cell_type": "code",
   "execution_count": 30,
   "metadata": {},
   "outputs": [],
   "source": [
    "lista_auxiliar.to_csv('hipotesis_transformadas.csv')"
   ]
  },
  {
   "cell_type": "code",
   "execution_count": 37,
   "metadata": {},
   "outputs": [],
   "source": [
    "# print(datos.columns)\n",
    "# print(lista_auxiliar.columns)\n",
    "final=pd.merge(left=datos,right=lista_auxiliar,how='inner', on='ID')"
   ]
  },
  {
   "cell_type": "code",
   "execution_count": 41,
   "metadata": {
    "scrolled": true
   },
   "outputs": [],
   "source": [
    "final.to_csv(\"final.csv\",encoding='ANSI')"
   ]
  }
 ],
 "metadata": {
  "file_extension": ".py",
  "kernelspec": {
   "display_name": "Python 3",
   "language": "python",
   "name": "python3"
  },
  "language_info": {
   "codemirror_mode": {
    "name": "ipython",
    "version": 3
   },
   "file_extension": ".py",
   "mimetype": "text/x-python",
   "name": "python",
   "nbconvert_exporter": "python",
   "pygments_lexer": "ipython3",
   "version": "3.7.4"
  },
  "mimetype": "text/x-python",
  "name": "python",
  "npconvert_exporter": "python",
  "pygments_lexer": "ipython3",
  "varInspector": {
   "cols": {
    "lenName": 16,
    "lenType": 16,
    "lenVar": 40
   },
   "kernels_config": {
    "python": {
     "delete_cmd_postfix": "",
     "delete_cmd_prefix": "del ",
     "library": "var_list.py",
     "varRefreshCmd": "print(var_dic_list())"
    },
    "r": {
     "delete_cmd_postfix": ") ",
     "delete_cmd_prefix": "rm(",
     "library": "var_list.r",
     "varRefreshCmd": "cat(var_dic_list()) "
    }
   },
   "types_to_exclude": [
    "module",
    "function",
    "builtin_function_or_method",
    "instance",
    "_Feature"
   ],
   "window_display": true
  },
  "version": 3
 },
 "nbformat": 4,
 "nbformat_minor": 2
}
