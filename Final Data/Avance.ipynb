{
 "cells": [
  {
   "cell_type": "code",
   "execution_count": 1,
   "metadata": {},
   "outputs": [],
   "source": [
    "import numpy as np\n",
    "import pandas as pd\n",
    "import math\n",
    "import statsmodels.api as sm\n",
    "import matplotlib.pyplot as plt\n",
    "from statsmodels.formula.api import glm\n",
    "import collections\n",
    "from statsmodels.sandbox.stats.multicomp import multipletests\n"
   ]
  },
  {
   "cell_type": "code",
   "execution_count": 8,
   "metadata": {},
   "outputs": [],
   "source": [
    "df=pd.read_csv('Final_poisson.csv').iloc[:,1:]"
   ]
  },
  {
   "cell_type": "code",
   "execution_count": 52,
   "metadata": {},
   "outputs": [],
   "source": [
    "import time"
   ]
  },
  {
   "cell_type": "code",
   "execution_count": 136,
   "metadata": {},
   "outputs": [],
   "source": [
    "def conteo(newdf=df):\n",
    "    #dff=newdf.groupby(['LAT_LON']).count().reset_index()\n",
    "    conteos=newdf[['LAT_LON','SITIO_EXACTO_ACCIDENTE']].groupby(['LAT_LON','SITIO_EXACTO_ACCIDENTE']).size().reset_index(name='count')\n",
    "#     columnas=conteos.columns\n",
    "#     list_accidents=pd.DataFrame(columns=columnas)\n",
    "    list_accidents=[]\n",
    "    lat_lon=[]\n",
    "\n",
    "    lat_lon_unico=np.unique(conteos['LAT_LON'])\n",
    "\n",
    "    for i in range(len(lat_lon_unico)):\n",
    "        a=conteos[conteos['LAT_LON']==lat_lon_unico[i]]\n",
    "        #a = [x for x in conteos if x['LAT_LON'] == lat_lon_unico[i]]\n",
    "        suma=np.sum(a['count'])\n",
    "        if np.max(a['count'])/suma>0.3:\n",
    "            list_accidents.append(suma)\n",
    "            lat_lon.append(lat_lon_unico[i])\n",
    "\n",
    "    return(pd.DataFrame({'LAT_LON':lat_lon,'count':list_accidents}))\n",
    "            "
   ]
  },
  {
   "cell_type": "code",
   "execution_count": 137,
   "metadata": {},
   "outputs": [
    {
     "name": "stdout",
     "output_type": "stream",
     "text": [
      "--- 9.227507829666138 seconds ---\n"
     ]
    }
   ],
   "source": [
    "start_time = time.time()\n",
    "a=conteo()\n",
    "print(\"--- %s seconds ---\" % (time.time() - start_time))"
   ]
  },
  {
   "cell_type": "code",
   "execution_count": 98,
   "metadata": {},
   "outputs": [
    {
     "data": {
      "text/html": [
       "<div>\n",
       "<style scoped>\n",
       "    .dataframe tbody tr th:only-of-type {\n",
       "        vertical-align: middle;\n",
       "    }\n",
       "\n",
       "    .dataframe tbody tr th {\n",
       "        vertical-align: top;\n",
       "    }\n",
       "\n",
       "    .dataframe thead th {\n",
       "        text-align: right;\n",
       "    }\n",
       "</style>\n",
       "<table border=\"1\" class=\"dataframe\">\n",
       "  <thead>\n",
       "    <tr style=\"text-align: right;\">\n",
       "      <th></th>\n",
       "      <th>LAT_LON</th>\n",
       "      <th>count</th>\n",
       "    </tr>\n",
       "  </thead>\n",
       "  <tbody>\n",
       "    <tr>\n",
       "      <td>5767</td>\n",
       "      <td>11.0263731 -74.8037791</td>\n",
       "      <td>98</td>\n",
       "    </tr>\n",
       "    <tr>\n",
       "      <td>833</td>\n",
       "      <td>10.948341000000001 -74.77345809999998</td>\n",
       "      <td>93</td>\n",
       "    </tr>\n",
       "    <tr>\n",
       "      <td>1147</td>\n",
       "      <td>10.954438699999999 -74.83577079999998</td>\n",
       "      <td>87</td>\n",
       "    </tr>\n",
       "    <tr>\n",
       "      <td>760</td>\n",
       "      <td>10.9468864 -74.7848518</td>\n",
       "      <td>86</td>\n",
       "    </tr>\n",
       "    <tr>\n",
       "      <td>5451</td>\n",
       "      <td>11.0145774 -74.82753829999999</td>\n",
       "      <td>76</td>\n",
       "    </tr>\n",
       "    <tr>\n",
       "      <td>...</td>\n",
       "      <td>...</td>\n",
       "      <td>...</td>\n",
       "    </tr>\n",
       "    <tr>\n",
       "      <td>2405</td>\n",
       "      <td>10.9755994 -74.78795840000002</td>\n",
       "      <td>1</td>\n",
       "    </tr>\n",
       "    <tr>\n",
       "      <td>2406</td>\n",
       "      <td>10.975601600000001 -74.7758872</td>\n",
       "      <td>1</td>\n",
       "    </tr>\n",
       "    <tr>\n",
       "      <td>2407</td>\n",
       "      <td>10.975605999999999 -74.8362139</td>\n",
       "      <td>1</td>\n",
       "    </tr>\n",
       "    <tr>\n",
       "      <td>2408</td>\n",
       "      <td>10.975613000000001 -74.7831058</td>\n",
       "      <td>1</td>\n",
       "    </tr>\n",
       "    <tr>\n",
       "      <td>5829</td>\n",
       "      <td>11.043303 -74.8267913</td>\n",
       "      <td>1</td>\n",
       "    </tr>\n",
       "  </tbody>\n",
       "</table>\n",
       "<p>5830 rows × 2 columns</p>\n",
       "</div>"
      ],
      "text/plain": [
       "                                    LAT_LON  count\n",
       "5767                 11.0263731 -74.8037791     98\n",
       "833   10.948341000000001 -74.77345809999998     93\n",
       "1147  10.954438699999999 -74.83577079999998     87\n",
       "760                  10.9468864 -74.7848518     86\n",
       "5451          11.0145774 -74.82753829999999     76\n",
       "...                                     ...    ...\n",
       "2405          10.9755994 -74.78795840000002      1\n",
       "2406         10.975601600000001 -74.7758872      1\n",
       "2407         10.975605999999999 -74.8362139      1\n",
       "2408         10.975613000000001 -74.7831058      1\n",
       "5829                  11.043303 -74.8267913      1\n",
       "\n",
       "[5830 rows x 2 columns]"
      ]
     },
     "execution_count": 98,
     "metadata": {},
     "output_type": "execute_result"
    }
   ],
   "source": [
    "a.sort_values('count',ascending=False)"
   ]
  }
 ],
 "metadata": {
  "kernelspec": {
   "display_name": "Python 3",
   "language": "python",
   "name": "python3"
  },
  "language_info": {
   "codemirror_mode": {
    "name": "ipython",
    "version": 3
   },
   "file_extension": ".py",
   "mimetype": "text/x-python",
   "name": "python",
   "nbconvert_exporter": "python",
   "pygments_lexer": "ipython3",
   "version": "3.7.4"
  },
  "varInspector": {
   "cols": {
    "lenName": 16,
    "lenType": 16,
    "lenVar": 40
   },
   "kernels_config": {
    "python": {
     "delete_cmd_postfix": "",
     "delete_cmd_prefix": "del ",
     "library": "var_list.py",
     "varRefreshCmd": "print(var_dic_list())"
    },
    "r": {
     "delete_cmd_postfix": ") ",
     "delete_cmd_prefix": "rm(",
     "library": "var_list.r",
     "varRefreshCmd": "cat(var_dic_list()) "
    }
   },
   "oldHeight": 122.4,
   "position": {
    "height": "40px",
    "left": "398.2px",
    "right": "20px",
    "top": "120px",
    "width": "350px"
   },
   "types_to_exclude": [
    "module",
    "function",
    "builtin_function_or_method",
    "instance",
    "_Feature"
   ],
   "varInspector_section_display": "none",
   "window_display": false
  }
 },
 "nbformat": 4,
 "nbformat_minor": 2
}
