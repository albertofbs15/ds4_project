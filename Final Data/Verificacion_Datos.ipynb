{
 "cells": [
  {
   "cell_type": "code",
   "execution_count": 1,
   "metadata": {},
   "outputs": [],
   "source": [
    "import numpy as np\n",
    "import pandas as pd\n",
    "import folium # package for making maps, please make sure to use a version older than 1.0.0.\n",
    "df=pd.read_csv('Final_Final.csv').iloc[:,1:]"
   ]
  },
  {
   "cell_type": "code",
   "execution_count": 6,
   "metadata": {},
   "outputs": [
    {
     "data": {
      "text/plain": [
       "True"
      ]
     },
     "execution_count": 6,
     "metadata": {},
     "output_type": "execute_result"
    }
   ],
   "source": [
    "'VIA 40' in df['SITIO_EXACTO_ACCIDENTE'][1]"
   ]
  },
  {
   "cell_type": "code",
   "execution_count": 60,
   "metadata": {},
   "outputs": [
    {
     "data": {
      "text/plain": [
       "Index(['FECHA_ACCIDENTE', 'AÑO_ACCIDENTE', 'MES_ACCIDENTE', 'DIA_ACCIDENTE',\n",
       "       'HORA_ACCIDENTE', 'GRAVEDAD_ACCIDENTE', 'CLASE_ACCIDENTE',\n",
       "       'SITIO_EXACTO_ACCIDENTE', 'CANT_HERIDOS_EN _SITIO_ACCIDENTE',\n",
       "       'CANT_MUERTOS_EN _SITIO_ACCIDENTE', 'LONGITUD', 'LATITUD', 'POT',\n",
       "       'PIEZA_URBANA', 'BUS_SUBIDA', 'BUS_BAJADA', 'TRAFICO', 'ES_FESTIVO',\n",
       "       'TIPO_FESTIVO', 'DIA_DEL_AÑO', 'SEMANA_DEL_AÑO', 'CUATRIMESTRE_DEL_AÑO',\n",
       "       'JUNIOR_LOCAL', 'JUNIOR_VISITANTE', 'RESULTADO_LOCAL',\n",
       "       'RESULTADO_VISITANTE', 'JUNIOR_GANO', 'RELEVANCIA_PARTIDO',\n",
       "       'HIPOTESIS_ACCIDENTE', 'VEHICULO_MOTOCICLETA', 'VEHICULO_AUTOMOVIL',\n",
       "       'VEHICULO_CAMIONETA', 'VEHICULO_BUS', 'VEHICULO_CAMION',\n",
       "       'VEHICULO_CAMPERO', 'VEHICULO_BUSETA', 'VEHICULO_BICICLETA',\n",
       "       'VEHICULO_MICROBUS', 'VEHICULO_TRACTO_CAMION', 'VEHICULO_VOLQUETA',\n",
       "       'VEHICULO_MOTOCARRO', 'VEHICULO_DESCONOCIDO', 'VEHICULO_CUATRIMOTO',\n",
       "       'VEHICULO_MAQUINARIA_AGRICOLA', 'VEHICULO_TRACCION_ANIMAL',\n",
       "       'VEHICULO_MAQUIRIA_INDUSTRIAL', 'VEHICULO_CAMION_RNMA',\n",
       "       'VEHICULO_DUMPER_VOLQUETAARTICULADA', 'VEHICULO_REMOLQUE',\n",
       "       'VEHICULO_SEMIREMOLQUE', 'VEHICULO_RETROEXCAVADORA',\n",
       "       'VEHICULO_MONTACARGAS', 'VEHICULO_BUS_ARTICULADO',\n",
       "       'VEHICULO_MINICARGADOR', 'VEHICULO_MINI_EXCAVADORA',\n",
       "       'VEHICULO_NO_REGISTRA', 'SOLO_HORA'],\n",
       "      dtype='object')"
      ]
     },
     "execution_count": 60,
     "metadata": {},
     "output_type": "execute_result"
    }
   ],
   "source": [
    "df.columns"
   ]
  },
  {
   "cell_type": "code",
   "execution_count": 122,
   "metadata": {},
   "outputs": [
    {
     "data": {
      "text/plain": [
       "array([0.00392157, 0.03137255, 0.04313726, 0.05882353, 0.0627451 ,\n",
       "       0.06666667, 0.07058824, 0.08627451, 0.09019608, 0.10196079,\n",
       "       0.10588235, 0.10980392, 0.11372549, 0.12156863, 0.13333334,\n",
       "       0.13725491, 0.14509805, 0.14901961, 0.15294118, 0.15686275,\n",
       "       0.18039216, 0.18431373, 0.1882353 , 0.19215687, 0.19607843,\n",
       "       0.22352941, 0.22745098, 0.23137255, 0.23529412, 0.25098041,\n",
       "       0.27058825, 0.27450982, 0.27843139, 0.29019609, 0.29411766,\n",
       "       0.29803923, 0.30980393, 0.3137255 , 0.31764707, 0.32156864,\n",
       "       0.32941177, 0.33333334, 0.33725491, 0.35294119, 0.35686275,\n",
       "       0.36078432, 0.38039216, 0.38431373, 0.3882353 , 0.39607844,\n",
       "       0.40000001, 0.40392157, 0.41176471, 0.41568628, 0.47058824,\n",
       "       0.49411765, 0.49803922, 0.54901963, 0.5529412 , 0.55686277,\n",
       "       0.56078434, 0.60000002, 0.60392159, 0.64705884, 0.65098041,\n",
       "       0.7019608 , 0.70588237])"
      ]
     },
     "execution_count": 122,
     "metadata": {},
     "output_type": "execute_result"
    }
   ],
   "source": [
    "pieza_urbana_unica=np.unique(df.TRAFICO)\n",
    "pieza_urbana_unica"
   ]
  },
  {
   "cell_type": "code",
   "execution_count": 121,
   "metadata": {},
   "outputs": [
    {
     "data": {
      "text/plain": [
       "67"
      ]
     },
     "execution_count": 121,
     "metadata": {},
     "output_type": "execute_result"
    }
   ],
   "source": [
    "len(pieza_urbana_unica)"
   ]
  },
  {
   "cell_type": "code",
   "execution_count": 128,
   "metadata": {},
   "outputs": [],
   "source": [
    "pieza_urbana=df[df['TRAFICO']==pieza_urbana_unica[66]][['LATITUD','LONGITUD']].reset_index(drop=True)"
   ]
  },
  {
   "cell_type": "code",
   "execution_count": 129,
   "metadata": {},
   "outputs": [],
   "source": [
    "folium_map= folium.Map(location=[10.995590, -74.808400],\n",
    "                        zoom_start=13,\n",
    "                        tiles=\"OpenStreetMap\")\n",
    "aux=pieza_urbana\n",
    "for i in range(pieza_urbana.shape[0]):\n",
    "    folium.CircleMarker(location=[aux['LATITUD'][i],aux['LONGITUD'][i]],radius=2).add_to(folium_map)\n",
    "    \n",
    "folium_map.save('.html')\n",
    "    \n",
    "\n",
    "\n"
   ]
  }
 ],
 "metadata": {
  "kernelspec": {
   "display_name": "Python 3",
   "language": "python",
   "name": "python3"
  },
  "language_info": {
   "codemirror_mode": {
    "name": "ipython",
    "version": 3
   },
   "file_extension": ".py",
   "mimetype": "text/x-python",
   "name": "python",
   "nbconvert_exporter": "python",
   "pygments_lexer": "ipython3",
   "version": "3.7.5"
  },
  "varInspector": {
   "cols": {
    "lenName": 16,
    "lenType": 16,
    "lenVar": 40
   },
   "kernels_config": {
    "python": {
     "delete_cmd_postfix": "",
     "delete_cmd_prefix": "del ",
     "library": "var_list.py",
     "varRefreshCmd": "print(var_dic_list())"
    },
    "r": {
     "delete_cmd_postfix": ") ",
     "delete_cmd_prefix": "rm(",
     "library": "var_list.r",
     "varRefreshCmd": "cat(var_dic_list()) "
    }
   },
   "types_to_exclude": [
    "module",
    "function",
    "builtin_function_or_method",
    "instance",
    "_Feature"
   ],
   "window_display": false
  }
 },
 "nbformat": 4,
 "nbformat_minor": 2
}
