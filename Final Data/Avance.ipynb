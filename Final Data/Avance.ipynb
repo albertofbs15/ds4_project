{
 "cells": [
  {
   "cell_type": "code",
   "execution_count": 2,
   "metadata": {},
   "outputs": [],
   "source": [
    "import numpy as np\n",
    "import pandas as pd\n",
    "import math\n",
    "import statsmodels.api as sm\n",
    "import matplotlib.pyplot as plt\n",
    "from statsmodels.formula.api import glm\n",
    "import collections\n",
    "from statsmodels.sandbox.stats.multicomp import multipletests\n",
    "import time\n",
    "from folium import plugins\n",
    "import folium\n",
    "from folium.plugins import HeatMap\n",
    "from folium.plugins import HeatMapWithTime\n",
    "import os\n",
    "from calendar import month_name\n",
    "import datetime"
   ]
  },
  {
   "cell_type": "code",
   "execution_count": 3,
   "metadata": {},
   "outputs": [],
   "source": [
    "df=pd.read_csv('Final_poisson.csv').iloc[:,1:]"
   ]
  },
  {
   "cell_type": "code",
   "execution_count": 4,
   "metadata": {},
   "outputs": [],
   "source": [
    "def conteo_perf(newdf=df):\n",
    "    df_drop=newdf.drop_duplicates(subset='LAT_LON') \n",
    "    conteos=newdf[['LAT_LON','SITIO_EXACTO_ACCIDENTE']].groupby(['LAT_LON','SITIO_EXACTO_ACCIDENTE']).size().reset_index(name='count')\n",
    "    grp_conteos = conteos.groupby('LAT_LON')['count'].agg(['sum','max'])\n",
    "    grp_conteos['sum_rate'] = grp_conteos['max'] / grp_conteos['sum']\n",
    "    filtered_conteos = grp_conteos[grp_conteos['sum_rate'] > 0.3]\n",
    "    return_df = filtered_conteos.drop(['max', 'sum_rate'], axis=1)\n",
    "    return_df.rename(columns = {'sum':'NACCIDENTS'}, inplace = True) \n",
    "    fusion=pd.merge(return_df,df_drop,on='LAT_LON',how='inner')[['NACCIDENTS','AÑO_ACCIDENTE','MES_ACCIDENTE',\n",
    "                                                     'CLASE_ACCIDENTE','LONGITUD', 'LATITUD',\n",
    "                                                     'POT', 'PIEZA_URBANA', 'BUS_SUBIDA','BUS_BAJADA', \n",
    "                                                     'TRAFICO','ES_FESTIVO','SOLO_HORA','DIA_ACCIDENTE','JUNIOR_JUGO']].reset_index().iloc[:,1:]\n",
    "    return(fusion)"
   ]
  },
  {
   "cell_type": "code",
   "execution_count": 5,
   "metadata": {},
   "outputs": [],
   "source": [
    "semaforos=pd.read_csv('lights_clean.csv')[['LATITUD','LONGITUD']]"
   ]
  },
  {
   "cell_type": "code",
   "execution_count": 6,
   "metadata": {},
   "outputs": [],
   "source": [
    "def distancia_semaforos_mas_rapido(final_df,lights=semaforos):\n",
    "    closest=np.zeros(final_df.shape[0])\n",
    "    numclose=np.zeros(final_df.shape[0])\n",
    "    numclose2=np.zeros(final_df.shape[0])\n",
    "    numclose3=np.zeros(final_df.shape[0])\n",
    "    for i in range(final_df.shape[0]):\n",
    "        corner_lat=final_df['LATITUD'][i]\n",
    "        corner_lon=final_df['LONGITUD'][i]\n",
    "        light_lat=np.array(lights['LATITUD'])\n",
    "        light_lon=np.array(lights['LONGITUD'])\n",
    "        dx = (light_lon-corner_lon)*40000*np.cos((light_lat+corner_lat)*math.pi/360)/360\n",
    "        dy = (light_lat-corner_lat)*40000/360\n",
    "        distance=np.sqrt(dx**2+dy**2)\n",
    "        closest[i]=distance[distance.argmin()]\n",
    "        numclose[i]=np.sum(distance<0.1)\n",
    "        numclose2[i]=np.sum(((distance>=0.1) & (distance<0.5)))\n",
    "        numclose3[i]=np.sum(((distance>=0.5) & (distance<2)))\n",
    "    final_df['NLIGHTS']=list(numclose)\n",
    "    final_df['NLIGHTS2']=list(numclose2)\n",
    "    final_df['NLIGHTS3']=list(numclose3)\n",
    "    final_df['CLOSEST_LIGHT']=list(closest)\n",
    "    return(final_df)"
   ]
  },
  {
   "cell_type": "code",
   "execution_count": 7,
   "metadata": {},
   "outputs": [],
   "source": [
    "def modelo_poisson(dia=False,mes=False,hora=25, df=df,lights=semaforos,lights_aux=semaforos): #Ojo dia, festivo, mes, año tienen que ser excluyente, si uno es verdadero automaticamente los otros son falsos\n",
    "        if(mes!=False):\n",
    "            df=df[df.MES_ACCIDENTE==mes]\n",
    "        if(dia!=False):\n",
    "            df=df[df.DIA_ACCIDENTE==dia]\n",
    "        if(hora!=25):\n",
    "            df=df[df.SOLO_HORA==hora]\n",
    "        data=conteo_perf(newdf=df)\n",
    "        data_aux=data.copy()\n",
    "        data=distancia_semaforos_mas_rapido(final_df=data,lights=lights)\n",
    "        data_aux=distancia_semaforos_mas_rapido(final_df=data_aux,lights=lights_aux)\n",
    "        formula='NACCIDENTS~BUS_SUBIDA+BUS_BAJADA+POT+PIEZA_URBANA+NLIGHTS+NLIGHTS2+TRAFICO+CLOSEST_LIGHT'\n",
    "        model = glm(formula=formula, data=data, family=sm.families.Poisson()).fit()\n",
    "        data_aux['PREDICHOS']=model.predict(data_aux)   \n",
    "        data['PREDICHO']=model.predict()\n",
    "        return([data[['LATITUD','LONGITUD','PREDICHOS']],data_aux[['LATITUD','LONGITUD','PREDICHOS']]])"
   ]
  },
  {
   "cell_type": "code",
   "execution_count": 8,
   "metadata": {},
   "outputs": [],
   "source": [
    "def mapa_calor_año(lights_aux=semaforos):\n",
    "    id=datetime.datetime.now().strftime('%Y%m%d%H%M%S')\n",
    "    modelo=modelo_poisson(lights_aux=lights_aux)\n",
    "    mapa_barranquilla_observados = folium.Map(location=[10.980706, -74.807636],zoom_start=13,tiles=\"OpenStreetMap\")\n",
    "    mapa_barranquilla_predichos = folium.Map(location=[10.980706, -74.807636],zoom_start=13,tiles=\"OpenStreetMap\")\n",
    "    capa_calor_observados=HeatMap(modelo[0][['LATITUD','LONGITUD','PREDICHOS']],radius=15)\n",
    "    capa_calor_predichos=HeatMap(modelo[1][['LATITUD','LONGITUD','PREDICHOS']],radius=15)\n",
    "    mapa_barranquilla_predichos.add_child(capa_calor_predichos)\n",
    "    mapa_barranquilla_observados.add_child(capa_calor_observados)\n",
    "    mapa_barranquilla_observados.save('anho_asIs_'+id+'.html')\n",
    "    mapa_barranquilla_predichos.save('anho_toBe_'+id+'.html')\n",
    "    anho={}\n",
    "    anho['id']=id\n",
    "    anho['key']='Year'\n",
    "    anho['AsIs']='anho_asIs_'+id+'.html'\n",
    "    anho['toBe']='anho_toBe_'+id+'.html'\n",
    "    lista=[anho]\n",
    "    return(lista)\n",
    "\n",
    "def video_mapa_hora(horas=[0,1,2,3,4,5,6,7,8,9,10,11,12,13,14,15,16,17,18,19,20,21,22,23],lights_aux=semaforos):\n",
    "#     aux_predichos=[]\n",
    "#     aux_observados=[]\n",
    "    lista=[]\n",
    "    id=datetime.datetime.now().strftime('%Y%m%d%H%M%S')\n",
    "    for i in horas:\n",
    "        \n",
    "        modelo=modelo_poisson(hora=i,lights_aux=lights_aux)\n",
    "        mapa_barranquilla_observados = folium.Map(location=[10.980706, -74.807636],zoom_start=13,tiles=\"OpenStreetMap\")\n",
    "        mapa_barranquilla_predichos = folium.Map(location=[10.980706, -74.807636],zoom_start=13,tiles=\"OpenStreetMap\")\n",
    "        capa_calor_observados=HeatMap(modelo[0][['LATITUD','LONGITUD','PREDICHOS']],radius=15)\n",
    "        capa_calor_predichos=HeatMap(modelo[1][['LATITUD','LONGITUD','PREDICHOS']],radius=15)\n",
    "        mapa_barranquilla_predichos.add_child(capa_calor_predichos)\n",
    "        mapa_barranquilla_observados.add_child(capa_calor_observados)\n",
    "        mapa_barranquilla_observados.save('hora_'+str(i)+'_asIs_'+id+'.html')\n",
    "        mapa_barranquilla_predichos.save('hora_'+str(i)+'_toBe_'+id+'.html')\n",
    "        aux={}\n",
    "        aux['id']=id\n",
    "        aux['key']=str(i)\n",
    "        aux['asIs']='hora_'+str(i)+'_asIs_'+id+'.html'\n",
    "        aux['toBe']='hora_'+str(i)+'_toBe_'+id+'.html'\n",
    "        lista.append(aux)\n",
    "#         aux_predichos.append(mapa_barranquilla_predichos)\n",
    "#         aux_observados.append(mapa_barranquilla_observados)\n",
    "    return(lista)\n",
    "\n",
    "def video_mapa_mes(mes=[1,2,3,4,5,6,7,8,9,10,11,12],lights_aux=semaforos):\n",
    "#     aux_predichos=[]\n",
    "    lista=[]\n",
    "    id=datetime.datetime.now().strftime('%Y%m%d%H%M%S')\n",
    "#     aux_observados=[]\n",
    "    for i in mes:\n",
    "        modelo=modelo_poisson(mes=i,lights_aux=lights_aux)\n",
    "        mapa_barranquilla_observados = folium.Map(location=[10.980706, -74.807636],zoom_start=13,tiles=\"OpenStreetMap\")\n",
    "        mapa_barranquilla_predichos = folium.Map(location=[10.980706, -74.807636],zoom_start=13,tiles=\"OpenStreetMap\")\n",
    "        capa_calor_observados=HeatMap(modelo[0][['LATITUD','LONGITUD','PREDICHOS']],radius=15)\n",
    "        capa_calor_predichos=HeatMap(modelo[1][['LATITUD','LONGITUD','PREDICHOS']],radius=15)\n",
    "        mapa_barranquilla_predichos.add_child(capa_calor_predichos)\n",
    "        mapa_barranquilla_observados.add_child(capa_calor_observados)\n",
    "        mapa_barranquilla_observados.save('mes_'+month_name[i]+'_asIs_'+id+'.html')\n",
    "        mapa_barranquilla_predichos.save('mes_'+month_name[i]+'_toBe_'+id+'.html')\n",
    "#         aux_predichos.append(mapa_barranquilla_predichos)\n",
    "#         aux_observados.append(mapa_barranquilla_observados)\n",
    "        aux={}\n",
    "        aux['key']=month_name[i]\n",
    "        aux['id']=id\n",
    "        aux['asIs']='mes_'+month_name[i]+'_asIs_'+id+'.html'\n",
    "        aux['toBe']='mes_'+month_name[i]+'_toBe_'+id+'.html'\n",
    "        lista.append(aux)\n",
    "    return(lista)\n",
    "\n",
    "\n",
    "def video_mapa_dia(dias=['Lun','Mar','Mié','Jue','Vie','Sáb','Dom'],lights_aux=semaforos):\n",
    "#     aux_predichos=[]\n",
    "    lista=[]\n",
    "    id=datetime.datetime.now().strftime('%Y%m%d%H%M%S')\n",
    "#     aux_observados=[]\n",
    "    for i in dias:\n",
    "        modelo=modelo_poisson(dia=i,lights_aux=lights_aux)\n",
    "        mapa_barranquilla_observados = folium.Map(location=[10.980706, -74.807636],zoom_start=13,tiles=\"OpenStreetMap\")\n",
    "        mapa_barranquilla_predichos = folium.Map(location=[10.980706, -74.807636],zoom_start=13,tiles=\"OpenStreetMap\")\n",
    "        capa_calor_observados=HeatMap(modelo[0][['LATITUD','LONGITUD','PREDICHOS']],radius=15)\n",
    "        capa_calor_predichos=HeatMap(modelo[1][['LATITUD','LONGITUD','PREDICHOS']],radius=15)\n",
    "        mapa_barranquilla_predichos.add_child(capa_calor_predichos)\n",
    "        mapa_barranquilla_observados.add_child(capa_calor_observados)\n",
    "        mapa_barranquilla_observados.save('dia_'+i+'_asIs_'+id+'.html')\n",
    "        mapa_barranquilla_predichos.save('dia_'+i+'_toBe_'+id+'.html')\n",
    "        aux={}\n",
    "        aux['id']=id\n",
    "        aux['key']=i\n",
    "        aux['asIs']='dia_'+i+'_asIs_'+id+'.html'\n",
    "        aux['toBe']='dia_'+i+'_toBe_'+id+'.html'\n",
    "        lista.append(aux)        \n",
    "#         aux_predichos.append(mapa_barranquilla_predichos)\n",
    "#         aux_observados.append(mapa_barranquilla_observados)\n",
    "    return(lista)"
   ]
  },
  {
   "cell_type": "code",
   "execution_count": 9,
   "metadata": {},
   "outputs": [
    {
     "ename": "KeyError",
     "evalue": "\"['PREDICHOS'] not in index\"",
     "output_type": "error",
     "traceback": [
      "\u001b[1;31m---------------------------------------------------------------------------\u001b[0m",
      "\u001b[1;31mKeyError\u001b[0m                                  Traceback (most recent call last)",
      "\u001b[1;32m<ipython-input-9-850bfe6cd301>\u001b[0m in \u001b[0;36m<module>\u001b[1;34m\u001b[0m\n\u001b[0;32m      1\u001b[0m \u001b[1;31m#a=video_mapa_observados_dia()\u001b[0m\u001b[1;33m\u001b[0m\u001b[1;33m\u001b[0m\u001b[1;33m\u001b[0m\u001b[0m\n\u001b[0;32m      2\u001b[0m \u001b[0mstart_time\u001b[0m \u001b[1;33m=\u001b[0m \u001b[0mtime\u001b[0m\u001b[1;33m.\u001b[0m\u001b[0mtime\u001b[0m\u001b[1;33m(\u001b[0m\u001b[1;33m)\u001b[0m\u001b[1;33m\u001b[0m\u001b[1;33m\u001b[0m\u001b[0m\n\u001b[1;32m----> 3\u001b[1;33m \u001b[0ma\u001b[0m\u001b[1;33m=\u001b[0m\u001b[0mvideo_mapa_dia\u001b[0m\u001b[1;33m(\u001b[0m\u001b[0mlights_aux\u001b[0m\u001b[1;33m=\u001b[0m\u001b[0msemaforos\u001b[0m\u001b[1;33m)\u001b[0m\u001b[1;33m\u001b[0m\u001b[1;33m\u001b[0m\u001b[0m\n\u001b[0m\u001b[0;32m      4\u001b[0m \u001b[0mprint\u001b[0m\u001b[1;33m(\u001b[0m\u001b[1;34m\"--- %s seconds ---\"\u001b[0m \u001b[1;33m%\u001b[0m \u001b[1;33m(\u001b[0m\u001b[0mtime\u001b[0m\u001b[1;33m.\u001b[0m\u001b[0mtime\u001b[0m\u001b[1;33m(\u001b[0m\u001b[1;33m)\u001b[0m \u001b[1;33m-\u001b[0m \u001b[0mstart_time\u001b[0m\u001b[1;33m)\u001b[0m\u001b[1;33m)\u001b[0m\u001b[1;33m\u001b[0m\u001b[1;33m\u001b[0m\u001b[0m\n",
      "\u001b[1;32m<ipython-input-8-9b39c603d632>\u001b[0m in \u001b[0;36mvideo_mapa_dia\u001b[1;34m(dias, lights_aux)\u001b[0m\n\u001b[0;32m     76\u001b[0m \u001b[1;31m#     aux_observados=[]\u001b[0m\u001b[1;33m\u001b[0m\u001b[1;33m\u001b[0m\u001b[1;33m\u001b[0m\u001b[0m\n\u001b[0;32m     77\u001b[0m     \u001b[1;32mfor\u001b[0m \u001b[0mi\u001b[0m \u001b[1;32min\u001b[0m \u001b[0mdias\u001b[0m\u001b[1;33m:\u001b[0m\u001b[1;33m\u001b[0m\u001b[1;33m\u001b[0m\u001b[0m\n\u001b[1;32m---> 78\u001b[1;33m         \u001b[0mmodelo\u001b[0m\u001b[1;33m=\u001b[0m\u001b[0mmodelo_poisson\u001b[0m\u001b[1;33m(\u001b[0m\u001b[0mdia\u001b[0m\u001b[1;33m=\u001b[0m\u001b[0mi\u001b[0m\u001b[1;33m,\u001b[0m\u001b[0mlights_aux\u001b[0m\u001b[1;33m=\u001b[0m\u001b[0mlights_aux\u001b[0m\u001b[1;33m)\u001b[0m\u001b[1;33m\u001b[0m\u001b[1;33m\u001b[0m\u001b[0m\n\u001b[0m\u001b[0;32m     79\u001b[0m         \u001b[0mmapa_barranquilla_observados\u001b[0m \u001b[1;33m=\u001b[0m \u001b[0mfolium\u001b[0m\u001b[1;33m.\u001b[0m\u001b[0mMap\u001b[0m\u001b[1;33m(\u001b[0m\u001b[0mlocation\u001b[0m\u001b[1;33m=\u001b[0m\u001b[1;33m[\u001b[0m\u001b[1;36m10.980706\u001b[0m\u001b[1;33m,\u001b[0m \u001b[1;33m-\u001b[0m\u001b[1;36m74.807636\u001b[0m\u001b[1;33m]\u001b[0m\u001b[1;33m,\u001b[0m\u001b[0mzoom_start\u001b[0m\u001b[1;33m=\u001b[0m\u001b[1;36m13\u001b[0m\u001b[1;33m,\u001b[0m\u001b[0mtiles\u001b[0m\u001b[1;33m=\u001b[0m\u001b[1;34m\"OpenStreetMap\"\u001b[0m\u001b[1;33m)\u001b[0m\u001b[1;33m\u001b[0m\u001b[1;33m\u001b[0m\u001b[0m\n\u001b[0;32m     80\u001b[0m         \u001b[0mmapa_barranquilla_predichos\u001b[0m \u001b[1;33m=\u001b[0m \u001b[0mfolium\u001b[0m\u001b[1;33m.\u001b[0m\u001b[0mMap\u001b[0m\u001b[1;33m(\u001b[0m\u001b[0mlocation\u001b[0m\u001b[1;33m=\u001b[0m\u001b[1;33m[\u001b[0m\u001b[1;36m10.980706\u001b[0m\u001b[1;33m,\u001b[0m \u001b[1;33m-\u001b[0m\u001b[1;36m74.807636\u001b[0m\u001b[1;33m]\u001b[0m\u001b[1;33m,\u001b[0m\u001b[0mzoom_start\u001b[0m\u001b[1;33m=\u001b[0m\u001b[1;36m13\u001b[0m\u001b[1;33m,\u001b[0m\u001b[0mtiles\u001b[0m\u001b[1;33m=\u001b[0m\u001b[1;34m\"OpenStreetMap\"\u001b[0m\u001b[1;33m)\u001b[0m\u001b[1;33m\u001b[0m\u001b[1;33m\u001b[0m\u001b[0m\n",
      "\u001b[1;32m<ipython-input-7-cd41d9da786d>\u001b[0m in \u001b[0;36mmodelo_poisson\u001b[1;34m(dia, mes, hora, df, lights, lights_aux)\u001b[0m\n\u001b[0;32m     14\u001b[0m         \u001b[0mdata_aux\u001b[0m\u001b[1;33m[\u001b[0m\u001b[1;34m'PREDICHOS'\u001b[0m\u001b[1;33m]\u001b[0m\u001b[1;33m=\u001b[0m\u001b[0mmodel\u001b[0m\u001b[1;33m.\u001b[0m\u001b[0mpredict\u001b[0m\u001b[1;33m(\u001b[0m\u001b[0mdata_aux\u001b[0m\u001b[1;33m)\u001b[0m\u001b[1;33m\u001b[0m\u001b[1;33m\u001b[0m\u001b[0m\n\u001b[0;32m     15\u001b[0m         \u001b[0mdata\u001b[0m\u001b[1;33m[\u001b[0m\u001b[1;34m'PREDICHO'\u001b[0m\u001b[1;33m]\u001b[0m\u001b[1;33m=\u001b[0m\u001b[0mmodel\u001b[0m\u001b[1;33m.\u001b[0m\u001b[0mpredict\u001b[0m\u001b[1;33m(\u001b[0m\u001b[1;33m)\u001b[0m\u001b[1;33m\u001b[0m\u001b[1;33m\u001b[0m\u001b[0m\n\u001b[1;32m---> 16\u001b[1;33m         \u001b[1;32mreturn\u001b[0m\u001b[1;33m(\u001b[0m\u001b[1;33m[\u001b[0m\u001b[0mdata\u001b[0m\u001b[1;33m[\u001b[0m\u001b[1;33m[\u001b[0m\u001b[1;34m'LATITUD'\u001b[0m\u001b[1;33m,\u001b[0m\u001b[1;34m'LONGITUD'\u001b[0m\u001b[1;33m,\u001b[0m\u001b[1;34m'PREDICHOS'\u001b[0m\u001b[1;33m]\u001b[0m\u001b[1;33m]\u001b[0m\u001b[1;33m,\u001b[0m\u001b[0mdata_aux\u001b[0m\u001b[1;33m[\u001b[0m\u001b[1;33m[\u001b[0m\u001b[1;34m'LATITUD'\u001b[0m\u001b[1;33m,\u001b[0m\u001b[1;34m'LONGITUD'\u001b[0m\u001b[1;33m,\u001b[0m\u001b[1;34m'PREDICHOS'\u001b[0m\u001b[1;33m]\u001b[0m\u001b[1;33m]\u001b[0m\u001b[1;33m]\u001b[0m\u001b[1;33m)\u001b[0m\u001b[1;33m\u001b[0m\u001b[1;33m\u001b[0m\u001b[0m\n\u001b[0m",
      "\u001b[1;32m~\\Documents\\DS4A\\lib\\site-packages\\pandas\\core\\frame.py\u001b[0m in \u001b[0;36m__getitem__\u001b[1;34m(self, key)\u001b[0m\n\u001b[0;32m   2999\u001b[0m             \u001b[1;32mif\u001b[0m \u001b[0mis_iterator\u001b[0m\u001b[1;33m(\u001b[0m\u001b[0mkey\u001b[0m\u001b[1;33m)\u001b[0m\u001b[1;33m:\u001b[0m\u001b[1;33m\u001b[0m\u001b[1;33m\u001b[0m\u001b[0m\n\u001b[0;32m   3000\u001b[0m                 \u001b[0mkey\u001b[0m \u001b[1;33m=\u001b[0m \u001b[0mlist\u001b[0m\u001b[1;33m(\u001b[0m\u001b[0mkey\u001b[0m\u001b[1;33m)\u001b[0m\u001b[1;33m\u001b[0m\u001b[1;33m\u001b[0m\u001b[0m\n\u001b[1;32m-> 3001\u001b[1;33m             \u001b[0mindexer\u001b[0m \u001b[1;33m=\u001b[0m \u001b[0mself\u001b[0m\u001b[1;33m.\u001b[0m\u001b[0mloc\u001b[0m\u001b[1;33m.\u001b[0m\u001b[0m_convert_to_indexer\u001b[0m\u001b[1;33m(\u001b[0m\u001b[0mkey\u001b[0m\u001b[1;33m,\u001b[0m \u001b[0maxis\u001b[0m\u001b[1;33m=\u001b[0m\u001b[1;36m1\u001b[0m\u001b[1;33m,\u001b[0m \u001b[0mraise_missing\u001b[0m\u001b[1;33m=\u001b[0m\u001b[1;32mTrue\u001b[0m\u001b[1;33m)\u001b[0m\u001b[1;33m\u001b[0m\u001b[1;33m\u001b[0m\u001b[0m\n\u001b[0m\u001b[0;32m   3002\u001b[0m \u001b[1;33m\u001b[0m\u001b[0m\n\u001b[0;32m   3003\u001b[0m         \u001b[1;31m# take() does not accept boolean indexers\u001b[0m\u001b[1;33m\u001b[0m\u001b[1;33m\u001b[0m\u001b[1;33m\u001b[0m\u001b[0m\n",
      "\u001b[1;32m~\\Documents\\DS4A\\lib\\site-packages\\pandas\\core\\indexing.py\u001b[0m in \u001b[0;36m_convert_to_indexer\u001b[1;34m(self, obj, axis, is_setter, raise_missing)\u001b[0m\n\u001b[0;32m   1283\u001b[0m                 \u001b[1;31m# When setting, missing keys are not allowed, even with .loc:\u001b[0m\u001b[1;33m\u001b[0m\u001b[1;33m\u001b[0m\u001b[1;33m\u001b[0m\u001b[0m\n\u001b[0;32m   1284\u001b[0m                 \u001b[0mkwargs\u001b[0m \u001b[1;33m=\u001b[0m \u001b[1;33m{\u001b[0m\u001b[1;34m\"raise_missing\"\u001b[0m\u001b[1;33m:\u001b[0m \u001b[1;32mTrue\u001b[0m \u001b[1;32mif\u001b[0m \u001b[0mis_setter\u001b[0m \u001b[1;32melse\u001b[0m \u001b[0mraise_missing\u001b[0m\u001b[1;33m}\u001b[0m\u001b[1;33m\u001b[0m\u001b[1;33m\u001b[0m\u001b[0m\n\u001b[1;32m-> 1285\u001b[1;33m                 \u001b[1;32mreturn\u001b[0m \u001b[0mself\u001b[0m\u001b[1;33m.\u001b[0m\u001b[0m_get_listlike_indexer\u001b[0m\u001b[1;33m(\u001b[0m\u001b[0mobj\u001b[0m\u001b[1;33m,\u001b[0m \u001b[0maxis\u001b[0m\u001b[1;33m,\u001b[0m \u001b[1;33m**\u001b[0m\u001b[0mkwargs\u001b[0m\u001b[1;33m)\u001b[0m\u001b[1;33m[\u001b[0m\u001b[1;36m1\u001b[0m\u001b[1;33m]\u001b[0m\u001b[1;33m\u001b[0m\u001b[1;33m\u001b[0m\u001b[0m\n\u001b[0m\u001b[0;32m   1286\u001b[0m         \u001b[1;32melse\u001b[0m\u001b[1;33m:\u001b[0m\u001b[1;33m\u001b[0m\u001b[1;33m\u001b[0m\u001b[0m\n\u001b[0;32m   1287\u001b[0m             \u001b[1;32mtry\u001b[0m\u001b[1;33m:\u001b[0m\u001b[1;33m\u001b[0m\u001b[1;33m\u001b[0m\u001b[0m\n",
      "\u001b[1;32m~\\Documents\\DS4A\\lib\\site-packages\\pandas\\core\\indexing.py\u001b[0m in \u001b[0;36m_get_listlike_indexer\u001b[1;34m(self, key, axis, raise_missing)\u001b[0m\n\u001b[0;32m   1090\u001b[0m \u001b[1;33m\u001b[0m\u001b[0m\n\u001b[0;32m   1091\u001b[0m         self._validate_read_indexer(\n\u001b[1;32m-> 1092\u001b[1;33m             \u001b[0mkeyarr\u001b[0m\u001b[1;33m,\u001b[0m \u001b[0mindexer\u001b[0m\u001b[1;33m,\u001b[0m \u001b[0mo\u001b[0m\u001b[1;33m.\u001b[0m\u001b[0m_get_axis_number\u001b[0m\u001b[1;33m(\u001b[0m\u001b[0maxis\u001b[0m\u001b[1;33m)\u001b[0m\u001b[1;33m,\u001b[0m \u001b[0mraise_missing\u001b[0m\u001b[1;33m=\u001b[0m\u001b[0mraise_missing\u001b[0m\u001b[1;33m\u001b[0m\u001b[1;33m\u001b[0m\u001b[0m\n\u001b[0m\u001b[0;32m   1093\u001b[0m         )\n\u001b[0;32m   1094\u001b[0m         \u001b[1;32mreturn\u001b[0m \u001b[0mkeyarr\u001b[0m\u001b[1;33m,\u001b[0m \u001b[0mindexer\u001b[0m\u001b[1;33m\u001b[0m\u001b[1;33m\u001b[0m\u001b[0m\n",
      "\u001b[1;32m~\\Documents\\DS4A\\lib\\site-packages\\pandas\\core\\indexing.py\u001b[0m in \u001b[0;36m_validate_read_indexer\u001b[1;34m(self, key, indexer, axis, raise_missing)\u001b[0m\n\u001b[0;32m   1183\u001b[0m             \u001b[1;32mif\u001b[0m \u001b[1;32mnot\u001b[0m \u001b[1;33m(\u001b[0m\u001b[0mself\u001b[0m\u001b[1;33m.\u001b[0m\u001b[0mname\u001b[0m \u001b[1;33m==\u001b[0m \u001b[1;34m\"loc\"\u001b[0m \u001b[1;32mand\u001b[0m \u001b[1;32mnot\u001b[0m \u001b[0mraise_missing\u001b[0m\u001b[1;33m)\u001b[0m\u001b[1;33m:\u001b[0m\u001b[1;33m\u001b[0m\u001b[1;33m\u001b[0m\u001b[0m\n\u001b[0;32m   1184\u001b[0m                 \u001b[0mnot_found\u001b[0m \u001b[1;33m=\u001b[0m \u001b[0mlist\u001b[0m\u001b[1;33m(\u001b[0m\u001b[0mset\u001b[0m\u001b[1;33m(\u001b[0m\u001b[0mkey\u001b[0m\u001b[1;33m)\u001b[0m \u001b[1;33m-\u001b[0m \u001b[0mset\u001b[0m\u001b[1;33m(\u001b[0m\u001b[0max\u001b[0m\u001b[1;33m)\u001b[0m\u001b[1;33m)\u001b[0m\u001b[1;33m\u001b[0m\u001b[1;33m\u001b[0m\u001b[0m\n\u001b[1;32m-> 1185\u001b[1;33m                 \u001b[1;32mraise\u001b[0m \u001b[0mKeyError\u001b[0m\u001b[1;33m(\u001b[0m\u001b[1;34m\"{} not in index\"\u001b[0m\u001b[1;33m.\u001b[0m\u001b[0mformat\u001b[0m\u001b[1;33m(\u001b[0m\u001b[0mnot_found\u001b[0m\u001b[1;33m)\u001b[0m\u001b[1;33m)\u001b[0m\u001b[1;33m\u001b[0m\u001b[1;33m\u001b[0m\u001b[0m\n\u001b[0m\u001b[0;32m   1186\u001b[0m \u001b[1;33m\u001b[0m\u001b[0m\n\u001b[0;32m   1187\u001b[0m             \u001b[1;31m# we skip the warning on Categorical/Interval\u001b[0m\u001b[1;33m\u001b[0m\u001b[1;33m\u001b[0m\u001b[1;33m\u001b[0m\u001b[0m\n",
      "\u001b[1;31mKeyError\u001b[0m: \"['PREDICHOS'] not in index\""
     ]
    }
   ],
   "source": [
    "#a=video_mapa_observados_dia()\n",
    "start_time = time.time()\n",
    "a=video_mapa_dia(lights_aux=semaforos)\n",
    "print(\"--- %s seconds ---\" % (time.time() - start_time))  "
   ]
  },
  {
   "cell_type": "code",
   "execution_count": null,
   "metadata": {},
   "outputs": [],
   "source": [
    "def funcion_final(dia=False,mes=False,hora=25, df=df,lights=semaforos,lights_aux=semaforos):\n",
    "    \n",
    "    if(mes!=False):\n",
    "        return(video_mapa_mes(mes=mes,lights_aux=semaforos))            \n",
    "    if(dia!=False):\n",
    "        return(video_mapa_dia(dias=dia,lights_aux=semaforos))\n",
    "    if(hora!=25):\n",
    "        return(video_mapa_hora(horas=hora,lights_aux=semaforos))\n",
    "    return(mapa_calor_año(lights_aux=semaforos))\n",
    "    \n",
    "    \n",
    "    "
   ]
  },
  {
   "cell_type": "code",
   "execution_count": null,
   "metadata": {},
   "outputs": [],
   "source": [
    "video_mapa_mes()"
   ]
  },
  {
   "cell_type": "code",
   "execution_count": null,
   "metadata": {},
   "outputs": [],
   "source": []
  }
 ],
 "metadata": {
  "kernelspec": {
   "display_name": "Python 3",
   "language": "python",
   "name": "python3"
  },
  "language_info": {
   "codemirror_mode": {
    "name": "ipython",
    "version": 3
   },
   "file_extension": ".py",
   "mimetype": "text/x-python",
   "name": "python",
   "nbconvert_exporter": "python",
   "pygments_lexer": "ipython3",
   "version": "3.7.5"
  },
  "varInspector": {
   "cols": {
    "lenName": 16,
    "lenType": 16,
    "lenVar": 40
   },
   "kernels_config": {
    "python": {
     "delete_cmd_postfix": "",
     "delete_cmd_prefix": "del ",
     "library": "var_list.py",
     "varRefreshCmd": "print(var_dic_list())"
    },
    "r": {
     "delete_cmd_postfix": ") ",
     "delete_cmd_prefix": "rm(",
     "library": "var_list.r",
     "varRefreshCmd": "cat(var_dic_list()) "
    }
   },
   "types_to_exclude": [
    "module",
    "function",
    "builtin_function_or_method",
    "instance",
    "_Feature"
   ],
   "window_display": false
  }
 },
 "nbformat": 4,
 "nbformat_minor": 2
}
