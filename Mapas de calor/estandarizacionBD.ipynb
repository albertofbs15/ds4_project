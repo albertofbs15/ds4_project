{
 "cells": [
  {
   "cell_type": "code",
   "execution_count": 1,
   "metadata": {},
   "outputs": [],
   "source": [
    "import numpy                 as np\n",
    "import pandas                as pd\n",
    "import matplotlib.pyplot     as plt\n",
    "import seaborn               as sns\n",
    "import sklearn.metrics       as Metrics\n",
    "import pandas                as pd\n",
    "import matplotlib.pyplot     as plt\n",
    "\n",
    " \n",
    "import folium  #needed for interactive map\n",
    "from folium.plugins import HeatMap\n",
    "\n",
    "from   collections           import Counter\n",
    "from   sklearn               import preprocessing\n",
    "from   datetime              import datetime\n",
    "from   collections           import Counter\n",
    "from   math                  import exp\n",
    "from   sklearn.linear_model  import LinearRegression as LinReg\n",
    "from   sklearn.metrics       import mean_absolute_error\n",
    "from   sklearn.metrics       import median_absolute_error\n",
    "from   sklearn.metrics       import r2_score"
   ]
  },
  {
   "cell_type": "code",
   "execution_count": 2,
   "metadata": {},
   "outputs": [],
   "source": [
    "%matplotlib inline\n",
    "sns.set()"
   ]
  },
  {
   "cell_type": "code",
   "execution_count": 3,
   "metadata": {},
   "outputs": [
    {
     "data": {
      "text/plain": [
       "Index(['ID', 'FECHA_ACCIDENTE', 'AÑO ACCIDENTE_x', 'MES_ACCIDENTE',\n",
       "       'DIA_ACCIDENTE', 'HORA_ACCIDENTE', 'GRAVEDAD_ACCIDENTE',\n",
       "       'CLASE_ACCIDENTE', 'SITIO_EXACTO_ACCIDENTE',\n",
       "       'CANT_HERIDOS_EN _SITIO_ACCIDENTE', 'CANT_MUERTOS_EN _SITIO_ACCIDENTE',\n",
       "       'CANTIDAD_ACCIDENTES', 'longitude', 'latitude', 'pot', 'pieza urbana',\n",
       "       'bus_subidas', 'bus_bajadas', 'trafico', 'IsHoliday', 'Type',\n",
       "       'DayOfMonth', 'Month', 'Year', 'DayOfYear', 'WeekOfYear', 'DayOfWeek',\n",
       "       'QuarterOfYear', 'home_team', 'away_team', 'home_result', 'away_result',\n",
       "       'junior_won', 'relevance', 'hipotesis', 'MOTOCICLETA', 'AUTOMOVIL',\n",
       "       'CAMIONETA', 'BUS', 'CAMION', 'CAMPERO', 'BUSETA', 'BICICLETA',\n",
       "       'MICROBUS', 'TRACTO/CAMION', 'VOLQUETA', 'MOTOCARRO', 'DESCONOCIDA',\n",
       "       'CUATRIMOTO', 'MAQUIRIA AGRICOLA', 'TRACCION ANIMAL',\n",
       "       'MAQUIRIA INDUSTRIAL', 'CAMION (RNMA)', 'DUMPER VOLQUETAARTICULADA',\n",
       "       'REMOLQUE', 'SEMIREMOLQUE', 'RETROEXCAVADORA', 'MONTACARGAS',\n",
       "       'BUS ARTICULADO', 'MINICARGADOR', 'MINI EXCAVADORA', 'NO REGISTRA'],\n",
       "      dtype='object')"
      ]
     },
     "execution_count": 3,
     "metadata": {},
     "output_type": "execute_result"
    }
   ],
   "source": [
    "df=pd.read_excel('final.xlsx')\n",
    "df.columns"
   ]
  },
  {
   "cell_type": "code",
   "execution_count": 12,
   "metadata": {},
   "outputs": [
    {
     "data": {
      "text/plain": [
       "Index(['ID', 'FECHA_ACCIDENTE', 'AÑO ACCIDENTE_x', 'MES_ACCIDENTE',\n",
       "       'DIA_ACCIDENTE', 'HORA_ACCIDENTE', 'GRAVEDAD_ACCIDENTE',\n",
       "       'CLASE_ACCIDENTE', 'SITIO_EXACTO_ACCIDENTE',\n",
       "       'CANT_HERIDOS_EN _SITIO_ACCIDENTE', 'CANT_MUERTOS_EN _SITIO_ACCIDENTE',\n",
       "       'longitude', 'latitude', 'pot', 'pieza urbana', 'bus_subidas',\n",
       "       'bus_bajadas', 'trafico', 'IsHoliday', 'Type', 'DayOfYear',\n",
       "       'WeekOfYear', 'QuarterOfYear', 'home_team', 'away_team', 'home_result',\n",
       "       'away_result', 'junior_won', 'relevance', 'hipotesis', 'MOTOCICLETA',\n",
       "       'AUTOMOVIL', 'CAMIONETA', 'BUS', 'CAMION', 'CAMPERO', 'BUSETA',\n",
       "       'BICICLETA', 'MICROBUS', 'TRACTO/CAMION', 'VOLQUETA', 'MOTOCARRO',\n",
       "       'DESCONOCIDA', 'CUATRIMOTO', 'MAQUIRIA AGRICOLA', 'TRACCION ANIMAL',\n",
       "       'MAQUIRIA INDUSTRIAL', 'CAMION (RNMA)', 'DUMPER VOLQUETAARTICULADA',\n",
       "       'REMOLQUE', 'SEMIREMOLQUE', 'RETROEXCAVADORA', 'MONTACARGAS',\n",
       "       'BUS ARTICULADO', 'MINICARGADOR', 'MINI EXCAVADORA', 'NO REGISTRA'],\n",
       "      dtype='object')"
      ]
     },
     "execution_count": 12,
     "metadata": {},
     "output_type": "execute_result"
    }
   ],
   "source": [
    "dff=df[['ID','FECHA_ACCIDENTE','AÑO ACCIDENTE_x','MES_ACCIDENTE','DIA_ACCIDENTE','HORA_ACCIDENTE','GRAVEDAD_ACCIDENTE','CLASE_ACCIDENTE','SITIO_EXACTO_ACCIDENTE','CANT_HERIDOS_EN _SITIO_ACCIDENTE', 'CANT_MUERTOS_EN _SITIO_ACCIDENTE','longitude', 'latitude', 'pot', 'pieza urbana','bus_subidas', 'bus_bajadas', 'trafico', 'IsHoliday', 'Type','DayOfYear', 'WeekOfYear','QuarterOfYear', 'home_team', 'away_team', 'home_result', 'away_result','junior_won', 'relevance', 'hipotesis', 'MOTOCICLETA', 'AUTOMOVIL','CAMIONETA', 'BUS', 'CAMION', 'CAMPERO', 'BUSETA', 'BICICLETA','MICROBUS', 'TRACTO/CAMION', 'VOLQUETA', 'MOTOCARRO', 'DESCONOCIDA','CUATRIMOTO', 'MAQUIRIA AGRICOLA', 'TRACCION ANIMAL','MAQUIRIA INDUSTRIAL', 'CAMION (RNMA)', 'DUMPER VOLQUETAARTICULADA','REMOLQUE', 'SEMIREMOLQUE', 'RETROEXCAVADORA', 'MONTACARGAS','BUS ARTICULADO', 'MINICARGADOR', 'MINI EXCAVADORA', 'NO REGISTRA']]\n",
    "dff.columns"
   ]
  },
  {
   "cell_type": "code",
   "execution_count": 13,
   "metadata": {},
   "outputs": [],
   "source": [
    "dff.columns=['ID', 'FECHA_ACCIDENTE', 'AÑO_ACCIDENTE', 'MES_ACCIDENTE',\n",
    "       'DIA_ACCIDENTE', 'HORA_ACCIDENTE', 'GRAVEDAD_ACCIDENTE',\n",
    "       'CLASE_ACCIDENTE', 'SITIO_EXACTO_ACCIDENTE',\n",
    "       'CANT_HERIDOS_EN _SITIO_ACCIDENTE', 'CANT_MUERTOS_EN _SITIO_ACCIDENTE',\n",
    "       'LONGITUD', 'LATITUD', 'POT', 'PIEZA_URBANA', 'BUS_SUBIDA',\n",
    "       'BUS_BAJADA', 'TRAFICO', 'ES_FESTIVO', 'TIPO_FESTIVO', 'DIA_DEL_AÑO',\n",
    "       'SEMANA_DEL_AÑO', 'CUATRIMESTRE_DEL_AÑO', 'JUNIOR_LOCAL', 'JUNIOR_VISITANTE', 'RESULTADO_LOCAL',\n",
    "       'RESULTADO_VISITANTE', 'JUNIOR_GANO', 'RELEVANCIA_PARTIDO', 'HIPOTESIS_ACCIDENTE', 'VEHICULO_MOTOCICLETA',\n",
    "       'VEHICULO_AUTOMOVIL', 'VEHICULO_CAMIONETA', 'VEHICULO_BUS', 'VEHICULO_CAMION', 'VEHICULO_CAMPERO', 'VEHICULO_BUSETA',\n",
    "       'VEHICULO_BICICLETA', 'VEHICULO_MICROBUS', 'VEHICULO_TRACTO_CAMION', 'VEHICULO_VOLQUETA', 'VEHICULO_MOTOCARRO',\n",
    "       'VEHICULO_DESCONOCIDO', 'VEHICULO_CUATRIMOTO', 'VEHICULO_MAQUINARIA_AGRICOLA', 'VEHICULO_TRACCION_ANIMAL',\n",
    "       'VEHICULO_MAQUIRIA_INDUSTRIAL', 'VEHICULO_CAMION_RNMA', 'VEHICULO_DUMPER_VOLQUETAARTICULADA',\n",
    "       'VEHICULO_REMOLQUE', 'VEHICULO_SEMIREMOLQUE', 'VEHICULO_RETROEXCAVADORA', 'VEHICULO_MONTACARGAS',\n",
    "       'VEHICULO_BUS_ARTICULADO', 'VEHICULO_MINICARGADOR', 'VEHICULO_MINI_EXCAVADORA', 'VEHICULO_NO_REGISTRA']"
   ]
  },
  {
   "cell_type": "code",
   "execution_count": 16,
   "metadata": {},
   "outputs": [],
   "source": [
    "dff.to_csv('Final_Final.csv')"
   ]
  }
 ],
 "metadata": {
  "kernelspec": {
   "display_name": "Python 3",
   "language": "python",
   "name": "python3"
  },
  "language_info": {
   "codemirror_mode": {
    "name": "ipython",
    "version": 3
   },
   "file_extension": ".py",
   "mimetype": "text/x-python",
   "name": "python",
   "nbconvert_exporter": "python",
   "pygments_lexer": "ipython3",
   "version": "3.7.4"
  },
  "varInspector": {
   "cols": {
    "lenName": 16,
    "lenType": 16,
    "lenVar": 40
   },
   "kernels_config": {
    "python": {
     "delete_cmd_postfix": "",
     "delete_cmd_prefix": "del ",
     "library": "var_list.py",
     "varRefreshCmd": "print(var_dic_list())"
    },
    "r": {
     "delete_cmd_postfix": ") ",
     "delete_cmd_prefix": "rm(",
     "library": "var_list.r",
     "varRefreshCmd": "cat(var_dic_list()) "
    }
   },
   "types_to_exclude": [
    "module",
    "function",
    "builtin_function_or_method",
    "instance",
    "_Feature"
   ],
   "window_display": false
  }
 },
 "nbformat": 4,
 "nbformat_minor": 2
}
