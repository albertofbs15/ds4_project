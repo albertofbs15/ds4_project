{
 "cells": [
  {
   "cell_type": "code",
   "execution_count": 1,
   "metadata": {},
   "outputs": [],
   "source": [
    "import numpy as np\n",
    "import pandas as pd\n",
    "import math\n",
    "import statsmodels.api as sm\n",
    "import matplotlib.pyplot as plt\n",
    "from statsmodels.formula.api import glm\n",
    "import collections\n",
    "from statsmodels.sandbox.stats.multicomp import multipletests\n",
    "import time\n",
    "start_time = time.time()"
   ]
  },
  {
   "cell_type": "code",
   "execution_count": 2,
   "metadata": {},
   "outputs": [],
   "source": [
    "df=pd.read_csv('Final_poisson.csv').iloc[:,1:]"
   ]
  },
  {
   "cell_type": "code",
   "execution_count": 3,
   "metadata": {},
   "outputs": [],
   "source": [
<<<<<<< HEAD
=======
    "import time"
   ]
  },
  {
   "cell_type": "code",
<<<<<<< HEAD
   "execution_count": 43,
   "metadata": {},
   "outputs": [],
   "source": [
    "def conteo(newdf=df):\n",
    "    conteos=newdf[['LAT_LON','SITIO_EXACTO_ACCIDENTE']].groupby(['LAT_LON','SITIO_EXACTO_ACCIDENTE']).size().reset_index(name='count')\n",
    "    list_accidents=[]\n",
    "    lat_lon=[]\n",
    "    lat_lon_unico=np.unique(conteos['LAT_LON'])\n",
    "    for i in range(len(lat_lon_unico)):\n",
    "        a=conteos[conteos['LAT_LON']==lat_lon_unico[i]]\n",
    "        suma=np.sum(a['count'])\n",
    "        if np.max(a['count'])/suma>0.3:\n",
    "            list_accidents.append(suma)\n",
    "            lat_lon.append(lat_lon_unico[i])\n",
    "\n",
    "    return(pd.DataFrame({'LAT_LON':lat_lon,'count':list_accidents}))\n",
    "            "
   ]
  },
  {
   "cell_type": "code",
   "execution_count": 71,
=======
   "execution_count": 4,
>>>>>>> b7a11d8c78469425736fc0e0700a57b50ce4366e
   "metadata": {},
   "outputs": [
    {
     "name": "stdout",
     "output_type": "stream",
     "text": [
<<<<<<< HEAD
      "--- 0.07230782508850098 seconds ---\n"
=======
      "--- 0.12785577774047852 seconds ---\n"
>>>>>>> b7a11d8c78469425736fc0e0700a57b50ce4366e
     ]
    }
   ],
   "source": [
>>>>>>> e2291fdf3ea6ea5c4469bb2d8cd8ba46ec43fd38
    "def conteo_perf(newdf=df):\n",
    "    df_drop=newdf.drop_duplicates(subset='LAT_LON') \n",
    "    conteos=newdf[['LAT_LON','SITIO_EXACTO_ACCIDENTE']].groupby(['LAT_LON','SITIO_EXACTO_ACCIDENTE']).size().reset_index(name='count')\n",
    "    grp_conteos = conteos.groupby('LAT_LON')['count'].agg(['sum','max'])\n",
    "    grp_conteos['sum_rate'] = grp_conteos['max'] / grp_conteos['sum']\n",
    "    filtered_conteos = grp_conteos[grp_conteos['sum_rate'] > 0.3]\n",
    "    return_df = filtered_conteos.drop(['max', 'sum_rate'], axis=1)\n",
    "    return_df.rename(columns = {'sum':'NACCIDENTS'}, inplace = True) \n",
    "    fusion=pd.merge(return_df,df_drop,on='LAT_LON',how='inner')[['NACCIDENTS','AÑO_ACCIDENTE','MES_ACCIDENTE',\n",
    "                                                     'CLASE_ACCIDENTE','LONGITUD', 'LATITUD',\n",
    "                                                     'POT', 'PIEZA_URBANA', 'BUS_SUBIDA','BUS_BAJADA', \n",
    "                                                     'TRAFICO','ES_FESTIVO','SOLO_HORA']].reset_index().iloc[:,1:]\n",
    "    return(fusion)\n",
    "b=conteo_perf()"
   ]
  },
  {
   "cell_type": "code",
   "execution_count": 4,
   "metadata": {},
   "outputs": [],
   "source": [
    "semaforos=pd.read_csv('lights_clean.csv')[['LATITUD','LONGITUD']]"
   ]
  },
  {
   "cell_type": "code",
   "execution_count": 5,
   "metadata": {},
   "outputs": [],
   "source": [
    "def distancia_semaforos_mas_rapido(final_df=b,lights=semaforos):\n",
    "    closest=np.zeros(final_df.shape[0])\n",
    "    numclose=np.zeros(final_df.shape[0])\n",
    "    numclose2=np.zeros(final_df.shape[0])\n",
    "    numclose3=np.zeros(final_df.shape[0])\n",
    "    for i in range(final_df.shape[0]):\n",
    "        corner_lat=final_df['LATITUD'][i]\n",
    "        corner_lon=final_df['LONGITUD'][i]\n",
    "        light_lat=np.array(lights['LATITUD'])\n",
    "        light_lon=np.array(lights['LONGITUD'])\n",
    "        dx = (light_lon-corner_lon)*40000*np.cos((light_lat+corner_lat)*math.pi/360)/360\n",
    "        dy = (light_lat-corner_lat)*40000/360\n",
    "        distance=np.sqrt(dx**2+dy**2)\n",
    "        closest[i]=distance[distance.argmin()]\n",
    "        numclose[i]=np.sum(distance<0.1)\n",
    "        numclose2[i]=np.sum(((distance>=0.1) & (distance<0.5)))\n",
    "        numclose3[i]=np.sum(((distance>=0.5) & (distance<2)))\n",
    "    final_df['NLIGHTS']=list(numclose)\n",
    "    final_df['NLIGHTS2']=list(numclose2)\n",
    "    final_df['NLIGHTS3']=list(numclose3)"
   ]
  },
  {
   "cell_type": "code",
   "execution_count": 6,
   "metadata": {},
   "outputs": [],
   "source": [
    "a=distancia_semaforos_mas_rapido()"
   ]
  },
  {
   "cell_type": "code",
   "execution_count": 7,
   "metadata": {},
   "outputs": [
    {
     "name": "stdout",
     "output_type": "stream",
     "text": [
      "--- 1.5936059951782227 seconds ---\n"
     ]
    }
   ],
   "source": [
    "print(\"--- %s seconds ---\" % (time.time() - start_time))"
   ]
  }
 ],
 "metadata": {
  "kernelspec": {
   "display_name": "Python 3",
   "language": "python",
   "name": "python3"
  },
  "language_info": {
   "codemirror_mode": {
    "name": "ipython",
    "version": 3
   },
   "file_extension": ".py",
   "mimetype": "text/x-python",
   "name": "python",
   "nbconvert_exporter": "python",
   "pygments_lexer": "ipython3",
   "version": "3.7.5"
  },
  "varInspector": {
   "cols": {
    "lenName": 16,
    "lenType": 16,
    "lenVar": 40
   },
   "kernels_config": {
    "python": {
     "delete_cmd_postfix": "",
     "delete_cmd_prefix": "del ",
     "library": "var_list.py",
     "varRefreshCmd": "print(var_dic_list())"
    },
    "r": {
     "delete_cmd_postfix": ") ",
     "delete_cmd_prefix": "rm(",
     "library": "var_list.r",
     "varRefreshCmd": "cat(var_dic_list()) "
    }
   },
   "oldHeight": 122.4,
   "position": {
    "height": "40px",
    "left": "398.2px",
    "right": "20px",
    "top": "120px",
    "width": "350px"
   },
   "types_to_exclude": [
    "module",
    "function",
    "builtin_function_or_method",
    "instance",
    "_Feature"
   ],
   "varInspector_section_display": "none",
   "window_display": false
  }
 },
 "nbformat": 4,
 "nbformat_minor": 2
}
