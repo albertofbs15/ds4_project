{
 "cells": [
  {
   "cell_type": "code",
   "execution_count": 277,
   "metadata": {},
   "outputs": [],
   "source": [
    "import numpy as np\n",
    "import pandas as pd\n",
    "import math\n",
    "import statsmodels.api as sm\n",
    "import matplotlib.pyplot as plt\n",
    "from statsmodels.formula.api import glm\n",
    "\n",
    "#import folium # package for making maps, please make sure to use a version older than 1.0..\n",
    "\n"
   ]
  },
  {
   "cell_type": "code",
   "execution_count": 184,
   "metadata": {},
   "outputs": [],
   "source": [
    "df=pd.read_csv('Final_Final.csv')\n",
    "lights=pd.read_csv('lights_clean.csv')\n",
    "list_df=[]\n",
    "x_df=[]\n",
    "y_df=[]\n",
    "for i in range(df.shape[0]):\n",
    "    address=str(round(df['LATITUD'].iloc[i],7))+' '+str(round(df['LONGITUD'].iloc[i],7))\n",
    "    list_df.append(address)   \n",
    "    \n",
    "df['LAT_LON']=list_df\n",
    "df['ID']=df['BUS_SUBIDA']\n",
    "\n",
    "\n",
    "newdf=df[['LAT_LON','ID','BUS_SUBIDA','BUS_BAJADA','TRAFICO','POT','PIEZA_URBANA','LATITUD','LONGITUD']]"
   ]
  },
  {
   "cell_type": "code",
   "execution_count": 185,
   "metadata": {},
   "outputs": [],
   "source": [
    "dff=newdf.groupby(['LAT_LON']).count().reset_index()\n",
    "list_df=[]\n",
    "for i in range(dff.shape[0]):\n",
    "    list_df.append(np.array(newdf[newdf['LAT_LON']==dff['LAT_LON'].iloc[i]]).tolist()[0])\n",
    "\n"
   ]
  },
  {
   "cell_type": "code",
   "execution_count": 186,
   "metadata": {},
   "outputs": [],
   "source": [
    "final_df = pd.DataFrame.from_records(list_df)\n",
    "final_df=final_df.rename(columns={0:'LAT_LON',1:'ID',2:'BUS_SUBIDA',3:'BUS_BAJADA',4:'TRAFICO',5:'POT',6:'PIEZA_URBANA',7:'LATITUD',8:'LONGITUD'})\n",
    "final_df['ID']=dff['ID']\n",
    "final"
   ]
  },
  {
   "cell_type": "code",
   "execution_count": 316,
   "metadata": {},
   "outputs": [],
   "source": [
    "closest=np.zeros(final_df.shape[0])\n",
    "numclose=np.zeros(final_df.shape[0])\n",
    "for i in range(final_df.shape[0]):\n",
    "    corner_lat=final_df['LATITUD'][i]\n",
    "    corner_lon=final_df['LONGITUD'][i]\n",
    "    light_lat=np.array(lights['LATITUD'])\n",
    "    light_lon=np.array(lights['LONGITUD'])\n",
    "    dx = (light_lon-corner_lon)*40000*np.cos((light_lat+corner_lat)*math.pi/360)/360\n",
    "    dy = (light_lat-corner_lat)*40000/360\n",
    "    distance=np.sqrt(dx**2+dy**2)\n",
    "    closest[i]=distance[distance.argmin()]\n",
    "    numclose[i]=sum(distance<0.5)\n",
    "final_df['NLIGHTS']=list(numclose)\n",
    "final_df['CLOSEST_LIGHT']=list(closest)\n",
    "data=final_df.drop(columns=['LAT_LON','LONGITUD','LATITUD'])\n",
    "data=data.rename(columns={'ID':'NACCIDENTS'})"
   ]
  },
  {
   "cell_type": "code",
   "execution_count": 321,
   "metadata": {},
   "outputs": [
    {
     "data": {
      "text/html": [
       "<table class=\"simpletable\">\n",
       "<caption>Generalized Linear Model Regression Results</caption>\n",
       "<tr>\n",
       "  <th>Dep. Variable:</th>      <td>NACCIDENTS</td>    <th>  No. Observations:  </th>  <td>  6056</td> \n",
       "</tr>\n",
       "<tr>\n",
       "  <th>Model:</th>                  <td>GLM</td>       <th>  Df Residuals:      </th>  <td>  6036</td> \n",
       "</tr>\n",
       "<tr>\n",
       "  <th>Model Family:</th>         <td>Poisson</td>     <th>  Df Model:          </th>  <td>    19</td> \n",
       "</tr>\n",
       "<tr>\n",
       "  <th>Link Function:</th>          <td>log</td>       <th>  Scale:             </th> <td>  1.0000</td>\n",
       "</tr>\n",
       "<tr>\n",
       "  <th>Method:</th>                <td>IRLS</td>       <th>  Log-Likelihood:    </th> <td> -23114.</td>\n",
       "</tr>\n",
       "<tr>\n",
       "  <th>Date:</th>            <td>Wed, 27 Nov 2019</td> <th>  Deviance:          </th> <td>  30477.</td>\n",
       "</tr>\n",
       "<tr>\n",
       "  <th>Time:</th>                <td>09:34:20</td>     <th>  Pearson chi2:      </th> <td>6.37e+04</td>\n",
       "</tr>\n",
       "<tr>\n",
       "  <th>No. Iterations:</th>          <td>6</td>        <th>                     </th>     <td> </td>   \n",
       "</tr>\n",
       "<tr>\n",
       "  <th>Covariance Type:</th>     <td>nonrobust</td>    <th>                     </th>     <td> </td>   \n",
       "</tr>\n",
       "</table>\n",
       "<table class=\"simpletable\">\n",
       "<tr>\n",
       "                    <td></td>                      <th>coef</th>     <th>std err</th>      <th>z</th>      <th>P>|z|</th>  <th>[0.025</th>    <th>0.975]</th>  \n",
       "</tr>\n",
       "<tr>\n",
       "  <th>Intercept</th>                            <td>    1.4187</td> <td>    0.040</td> <td>   35.533</td> <td> 0.000</td> <td>    1.340</td> <td>    1.497</td>\n",
       "</tr>\n",
       "<tr>\n",
       "  <th>POT[T.comercial]</th>                     <td>    0.2019</td> <td>    0.028</td> <td>    7.215</td> <td> 0.000</td> <td>    0.147</td> <td>    0.257</td>\n",
       "</tr>\n",
       "<tr>\n",
       "  <th>POT[T.industrial]</th>                    <td>    0.4367</td> <td>    0.042</td> <td>   10.497</td> <td> 0.000</td> <td>    0.355</td> <td>    0.518</td>\n",
       "</tr>\n",
       "<tr>\n",
       "  <th>POT[T.ninguna]</th>                       <td>   -0.0322</td> <td>    0.032</td> <td>   -1.021</td> <td> 0.307</td> <td>   -0.094</td> <td>    0.030</td>\n",
       "</tr>\n",
       "<tr>\n",
       "  <th>POT[T.portuaria]</th>                     <td>   -0.3454</td> <td>    0.078</td> <td>   -4.425</td> <td> 0.000</td> <td>   -0.498</td> <td>   -0.192</td>\n",
       "</tr>\n",
       "<tr>\n",
       "  <th>POT[T.protegida]</th>                     <td>    0.0028</td> <td>    0.043</td> <td>    0.065</td> <td> 0.948</td> <td>   -0.082</td> <td>    0.088</td>\n",
       "</tr>\n",
       "<tr>\n",
       "  <th>POT[T.residencial]</th>                   <td>   -0.3083</td> <td>    0.030</td> <td>  -10.226</td> <td> 0.000</td> <td>   -0.367</td> <td>   -0.249</td>\n",
       "</tr>\n",
       "<tr>\n",
       "  <th>PIEZA_URBANA[T.centro metropolitana]</th> <td>   -0.1930</td> <td>    0.034</td> <td>   -5.619</td> <td> 0.000</td> <td>   -0.260</td> <td>   -0.126</td>\n",
       "</tr>\n",
       "<tr>\n",
       "  <th>PIEZA_URBANA[T.ninguna]</th>              <td>    0.0847</td> <td>    0.059</td> <td>    1.433</td> <td> 0.152</td> <td>   -0.031</td> <td>    0.200</td>\n",
       "</tr>\n",
       "<tr>\n",
       "  <th>PIEZA_URBANA[T.prado norte]</th>          <td>   -0.0810</td> <td>    0.030</td> <td>   -2.740</td> <td> 0.006</td> <td>   -0.139</td> <td>   -0.023</td>\n",
       "</tr>\n",
       "<tr>\n",
       "  <th>PIEZA_URBANA[T.ribera occidental]</th>    <td>    0.4302</td> <td>    0.039</td> <td>   11.168</td> <td> 0.000</td> <td>    0.355</td> <td>    0.506</td>\n",
       "</tr>\n",
       "<tr>\n",
       "  <th>PIEZA_URBANA[T.riomar]</th>               <td>    0.2521</td> <td>    0.025</td> <td>    9.910</td> <td> 0.000</td> <td>    0.202</td> <td>    0.302</td>\n",
       "</tr>\n",
       "<tr>\n",
       "  <th>PIEZA_URBANA[T.suroccidental 1]</th>      <td>   -0.1048</td> <td>    0.035</td> <td>   -2.967</td> <td> 0.003</td> <td>   -0.174</td> <td>   -0.036</td>\n",
       "</tr>\n",
       "<tr>\n",
       "  <th>PIEZA_URBANA[T.suroccidental 2]</th>      <td>    0.0576</td> <td>    0.037</td> <td>    1.552</td> <td> 0.121</td> <td>   -0.015</td> <td>    0.130</td>\n",
       "</tr>\n",
       "<tr>\n",
       "  <th>PIEZA_URBANA[T.suroriental]</th>          <td>    0.0252</td> <td>    0.027</td> <td>    0.922</td> <td> 0.357</td> <td>   -0.028</td> <td>    0.079</td>\n",
       "</tr>\n",
       "<tr>\n",
       "  <th>BUS_SUBIDA</th>                           <td>   -0.1381</td> <td>    0.009</td> <td>  -14.992</td> <td> 0.000</td> <td>   -0.156</td> <td>   -0.120</td>\n",
       "</tr>\n",
       "<tr>\n",
       "  <th>BUS_BAJADA</th>                           <td>    0.0572</td> <td>    0.010</td> <td>    5.922</td> <td> 0.000</td> <td>    0.038</td> <td>    0.076</td>\n",
       "</tr>\n",
       "<tr>\n",
       "  <th>TRAFICO</th>                              <td>   -0.0750</td> <td>    0.036</td> <td>   -2.086</td> <td> 0.037</td> <td>   -0.146</td> <td>   -0.005</td>\n",
       "</tr>\n",
       "<tr>\n",
       "  <th>NLIGHTS</th>                              <td>   -0.0068</td> <td>    0.002</td> <td>   -3.428</td> <td> 0.001</td> <td>   -0.011</td> <td>   -0.003</td>\n",
       "</tr>\n",
       "<tr>\n",
       "  <th>CLOSEST_LIGHT</th>                        <td>    0.0013</td> <td>    0.015</td> <td>    0.084</td> <td> 0.933</td> <td>   -0.029</td> <td>    0.031</td>\n",
       "</tr>\n",
       "</table>"
      ],
      "text/plain": [
       "<class 'statsmodels.iolib.summary.Summary'>\n",
       "\"\"\"\n",
       "                 Generalized Linear Model Regression Results                  \n",
       "==============================================================================\n",
       "Dep. Variable:             NACCIDENTS   No. Observations:                 6056\n",
       "Model:                            GLM   Df Residuals:                     6036\n",
       "Model Family:                 Poisson   Df Model:                           19\n",
       "Link Function:                    log   Scale:                          1.0000\n",
       "Method:                          IRLS   Log-Likelihood:                -23114.\n",
       "Date:                Wed, 27 Nov 2019   Deviance:                       30477.\n",
       "Time:                        09:34:20   Pearson chi2:                 6.37e+04\n",
       "No. Iterations:                     6                                         \n",
       "Covariance Type:            nonrobust                                         \n",
       "========================================================================================================\n",
       "                                           coef    std err          z      P>|z|      [0.025      0.975]\n",
       "--------------------------------------------------------------------------------------------------------\n",
       "Intercept                                1.4187      0.040     35.533      0.000       1.340       1.497\n",
       "POT[T.comercial]                         0.2019      0.028      7.215      0.000       0.147       0.257\n",
       "POT[T.industrial]                        0.4367      0.042     10.497      0.000       0.355       0.518\n",
       "POT[T.ninguna]                          -0.0322      0.032     -1.021      0.307      -0.094       0.030\n",
       "POT[T.portuaria]                        -0.3454      0.078     -4.425      0.000      -0.498      -0.192\n",
       "POT[T.protegida]                         0.0028      0.043      0.065      0.948      -0.082       0.088\n",
       "POT[T.residencial]                      -0.3083      0.030    -10.226      0.000      -0.367      -0.249\n",
       "PIEZA_URBANA[T.centro metropolitana]    -0.1930      0.034     -5.619      0.000      -0.260      -0.126\n",
       "PIEZA_URBANA[T.ninguna]                  0.0847      0.059      1.433      0.152      -0.031       0.200\n",
       "PIEZA_URBANA[T.prado norte]             -0.0810      0.030     -2.740      0.006      -0.139      -0.023\n",
       "PIEZA_URBANA[T.ribera occidental]        0.4302      0.039     11.168      0.000       0.355       0.506\n",
       "PIEZA_URBANA[T.riomar]                   0.2521      0.025      9.910      0.000       0.202       0.302\n",
       "PIEZA_URBANA[T.suroccidental 1]         -0.1048      0.035     -2.967      0.003      -0.174      -0.036\n",
       "PIEZA_URBANA[T.suroccidental 2]          0.0576      0.037      1.552      0.121      -0.015       0.130\n",
       "PIEZA_URBANA[T.suroriental]              0.0252      0.027      0.922      0.357      -0.028       0.079\n",
       "BUS_SUBIDA                              -0.1381      0.009    -14.992      0.000      -0.156      -0.120\n",
       "BUS_BAJADA                               0.0572      0.010      5.922      0.000       0.038       0.076\n",
       "TRAFICO                                 -0.0750      0.036     -2.086      0.037      -0.146      -0.005\n",
       "NLIGHTS                                 -0.0068      0.002     -3.428      0.001      -0.011      -0.003\n",
       "CLOSEST_LIGHT                            0.0013      0.015      0.084      0.933      -0.029       0.031\n",
       "========================================================================================================\n",
       "\"\"\""
      ]
     },
     "execution_count": 321,
     "metadata": {},
     "output_type": "execute_result"
    }
   ],
   "source": [
    "formula='NACCIDENTS~BUS_SUBIDA+BUS_BAJADA+TRAFICO+POT+PIEZA_URBANA+NLIGHTS+CLOSEST_LIGHT'\n",
    "mod1 = glm(formula=formula, data=data, family=sm.families.Poisson()).fit()\n",
    "mod1.summary()"
   ]
  },
  {
   "cell_type": "code",
   "execution_count": 322,
   "metadata": {},
   "outputs": [
    {
     "data": {
      "image/png": "[encoded data removed]",
      "text/plain": [
       "<Figure size 432x288 with 1 Axes>"
      ]
     },
     "metadata": {
      "needs_background": "light"
     },
     "output_type": "display_data"
    },
    {
     "data": {
      "image/png": "[encoded data removed]",
      "text/plain": [
       "<Figure size 432x288 with 1 Axes>"
      ]
     },
     "metadata": {
      "needs_background": "light"
     },
     "output_type": "display_data"
    }
   ],
   "source": [
    "mod1.predict()\n",
    "plt.plot(list(mod1.predict()))\n",
    "plt.show()\n",
    "plt.plot(data['NACCIDENTS'])\n",
    "plt.show()"
   ]
  },
  {
   "cell_type": "code",
   "execution_count": 323,
   "metadata": {},
   "outputs": [
    {
     "data": {
      "text/plain": [
       "array([4.51987839, 2.98494738, 3.25152677, ..., 3.86952363, 3.87089725,\n",
       "       2.1112879 ])"
      ]
     },
     "execution_count": 323,
     "metadata": {},
     "output_type": "execute_result"
    }
   ],
   "source": [
    "mod1.predict()"
   ]
  },
  {
   "cell_type": "code",
   "execution_count": 324,
   "metadata": {},
   "outputs": [
    {
     "data": {
      "text/plain": [
       "6056"
      ]
     },
     "execution_count": 324,
     "metadata": {},
     "output_type": "execute_result"
    }
   ],
   "source": [
    "len(mod1.predict())"
   ]
  },
  {
   "cell_type": "code",
   "execution_count": 325,
   "metadata": {},
   "outputs": [
    {
     "data": {
      "text/plain": [
       "6056"
      ]
     },
     "execution_count": 325,
     "metadata": {},
     "output_type": "execute_result"
    }
   ],
   "source": [
    "len(data['NACCIDENTS'])"
   ]
  },
  {
   "cell_type": "code",
   "execution_count": 289,
   "metadata": {},
   "outputs": [
    {
     "data": {
      "text/plain": [
       "array([3.90236878, 3.83745756, 3.70468465, ..., 4.48899725, 4.49626873,\n",
       "       3.0656569 ])"
      ]
     },
     "execution_count": 289,
     "metadata": {},
     "output_type": "execute_result"
    }
   ],
   "source": [
    "np.array(mod1.predict())"
   ]
  },
  {
   "cell_type": "code",
   "execution_count": 313,
   "metadata": {},
   "outputs": [
    {
     "data": {
      "text/plain": [
       "5915"
      ]
     },
     "execution_count": 313,
     "metadata": {},
     "output_type": "execute_result"
    }
   ],
   "source": [
    "aa=np.array(data['NACCIDENTS'])\n",
    "aa.argmax()"
   ]
  },
  {
   "cell_type": "code",
   "execution_count": 320,
   "metadata": {},
   "outputs": [
    {
     "data": {
      "text/plain": [
       "NACCIDENTS                     204\n",
       "BUS_SUBIDA                       0\n",
       "BUS_BAJADA                       1\n",
       "TRAFICO                 0.00392157\n",
       "POT                      comercial\n",
       "PIEZA_URBANA     ribera occidental\n",
       "NLIGHTS                          0\n",
       "CLOSEST_LIGHT              1.47473\n",
       "Name: 5915, dtype: object"
      ]
     },
     "execution_count": 320,
     "metadata": {},
     "output_type": "execute_result"
    }
   ],
   "source": [
    "data.iloc[aa.argmax()]"
   ]
  },
  {
   "cell_type": "code",
   "execution_count": 326,
   "metadata": {},
   "outputs": [
    {
     "data": {
      "text/plain": [
       "28.0"
      ]
     },
     "execution_count": 326,
     "metadata": {},
     "output_type": "execute_result"
    }
   ],
   "source": [
    "max(data['NLIGHTS'])"
   ]
  },
  {
   "cell_type": "code",
   "execution_count": null,
   "metadata": {},
   "outputs": [],
   "source": []
  }
 ],
 "metadata": {
  "kernelspec": {
   "display_name": "Python 3",
   "language": "python",
   "name": "python3"
  },
  "language_info": {
   "codemirror_mode": {
    "name": "ipython",
    "version": 3
   },
   "file_extension": ".py",
   "mimetype": "text/x-python",
   "name": "python",
   "nbconvert_exporter": "python",
   "pygments_lexer": "ipython3",
   "version": "3.6.9"
  }
 },
 "nbformat": 4,
 "nbformat_minor": 2
}
