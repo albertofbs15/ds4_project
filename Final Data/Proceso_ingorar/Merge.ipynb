{
 "cells": [
  {
   "cell_type": "code",
   "execution_count": 2,
   "metadata": {},
   "outputs": [
    {
     "data": {
      "text/plain": [
       "'C:\\\\Users\\\\User.109424-DOCENT-P\\\\Documents\\\\MinTIC\\\\Final Project\\\\ds4_project\\\\Final Data'"
      ]
     },
     "execution_count": 2,
     "metadata": {},
     "output_type": "execute_result"
    }
   ],
   "source": [
    "import numpy as np\n",
    "import pandas as pd\n",
    "import os\n",
    "os.getcwd()"
   ]
  },
  {
   "cell_type": "code",
   "execution_count": 38,
   "metadata": {},
   "outputs": [],
   "source": [
    "hipotesis=pd.read_excel('hipotesis.xlsx')\n",
    "datos=pd.read_excel('datos_joined_UTF8.xlsx')\n"
   ]
  },
  {
   "cell_type": "code",
   "execution_count": null,
   "metadata": {},
   "outputs": [],
   "source": [
    "hipotesis"
   ]
  },
  {
   "cell_type": "code",
   "execution_count": 22,
   "metadata": {},
   "outputs": [],
   "source": [
    "hipotesis_filtrado=hipotesis.drop(hipotesis[(hipotesis['AÑO ACCIDENTE']==2019) & (hipotesis['MES ACCIDENTE']>7)].index )"
   ]
  },
  {
   "cell_type": "code",
   "execution_count": 23,
   "metadata": {},
   "outputs": [],
   "source": [
    "\n",
    "#hipotesis_filtrado=hipotesis[(hipotesis['AÑO ACCIDENTE']<=2019)]# & (hipotesis['MES ACCIDENTE']<=7)]\n",
    "hipotesis_filtrado.loc[:,'DESC CLASE']=hipotesis_filtrado['DESC CLASE'].fillna('NO REGISTRA')"
   ]
  },
  {
   "cell_type": "code",
   "execution_count": 24,
   "metadata": {},
   "outputs": [],
   "source": [
    "hipotesis_filtrado.loc[:,'MOTOCICLETA']=0\n",
    "hipotesis_filtrado.loc[:,'AUTOMOVIL']=0\n",
    "hipotesis_filtrado.loc[:,'CAMIONETA']=0\n",
    "hipotesis_filtrado.loc[:,'BUS']=0\n",
    "hipotesis_filtrado.loc[:,'CAMION']=0\n",
    "hipotesis_filtrado.loc[:,'CAMPERO']=0\n",
    "hipotesis_filtrado.loc[:,'BUSETA']=0\n",
    "hipotesis_filtrado.loc[:,'BICICLETA']=0\n",
    "hipotesis_filtrado.loc[:,'MICROBUS']=0\n",
    "hipotesis_filtrado.loc[:,'TRACTO/CAMION']=0\n",
    "hipotesis_filtrado.loc[:,'VOLQUETA']=0\n",
    "hipotesis_filtrado.loc[:,'MOTOCARRO']=0\n",
    "hipotesis_filtrado.loc[:,'DESCONOCIDA']=0\n",
    "hipotesis_filtrado.loc[:,'CUATRIMOTO']=0\n",
    "hipotesis_filtrado.loc[:,'MAQUINARIA AGRICOLA']=0\n",
    "hipotesis_filtrado.loc[:,'TRACCION ANIMAL']=0\n",
    "hipotesis_filtrado.loc[:,'MAQUINARIA INDUSTRIAL']=0\n",
    "hipotesis_filtrado.loc[:,'CAMION (RNMA)']=0\n",
    "hipotesis_filtrado.loc[:,'DUMPER VOLQUETAARTICULADA']=0\n",
    "hipotesis_filtrado.loc[:,'REMOLQUE']=0\n",
    "hipotesis_filtrado.loc[:,'SEMIREMOLQUE']=0\n",
    "hipotesis_filtrado.loc[:,'RETROEXCAVADORA']=0\n",
    "hipotesis_filtrado.loc[:,'MONTACARGAS']=0\n",
    "hipotesis_filtrado.loc[:,'BUS ARTICULADO']=0\n",
    "hipotesis_filtrado.loc[:,'MINICARGADOR']=0\n",
    "hipotesis_filtrado.loc[:,'MINI EXCAVADORA']=0\n",
    "hipotesis_filtrado.loc[:,'NO REGISTRA']=0"
   ]
  },
  {
   "cell_type": "code",
   "execution_count": 25,
   "metadata": {},
   "outputs": [],
   "source": [
    "hipotesis_agrupado=hipotesis_filtrado.groupby('ID')\n",
    "hipotesis_auxiliar=pd.DataFrame().reindex_like(hipotesis_filtrado).dropna()"
   ]
  },
  {
   "cell_type": "code",
   "execution_count": 26,
   "metadata": {
    "scrolled": false
   },
   "outputs": [
    {
     "name": "stderr",
     "output_type": "stream",
     "text": [
      "C:\\Users\\User.109424-DOCENT-P\\Documents\\DS4A\\lib\\site-packages\\pandas\\core\\frame.py:7123: FutureWarning: Sorting because non-concatenation axis is not aligned. A future version\n",
      "of pandas will change to not sort by default.\n",
      "\n",
      "To accept the future behavior, pass 'sort=False'.\n",
      "\n",
      "To retain the current behavior and silence the warning, pass 'sort=True'.\n",
      "\n",
      "  sort=sort,\n"
     ]
    }
   ],
   "source": [
    "for grupo in hipotesis_agrupado:\n",
    "    aux=grupo[1].copy()\n",
    "    unico=aux['DESC CLASE'].unique()\n",
    "    for vehiculo in unico:\n",
    "        conteo=len(aux[aux['DESC CLASE']==vehiculo])\n",
    "        aux.loc[:,vehiculo]=conteo\n",
    "    hipotesis_auxiliar=hipotesis_auxiliar.append(aux)\n",
    "\n",
    "        "
   ]
  },
  {
   "cell_type": "code",
   "execution_count": 27,
   "metadata": {},
   "outputs": [],
   "source": [
    "hipotesis_auxiliar.reset_index(drop=True).to_csv('hipotesis_transformadas1.csv')"
   ]
  },
  {
   "cell_type": "code",
   "execution_count": 29,
   "metadata": {},
   "outputs": [
    {
     "data": {
      "text/plain": [
       "Index(['AUTOMOVIL', 'AÑO ACCIDENTE', 'BICICLETA', 'BUS', 'BUS ARTICULADO',\n",
       "       'BUSETA', 'CAMION', 'CAMION (RNMA)', 'CAMIONETA', 'CAMPERO',\n",
       "       'CARRETILLA ELEVADORA', 'CICLO TAXI', 'CLASE ACCIDENTE', 'CUATRIMOTO',\n",
       "       'DESC CLASE', 'DESCONOCIDA', 'DIA ACCIDENTE',\n",
       "       'DUMPER VOLQUETAARTICULADA', 'HORA ACCIDENTE', 'ID',\n",
       "       'MAQUINARIA AGRICOLA', 'MAQUINARIA INDUSTRIAL', 'MES ACCIDENTE',\n",
       "       'MICROBUS', 'MINI EXCAVADORA', 'MINICARGADOR', 'MONTACARGAS',\n",
       "       'MOTOCARRO', 'MOTOCICLETA', 'MOTOTRICICLO', 'NO REGISTRA', 'REMOLQUE',\n",
       "       'RETROEXCAVADORA', 'SEMIREMOLQUE', 'TRACCION ANIMAL', 'TRACTO/CAMION',\n",
       "       'VOLQUETA', 'direccion', 'hipotesis'],\n",
       "      dtype='object')"
      ]
     },
     "execution_count": 29,
     "metadata": {},
     "output_type": "execute_result"
    }
   ],
   "source": [
    "hipotesis_auxiliar.columns\n"
   ]
  },
  {
   "cell_type": "markdown",
   "metadata": {},
   "source": [
    "# Ya en lo anterior se hizo la creación y valores de las nuevas variables.\n",
    "### Ahora vamos a fucionar las filas."
   ]
  },
  {
   "cell_type": "code",
   "execution_count": 32,
   "metadata": {},
   "outputs": [],
   "source": [
    "hipotesis_transformadas=pd.read_csv('hipotesis_transformadas1.csv')\n",
    "hipotesis_transformadas=hipotesis_transformadas.iloc[:,1:]"
   ]
  },
  {
   "cell_type": "code",
   "execution_count": 33,
   "metadata": {},
   "outputs": [
    {
     "data": {
      "text/html": [
       "<div>\n",
       "<style scoped>\n",
       "    .dataframe tbody tr th:only-of-type {\n",
       "        vertical-align: middle;\n",
       "    }\n",
       "\n",
       "    .dataframe tbody tr th {\n",
       "        vertical-align: top;\n",
       "    }\n",
       "\n",
       "    .dataframe thead th {\n",
       "        text-align: right;\n",
       "    }\n",
       "</style>\n",
       "<table border=\"1\" class=\"dataframe\">\n",
       "  <thead>\n",
       "    <tr style=\"text-align: right;\">\n",
       "      <th></th>\n",
       "      <th>AUTOMOVIL</th>\n",
       "      <th>AÑO ACCIDENTE</th>\n",
       "      <th>BICICLETA</th>\n",
       "      <th>BUS</th>\n",
       "      <th>BUS ARTICULADO</th>\n",
       "      <th>BUSETA</th>\n",
       "      <th>CAMION</th>\n",
       "      <th>CAMION (RNMA)</th>\n",
       "      <th>CAMIONETA</th>\n",
       "      <th>CAMPERO</th>\n",
       "      <th>...</th>\n",
       "      <th>MOTOTRICICLO</th>\n",
       "      <th>NO REGISTRA</th>\n",
       "      <th>REMOLQUE</th>\n",
       "      <th>RETROEXCAVADORA</th>\n",
       "      <th>SEMIREMOLQUE</th>\n",
       "      <th>TRACCION ANIMAL</th>\n",
       "      <th>TRACTO/CAMION</th>\n",
       "      <th>VOLQUETA</th>\n",
       "      <th>direccion</th>\n",
       "      <th>hipotesis</th>\n",
       "    </tr>\n",
       "  </thead>\n",
       "  <tbody>\n",
       "    <tr>\n",
       "      <td>0</td>\n",
       "      <td>2.0</td>\n",
       "      <td>2016.0</td>\n",
       "      <td>0.0</td>\n",
       "      <td>0.0</td>\n",
       "      <td>0.0</td>\n",
       "      <td>0.0</td>\n",
       "      <td>0.0</td>\n",
       "      <td>0.0</td>\n",
       "      <td>0.0</td>\n",
       "      <td>0.0</td>\n",
       "      <td>...</td>\n",
       "      <td>NaN</td>\n",
       "      <td>0.0</td>\n",
       "      <td>0.0</td>\n",
       "      <td>0.0</td>\n",
       "      <td>0.0</td>\n",
       "      <td>0.0</td>\n",
       "      <td>0.0</td>\n",
       "      <td>0.0</td>\n",
       "      <td>CR 46 CL 54</td>\n",
       "      <td>Otra</td>\n",
       "    </tr>\n",
       "    <tr>\n",
       "      <td>1</td>\n",
       "      <td>2.0</td>\n",
       "      <td>2016.0</td>\n",
       "      <td>0.0</td>\n",
       "      <td>0.0</td>\n",
       "      <td>0.0</td>\n",
       "      <td>0.0</td>\n",
       "      <td>0.0</td>\n",
       "      <td>0.0</td>\n",
       "      <td>0.0</td>\n",
       "      <td>0.0</td>\n",
       "      <td>...</td>\n",
       "      <td>NaN</td>\n",
       "      <td>0.0</td>\n",
       "      <td>0.0</td>\n",
       "      <td>0.0</td>\n",
       "      <td>0.0</td>\n",
       "      <td>0.0</td>\n",
       "      <td>0.0</td>\n",
       "      <td>0.0</td>\n",
       "      <td>CR 46 CL 54</td>\n",
       "      <td>Otra</td>\n",
       "    </tr>\n",
       "    <tr>\n",
       "      <td>2</td>\n",
       "      <td>2.0</td>\n",
       "      <td>2016.0</td>\n",
       "      <td>0.0</td>\n",
       "      <td>0.0</td>\n",
       "      <td>0.0</td>\n",
       "      <td>0.0</td>\n",
       "      <td>0.0</td>\n",
       "      <td>0.0</td>\n",
       "      <td>0.0</td>\n",
       "      <td>0.0</td>\n",
       "      <td>...</td>\n",
       "      <td>NaN</td>\n",
       "      <td>0.0</td>\n",
       "      <td>0.0</td>\n",
       "      <td>0.0</td>\n",
       "      <td>0.0</td>\n",
       "      <td>0.0</td>\n",
       "      <td>0.0</td>\n",
       "      <td>0.0</td>\n",
       "      <td>CR 24 CL 57</td>\n",
       "      <td>Semaforo en rojo</td>\n",
       "    </tr>\n",
       "    <tr>\n",
       "      <td>3</td>\n",
       "      <td>2.0</td>\n",
       "      <td>2016.0</td>\n",
       "      <td>0.0</td>\n",
       "      <td>0.0</td>\n",
       "      <td>0.0</td>\n",
       "      <td>0.0</td>\n",
       "      <td>0.0</td>\n",
       "      <td>0.0</td>\n",
       "      <td>0.0</td>\n",
       "      <td>0.0</td>\n",
       "      <td>...</td>\n",
       "      <td>NaN</td>\n",
       "      <td>0.0</td>\n",
       "      <td>0.0</td>\n",
       "      <td>0.0</td>\n",
       "      <td>0.0</td>\n",
       "      <td>0.0</td>\n",
       "      <td>0.0</td>\n",
       "      <td>0.0</td>\n",
       "      <td>CR 24 CL 57</td>\n",
       "      <td>Semaforo en rojo</td>\n",
       "    </tr>\n",
       "    <tr>\n",
       "      <td>4</td>\n",
       "      <td>2.0</td>\n",
       "      <td>2016.0</td>\n",
       "      <td>0.0</td>\n",
       "      <td>0.0</td>\n",
       "      <td>0.0</td>\n",
       "      <td>0.0</td>\n",
       "      <td>0.0</td>\n",
       "      <td>0.0</td>\n",
       "      <td>0.0</td>\n",
       "      <td>0.0</td>\n",
       "      <td>...</td>\n",
       "      <td>NaN</td>\n",
       "      <td>0.0</td>\n",
       "      <td>0.0</td>\n",
       "      <td>0.0</td>\n",
       "      <td>0.0</td>\n",
       "      <td>0.0</td>\n",
       "      <td>0.0</td>\n",
       "      <td>0.0</td>\n",
       "      <td>CR 29 CL 63</td>\n",
       "      <td>Desobedecer se¤ales</td>\n",
       "    </tr>\n",
       "  </tbody>\n",
       "</table>\n",
       "<p>5 rows × 39 columns</p>\n",
       "</div>"
      ],
      "text/plain": [
       "   AUTOMOVIL  AÑO ACCIDENTE  BICICLETA  BUS  BUS ARTICULADO  BUSETA  CAMION  \\\n",
       "0        2.0         2016.0        0.0  0.0             0.0     0.0     0.0   \n",
       "1        2.0         2016.0        0.0  0.0             0.0     0.0     0.0   \n",
       "2        2.0         2016.0        0.0  0.0             0.0     0.0     0.0   \n",
       "3        2.0         2016.0        0.0  0.0             0.0     0.0     0.0   \n",
       "4        2.0         2016.0        0.0  0.0             0.0     0.0     0.0   \n",
       "\n",
       "   CAMION (RNMA)  CAMIONETA  CAMPERO  ...  MOTOTRICICLO  NO REGISTRA REMOLQUE  \\\n",
       "0            0.0        0.0      0.0  ...           NaN          0.0      0.0   \n",
       "1            0.0        0.0      0.0  ...           NaN          0.0      0.0   \n",
       "2            0.0        0.0      0.0  ...           NaN          0.0      0.0   \n",
       "3            0.0        0.0      0.0  ...           NaN          0.0      0.0   \n",
       "4            0.0        0.0      0.0  ...           NaN          0.0      0.0   \n",
       "\n",
       "   RETROEXCAVADORA SEMIREMOLQUE  TRACCION ANIMAL TRACTO/CAMION  VOLQUETA  \\\n",
       "0              0.0          0.0              0.0           0.0       0.0   \n",
       "1              0.0          0.0              0.0           0.0       0.0   \n",
       "2              0.0          0.0              0.0           0.0       0.0   \n",
       "3              0.0          0.0              0.0           0.0       0.0   \n",
       "4              0.0          0.0              0.0           0.0       0.0   \n",
       "\n",
       "     direccion            hipotesis  \n",
       "0  CR 46 CL 54                 Otra  \n",
       "1  CR 46 CL 54                 Otra  \n",
       "2  CR 24 CL 57     Semaforo en rojo  \n",
       "3  CR 24 CL 57     Semaforo en rojo  \n",
       "4  CR 29 CL 63  Desobedecer se¤ales  \n",
       "\n",
       "[5 rows x 39 columns]"
      ]
     },
     "execution_count": 33,
     "metadata": {},
     "output_type": "execute_result"
    }
   ],
   "source": [
    "hipotesis_transformadas.head()"
   ]
  },
  {
   "cell_type": "code",
   "execution_count": 34,
   "metadata": {},
   "outputs": [],
   "source": [
    "agrupado=hipotesis_transformadas.groupby('ID')\n",
    "#print(hipotesis_transformadas.sort_values(by='ID').loc[0])\n",
    "#print(hipotesis_transformadas.sort_values(by='ID').loc[1])"
   ]
  },
  {
   "cell_type": "code",
   "execution_count": 35,
   "metadata": {},
   "outputs": [],
   "source": [
    "lista_auxiliar=pd.DataFrame().reindex_like(hipotesis_transformadas).dropna()\n",
    "for i in agrupado:\n",
    "    aux=i[1]\n",
    "    lista_auxiliar=lista_auxiliar.append([aux.iloc[0,:]])"
   ]
  },
  {
   "cell_type": "code",
   "execution_count": 36,
   "metadata": {},
   "outputs": [],
   "source": [
    "lista_auxiliar.to_csv('hipotesis_transformadas.csv')"
   ]
  },
  {
   "cell_type": "code",
   "execution_count": 39,
   "metadata": {},
   "outputs": [],
   "source": [
    "# print(datos.columns)\n",
    "# print(lista_auxiliar.columns)\n",
    "final=pd.merge(left=datos,right=lista_auxiliar,how='inner', on='ID')"
   ]
  },
  {
   "cell_type": "code",
   "execution_count": 42,
   "metadata": {
    "scrolled": true
   },
   "outputs": [],
   "source": [
    "final.to_csv(\"final.csv\")"
   ]
  }
 ],
 "metadata": {
  "file_extension": ".py",
  "kernelspec": {
   "display_name": "Python 3",
   "language": "python",
   "name": "python3"
  },
  "language_info": {
   "codemirror_mode": {
    "name": "ipython",
    "version": 3
   },
   "file_extension": ".py",
   "mimetype": "text/x-python",
   "name": "python",
   "nbconvert_exporter": "python",
   "pygments_lexer": "ipython3",
   "version": "3.7.4"
  },
  "mimetype": "text/x-python",
  "name": "python",
  "npconvert_exporter": "python",
  "pygments_lexer": "ipython3",
  "varInspector": {
   "cols": {
    "lenName": 16,
    "lenType": 16,
    "lenVar": 40
   },
   "kernels_config": {
    "python": {
     "delete_cmd_postfix": "",
     "delete_cmd_prefix": "del ",
     "library": "var_list.py",
     "varRefreshCmd": "print(var_dic_list())"
    },
    "r": {
     "delete_cmd_postfix": ") ",
     "delete_cmd_prefix": "rm(",
     "library": "var_list.r",
     "varRefreshCmd": "cat(var_dic_list()) "
    }
   },
   "types_to_exclude": [
    "module",
    "function",
    "builtin_function_or_method",
    "instance",
    "_Feature"
   ],
   "window_display": true
  },
  "version": 3
 },
 "nbformat": 4,
 "nbformat_minor": 2
}
