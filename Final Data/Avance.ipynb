{
 "cells": [
  {
   "cell_type": "code",
   "execution_count": 4,
   "metadata": {},
   "outputs": [],
   "source": [
    "import numpy as np\n",
    "import pandas as pd\n",
    "import math\n",
    "import statsmodels.api as sm\n",
    "import matplotlib.pyplot as plt\n",
    "from statsmodels.formula.api import glm\n",
    "import collections\n",
    "from statsmodels.sandbox.stats.multicomp import multipletests\n",
    "import time\n",
    "from folium import plugins\n",
    "import folium\n",
    "from folium.plugins import HeatMap\n",
    "from folium.plugins import HeatMapWithTime\n",
    "import os"
   ]
  },
  {
   "cell_type": "code",
   "execution_count": 5,
   "metadata": {},
   "outputs": [],
   "source": [
    "df=pd.read_csv('Final_poisson.csv').iloc[:,1:]"
   ]
  },
  {
   "cell_type": "code",
   "execution_count": 6,
   "metadata": {},
   "outputs": [],
   "source": [
    "def conteo_perf(newdf=df):\n",
    "    df_drop=newdf.drop_duplicates(subset='LAT_LON') \n",
    "    conteos=newdf[['LAT_LON','SITIO_EXACTO_ACCIDENTE']].groupby(['LAT_LON','SITIO_EXACTO_ACCIDENTE']).size().reset_index(name='count')\n",
    "    grp_conteos = conteos.groupby('LAT_LON')['count'].agg(['sum','max'])\n",
    "    grp_conteos['sum_rate'] = grp_conteos['max'] / grp_conteos['sum']\n",
    "    filtered_conteos = grp_conteos[grp_conteos['sum_rate'] > 0.3]\n",
    "    return_df = filtered_conteos.drop(['max', 'sum_rate'], axis=1)\n",
    "    return_df.rename(columns = {'sum':'NACCIDENTS'}, inplace = True) \n",
    "    fusion=pd.merge(return_df,df_drop,on='LAT_LON',how='inner')[['NACCIDENTS','AÑO_ACCIDENTE','MES_ACCIDENTE',\n",
    "                                                     'CLASE_ACCIDENTE','LONGITUD', 'LATITUD',\n",
    "                                                     'POT', 'PIEZA_URBANA', 'BUS_SUBIDA','BUS_BAJADA', \n",
    "                                                     'TRAFICO','ES_FESTIVO','SOLO_HORA','DIA_ACCIDENTE','JUNIOR_JUGO']].reset_index().iloc[:,1:]\n",
    "    return(fusion)"
   ]
  },
  {
   "cell_type": "code",
   "execution_count": 7,
   "metadata": {},
   "outputs": [],
   "source": [
    "semaforos=pd.read_csv('lights_clean.csv')[['LATITUD','LONGITUD']]"
   ]
  },
  {
   "cell_type": "code",
   "execution_count": 8,
   "metadata": {},
   "outputs": [],
   "source": [
    "def distancia_semaforos_mas_rapido(final_df,lights=semaforos):\n",
    "    closest=np.zeros(final_df.shape[0])\n",
    "    numclose=np.zeros(final_df.shape[0])\n",
    "    numclose2=np.zeros(final_df.shape[0])\n",
    "    numclose3=np.zeros(final_df.shape[0])\n",
    "    for i in range(final_df.shape[0]):\n",
    "        corner_lat=final_df['LATITUD'][i]\n",
    "        corner_lon=final_df['LONGITUD'][i]\n",
    "        light_lat=np.array(lights['LATITUD'])\n",
    "        light_lon=np.array(lights['LONGITUD'])\n",
    "        dx = (light_lon-corner_lon)*40000*np.cos((light_lat+corner_lat)*math.pi/360)/360\n",
    "        dy = (light_lat-corner_lat)*40000/360\n",
    "        distance=np.sqrt(dx**2+dy**2)\n",
    "        closest[i]=distance[distance.argmin()]\n",
    "        numclose[i]=np.sum(distance<0.1)\n",
    "        numclose2[i]=np.sum(((distance>=0.1) & (distance<0.5)))\n",
    "        numclose3[i]=np.sum(((distance>=0.5) & (distance<2)))\n",
    "    final_df['NLIGHTS']=list(numclose)\n",
    "    final_df['NLIGHTS2']=list(numclose2)\n",
    "    final_df['CLOSEST_LIGHT']=list(closest)\n",
    "    return(final_df)"
   ]
  },
  {
   "cell_type": "code",
   "execution_count": 9,
   "metadata": {},
   "outputs": [],
   "source": [
    "def modelo_poisson(dia=False,mes=False,hora=25, df=df,lights=semaforos,lights_aux=semaforos): #Ojo dia, festivo, mes, año tienen que ser excluyente, si uno es verdadero automaticamente los otros son falsos\n",
    "        if(mes!=False):\n",
    "            df=df[df.MES_ACCIDENTE==mes]\n",
    "        if(dia!=False):\n",
    "            df=df[df.DIA_ACCIDENTE==dia]\n",
    "        if(hora!=25):\n",
    "            df=df[df.SOLO_HORA==hora]\n",
    "        data=conteo_perf(newdf=df)\n",
    "        data_aux=data.copy()\n",
    "        data=distancia_semaforos_mas_rapido(final_df=data,lights=lights)\n",
    "        data_aux=distancia_semaforos_mas_rapido(final_df=data_aux,lights=lights_aux)\n",
    "        formula='NACCIDENTS~BUS_SUBIDA+BUS_BAJADA+POT+PIEZA_URBANA+NLIGHTS+NLIGHTS2+TRAFICO+CLOSEST_LIGHT'\n",
    "        model = glm(formula=formula, data=data, family=sm.families.Poisson()).fit()\n",
    "        data_aux['PREDICHOS']=model.predict(data_aux)   \n",
    "        data['PREDICHOS']=model.predict()\n",
    "        return([data[['LATITUD','LONGITUD','PREDICHOS']],data_aux[['LATITUD','LONGITUD','PREDICHOS']]])"
   ]
  },
  {
   "cell_type": "code",
   "execution_count": 10,
   "metadata": {},
   "outputs": [],
   "source": [
    "def mapa_calor_año(lights_aux=semaforos):\n",
    "    modelo=modelo_poisson(lights_aux=lights_aux)\n",
    "    mapa_barranquilla_observados = folium.Map(location=[10.980706, -74.807636],zoom_start=13,tiles=\"OpenStreetMap\")\n",
    "    mapa_barranquilla_predichos = folium.Map(location=[10.980706, -74.807636],zoom_start=13,tiles=\"OpenStreetMap\")\n",
    "    capa_calor_observados=HeatMap(modelo[0][['LATITUD','LONGITUD','PREDICHOS']],radius=15)\n",
    "    capa_calor_predichos=HeatMap(modelo[1][['LATITUD','LONGITUD','PREDICHOS']],radius=15)\n",
    "    mapa_barranquilla_predichos.add_child(capa_calor_predichos)\n",
    "    mapa_barranquilla_observados.add_child(capa_calor_observados)\n",
    "    mapa_barranquilla_observados.save('anho_asIs.html')\n",
    "    mapa_barranquilla_predichos.save('anho_toBe.html')\n",
    "    anho={}\n",
    "    anho['key']='anho'\n",
    "    anho['AsIs']='anho_asIs.html'\n",
    "    anho['toBe']='anho_toBe.html'\n",
    "    lista=[anho]\n",
    "    return(lista)\n",
    "\n",
    "def video_mapa_hora(horas=[0,1,2,3,4,5,6,7,8,9,10,11,12,13,14,15,16,17,18,19,20,21,22,23],lights_aux=semaforos):\n",
    "#     aux_predichos=[]\n",
    "#     aux_observados=[]\n",
    "    lista=[]\n",
    "    for i in horas:\n",
    "        modelo=modelo_poisson(hora=i,lights_aux=lights_aux)\n",
    "        mapa_barranquilla_observados = folium.Map(location=[10.980706, -74.807636],zoom_start=13,tiles=\"OpenStreetMap\")\n",
    "        mapa_barranquilla_predichos = folium.Map(location=[10.980706, -74.807636],zoom_start=13,tiles=\"OpenStreetMap\")\n",
    "        capa_calor_observados=HeatMap(modelo[0][['LATITUD','LONGITUD','PREDICHOS']],radius=15)\n",
    "        capa_calor_predichos=HeatMap(modelo[1][['LATITUD','LONGITUD','PREDICHOS']],radius=15)\n",
    "        mapa_barranquilla_predichos.add_child(capa_calor_predichos)\n",
    "        mapa_barranquilla_observados.add_child(capa_calor_observados)\n",
    "        mapa_barranquilla_observados.save('hora_'+str(i)+'_asIs.html')\n",
    "        mapa_barranquilla_predichos.save('hora_'+str(i)+'_toBe.html')\n",
    "        aux={}\n",
    "        aux['key']=str(i)\n",
    "        aux['asIs']='hora_'+str(i)+'_asIs.html'\n",
    "        aux['toBe']='hora_'+str(i)+'_toBe.html'\n",
    "        lista.append(aux)\n",
    "#         aux_predichos.append(mapa_barranquilla_predichos)\n",
    "#         aux_observados.append(mapa_barranquilla_observados)\n",
    "    return(lista)\n",
    "\n",
    "def video_mapa_mes(mes=[1,2,3,4,5,6,7,8,9,10,11,12],lights_aux=semaforos):\n",
    "#     aux_predichos=[]\n",
    "    lista=[]\n",
    "#     aux_observados=[]\n",
    "    for i in mes:\n",
    "        modelo=modelo_poisson(mes=i,lights_aux=lights_aux)\n",
    "        mapa_barranquilla_observados = folium.Map(location=[10.980706, -74.807636],zoom_start=13,tiles=\"OpenStreetMap\")\n",
    "        mapa_barranquilla_predichos = folium.Map(location=[10.980706, -74.807636],zoom_start=13,tiles=\"OpenStreetMap\")\n",
    "        capa_calor_observados=HeatMap(modelo[0][['LATITUD','LONGITUD','PREDICHOS']],radius=15)\n",
    "        capa_calor_predichos=HeatMap(modelo[1][['LATITUD','LONGITUD','PREDICHOS']],radius=15)\n",
    "        mapa_barranquilla_predichos.add_child(capa_calor_predichos)\n",
    "        mapa_barranquilla_observados.add_child(capa_calor_observados)\n",
    "        mapa_barranquilla_observados.save('mes_'+month_name[i]+'_asIs.html')\n",
    "        mapa_barranquilla_predichos.save('mes_'+month_name[i]+'_toBe.html')\n",
    "#         aux_predichos.append(mapa_barranquilla_predichos)\n",
    "#         aux_observados.append(mapa_barranquilla_observados)\n",
    "        aux={}\n",
    "        aux['key']=month_name[i]\n",
    "        aux['asIs']='mes_'+month_name[i]+'_asIs.html'\n",
    "        aux['toBe']='mes_'+month_name[i]+'_toBe.html'\n",
    "        lista.append(aux)\n",
    "    return(lista)\n",
    "\n",
    "\n",
    "def video_mapa_dia(dias=['Lun','Mar','Mié','Jue','Vie','Sáb','Dom'],lights_aux=semaforos):\n",
    "#     aux_predichos=[]\n",
    "    lista=[]\n",
    "#     aux_observados=[]\n",
    "    for i in dias:\n",
    "        modelo=modelo_poisson(dia=i,lights_aux=lights_aux)\n",
    "        mapa_barranquilla_observados = folium.Map(location=[10.980706, -74.807636],zoom_start=13,tiles=\"OpenStreetMap\")\n",
    "        mapa_barranquilla_predichos = folium.Map(location=[10.980706, -74.807636],zoom_start=13,tiles=\"OpenStreetMap\")\n",
    "        capa_calor_observados=HeatMap(modelo[0][['LATITUD','LONGITUD','PREDICHOS']],radius=15)\n",
    "        capa_calor_predichos=HeatMap(modelo[1][['LATITUD','LONGITUD','PREDICHOS']],radius=15)\n",
    "        mapa_barranquilla_predichos.add_child(capa_calor_predichos)\n",
    "        mapa_barranquilla_observados.add_child(capa_calor_observados)\n",
    "        mapa_barranquilla_observados.save('dia_'+i+'_asIs.html')\n",
    "        mapa_barranquilla_predichos.save('dia_'+i+'_toBe.html')\n",
    "        aux={}\n",
    "        aux['key']=i\n",
    "        aux['asIs']='dia_'+i+'_asIs.html'\n",
    "        aux['toBe']='dia_'+i+'_toBe.html'\n",
    "        lista.append(aux)        \n",
    "#         aux_predichos.append(mapa_barranquilla_predichos)\n",
    "#         aux_observados.append(mapa_barranquilla_observados)\n",
    "    return(lista)"
   ]
  },
  {
   "cell_type": "code",
   "execution_count": 13,
   "metadata": {},
   "outputs": [
    {
     "data": {
      "text/plain": [
       "[{'key': 'anho', 'AsIs': 'anho_asIs.html', 'toBe': 'anho_toBe.html'}]"
      ]
     },
     "execution_count": 13,
     "metadata": {},
     "output_type": "execute_result"
    }
   ],
   "source": [
    "mapa_calor_año()"
   ]
  },
  {
   "cell_type": "code",
   "execution_count": 42,
   "metadata": {},
   "outputs": [
    {
     "name": "stdout",
     "output_type": "stream",
     "text": [
      "--- 4.285816669464111 seconds ---\n"
     ]
    }
   ],
   "source": [
    "#a=video_mapa_observados_dia()\n",
    "start_time = time.time()\n",
    "a=video_mapa_dia(lights_aux=semaforos)\n",
    "print(\"--- %s seconds ---\" % (time.time() - start_time))  "
   ]
  },
  {
   "cell_type": "code",
   "execution_count": 11,
   "metadata": {},
   "outputs": [],
   "source": [
    "def funcion_final(dia=False,mes=False,hora=25, df=df,lights=semaforos,lights_aux=semaforos):\n",
    "    \n",
    "    if(mes!=False):\n",
    "        return(video_mapa_mes(mes=mes,lights_aux=semaforos))            \n",
    "    if(dia!=False):\n",
    "        return(video_mapa_dia(dias=dia,lights_aux=semaforos))\n",
    "    if(hora!=25):\n",
    "        return(video_mapa_hora(horas=hora,lights_aux=semaforos))\n",
    "    return(mapa_calor_año(lights_aux=semaforos))\n",
    "    \n",
    "    \n",
    "    "
   ]
  },
  {
   "cell_type": "code",
   "execution_count": null,
   "metadata": {},
   "outputs": [],
   "source": []
  }
 ],
 "metadata": {
  "kernelspec": {
   "display_name": "Python 3",
   "language": "python",
   "name": "python3"
  },
  "language_info": {
   "codemirror_mode": {
    "name": "ipython",
    "version": 3
   },
   "file_extension": ".py",
   "mimetype": "text/x-python",
   "name": "python",
   "nbconvert_exporter": "python",
   "pygments_lexer": "ipython3",
   "version": "3.7.4"
  },
  "varInspector": {
   "cols": {
    "lenName": 16,
    "lenType": 16,
    "lenVar": 40
   },
   "kernels_config": {
    "python": {
     "delete_cmd_postfix": "",
     "delete_cmd_prefix": "del ",
     "library": "var_list.py",
     "varRefreshCmd": "print(var_dic_list())"
    },
    "r": {
     "delete_cmd_postfix": ") ",
     "delete_cmd_prefix": "rm(",
     "library": "var_list.r",
     "varRefreshCmd": "cat(var_dic_list()) "
    }
   },
   "types_to_exclude": [
    "module",
    "function",
    "builtin_function_or_method",
    "instance",
    "_Feature"
   ],
   "window_display": false
  }
 },
 "nbformat": 4,
 "nbformat_minor": 2
}
