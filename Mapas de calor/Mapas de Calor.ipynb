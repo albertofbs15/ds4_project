{
 "cells": [
  {
   "cell_type": "code",
   "execution_count": 1,
   "metadata": {},
   "outputs": [],
   "source": [
    "import pandas as pd\n",
    "import numpy as np\n",
    "from folium import plugins\n",
    "import folium\n",
    "from folium.plugins import HeatMap\n",
    "import matplotlib.pyplot as plt\n",
    "import matplotlib.image as mpimg\n",
    "from selenium import webdriver\n",
    "import os\n",
    "import time\n",
    "from PIL import Image"
   ]
  },
  {
   "cell_type": "code",
   "execution_count": 2,
   "metadata": {},
   "outputs": [],
   "source": [
    "df=pd.read_csv('Final_Final.csv', low_memory=False).iloc[:,1:]\n",
    "blanco=mpimg.imread('blanco.png')"
   ]
  },
  {
   "cell_type": "markdown",
   "metadata": {},
   "source": [
    "# Mejor se crea la función parametro \"variable\""
   ]
  },
  {
   "cell_type": "code",
   "execution_count": 9,
   "metadata": {},
   "outputs": [],
   "source": [
    "def imagenes(variable='AÑO_ACCIDENTE',radio=5,blur=6,max_zoom=5):\n",
    "    variable_agrupado=df.groupby(variable)\n",
    "    browser = webdriver.Chrome()\n",
    "    browser.set_window_position(0, 0)\n",
    "    browser.set_window_size(1600, 900) # resolucion pc del trabajo\n",
    "    #browser.set_window_size(1920, 1080) #resolución pc de la casa\n",
    "    for aux in variable_agrupado:\n",
    "        grupo=aux[1]\n",
    "        mapa_barranquilla = folium.Map(\n",
    "            location=[10.980706, -74.807636],\n",
    "            zoom_start=13,tiles=\"OpenStreetMap\")\n",
    "        folium.raster_layers.ImageOverlay(\n",
    "            image=blanco,\n",
    "            bounds=[[11.047646, -74.881417],[10.887618, -74.755426]]).add_to(mapa_barranquilla)\n",
    "        capa_calor=HeatMap(grupo[['LATITUD','LONGITUD']], min_opacity=0.1,radius=radio, blur=blur,max_zoom=max_zoom)\n",
    "        mapa_barranquilla.add_child(capa_calor)\n",
    "        tmpurl='file://{path}/{mapfile}.html'.format(path=os.getcwd(),mapfile=aux[0])\n",
    "        mapa_barranquilla.save('{nombre}.html'.format(nombre=aux[0]))\n",
    "        browser.get(tmpurl)\n",
    "        browser.save_screenshot('{nombre}.png'.format(nombre=aux[0]))\n",
    "        im = Image.open('{nombre}.png'.format(nombre=aux[0]))         \n",
    "        im1 = im.crop((330, 0, 1062, 742)) \n",
    "        os.remove('{nombre}.png'.format(nombre=aux[0]))        \n",
    "        os.remove('{nombre}.html'.format(nombre=aux[0]))\n",
    "        im1.save('{nombre}.png'.format(nombre=aux[0]))\n",
    "    browser.quit()\n",
    "    "
   ]
  },
  {
   "cell_type": "markdown",
   "metadata": {},
   "source": [
    "# Año"
   ]
  },
  {
   "cell_type": "code",
   "execution_count": 10,
   "metadata": {},
   "outputs": [],
   "source": [
    "imagenes()"
   ]
  },
  {
   "cell_type": "markdown",
   "metadata": {},
   "source": [
    "# Mes"
   ]
  },
  {
   "cell_type": "code",
   "execution_count": 15,
   "metadata": {},
   "outputs": [],
   "source": [
    "imagenes(variable='MES_ACCIDENTE')"
   ]
  },
  {
   "cell_type": "markdown",
   "metadata": {},
   "source": [
    "# Imágenes para los días de la semana"
   ]
  },
  {
   "cell_type": "code",
   "execution_count": 16,
   "metadata": {},
   "outputs": [],
   "source": [
    "imagenes(variable='DIA_ACCIDENTE')"
   ]
  },
  {
   "cell_type": "markdown",
   "metadata": {},
   "source": [
    "# Imágenes para tipo de accidente"
   ]
  },
  {
   "cell_type": "code",
   "execution_count": 12,
   "metadata": {},
   "outputs": [],
   "source": [
    "imagenes(variable='GRAVEDAD_ACCIDENTE')"
   ]
  },
  {
   "cell_type": "markdown",
   "metadata": {},
   "source": [
    "# Imágenes para clase de accidentes"
   ]
  },
  {
   "cell_type": "code",
   "execution_count": 17,
   "metadata": {},
   "outputs": [],
   "source": [
    "imagenes(variable='CLASE_ACCIDENTE')"
   ]
  },
  {
   "cell_type": "code",
   "execution_count": 18,
   "metadata": {},
   "outputs": [],
   "source": [
    "imagenes(variable='CUATRIMESTRE_DEL_AÑO')"
   ]
  },
  {
   "cell_type": "code",
   "execution_count": 19,
   "metadata": {
    "scrolled": true
   },
   "outputs": [],
   "source": [
    "imagenes(variable=['AÑO_ACCIDENTE','MES_ACCIDENTE'])"
   ]
  },
  {
   "cell_type": "code",
   "execution_count": 20,
   "metadata": {},
   "outputs": [],
   "source": [
    "imagenes(variable=['DIA_ACCIDENTE','SOLO_HORA'])"
   ]
  },
  {
   "cell_type": "code",
   "execution_count": 51,
   "metadata": {},
   "outputs": [],
   "source": [
    "imagenes(variable='SOLO_HORA')"
   ]
  },
  {
   "cell_type": "code",
   "execution_count": 52,
   "metadata": {},
   "outputs": [],
   "source": [
    "imagenes(variable='MES_ACCIDENTE')"
   ]
  },
  {
   "cell_type": "code",
   "execution_count": 23,
   "metadata": {},
   "outputs": [],
   "source": [
    "imagenes(variable=['AÑO_ACCIDENTE','SOLO_HORA'])"
   ]
  }
 ],
 "metadata": {
  "kernelspec": {
   "display_name": "Python 3",
   "language": "python",
   "name": "python3"
  },
  "language_info": {
   "codemirror_mode": {
    "name": "ipython",
    "version": 3
   },
   "file_extension": ".py",
   "mimetype": "text/x-python",
   "name": "python",
   "nbconvert_exporter": "python",
   "pygments_lexer": "ipython3",
   "version": "3.7.4"
  },
  "varInspector": {
   "cols": {
    "lenName": 16,
    "lenType": 16,
    "lenVar": 40
   },
   "kernels_config": {
    "python": {
     "delete_cmd_postfix": "",
     "delete_cmd_prefix": "del ",
     "library": "var_list.py",
     "varRefreshCmd": "print(var_dic_list())"
    },
    "r": {
     "delete_cmd_postfix": ") ",
     "delete_cmd_prefix": "rm(",
     "library": "var_list.r",
     "varRefreshCmd": "cat(var_dic_list()) "
    }
   },
   "types_to_exclude": [
    "module",
    "function",
    "builtin_function_or_method",
    "instance",
    "_Feature"
   ],
   "window_display": false
  }
 },
 "nbformat": 4,
 "nbformat_minor": 2
}
