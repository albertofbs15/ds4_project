{
 "cells": [
  {
   "cell_type": "code",
   "execution_count": 1,
   "metadata": {},
   "outputs": [],
   "source": [
    "import numpy                 as np\n",
    "import pandas                as pd\n",
    "import matplotlib.pyplot     as plt\n",
    "import seaborn               as sns\n",
    "import sklearn.metrics       as Metrics\n",
    "import pandas                as pd\n",
    "import matplotlib.pyplot     as plt\n",
    "import datetime\n",
    " \n",
    "import folium  #needed for interactive map\n",
    "from folium.plugins import HeatMap\n",
    "\n",
    "from   collections           import Counter\n",
    "from   sklearn               import preprocessing\n",
    "from   datetime              import datetime\n",
    "from   collections           import Counter\n",
    "from   math                  import exp\n",
    "from   sklearn.metrics       import mean_absolute_error\n",
    "from   sklearn.metrics       import median_absolute_error\n",
    "from   sklearn.metrics       import r2_score\n",
    "%matplotlib inline\n",
    "sns.set()"
   ]
  },
  {
   "cell_type": "code",
   "execution_count": 3,
   "metadata": {},
   "outputs": [],
   "source": [
    "df=pd.read_csv('Final_Final.csv').iloc[:,1:]"
   ]
  },
  {
   "cell_type": "code",
   "execution_count": 61,
   "metadata": {
    "scrolled": true
   },
   "outputs": [],
   "source": [
    "\n",
    "\n",
    "#datetime.datetime.strptime(df['HORA_ACCIDENTE'][],'%I:%M:%S:%p').hour\n",
    "def hora(x):\n",
    "    return(datetime.datetime.strptime(x['HORA_ACCIDENTE'],'%I:%M:%S:%p').hour)\n",
    "\n",
    "df['SOLO_HORA']=df.apply(lambda x: hora(x),axis=1)"
   ]
  },
  {
   "cell_type": "code",
   "execution_count": 62,
   "metadata": {},
   "outputs": [],
   "source": [
    "df.to_csv('Final_Final.csv')"
   ]
  },
  {
   "cell_type": "markdown",
   "metadata": {},
   "source": [
    "#  A partir de este momento empezaremos la construcción de los mapas de calor para cada año"
   ]
  },
  {
   "cell_type": "code",
   "execution_count": 4,
   "metadata": {},
   "outputs": [],
   "source": [
    "prueba_2015=df[df['AÑO_ACCIDENTE']==2015][['LATITUD','LONGITUD']].reset_index(drop=True)"
   ]
  },
  {
   "cell_type": "code",
   "execution_count": 32,
   "metadata": {},
   "outputs": [],
   "source": [
    "from folium import plugins\n",
    "import matplotlib.pyplot as plt\n",
    "import matplotlib.image as mpimg\n",
    "from selenium import webdriver\n",
    "import os\n",
    "import time\n",
    "from selenium.webdriver import Firefox"
   ]
  },
  {
   "cell_type": "code",
   "execution_count": 6,
   "metadata": {},
   "outputs": [],
   "source": [
    "blanco=mpimg.imread('blanco.png')\n"
   ]
  },
  {
   "cell_type": "code",
   "execution_count": 41,
   "metadata": {
    "scrolled": true
   },
   "outputs": [],
   "source": [
    "mapa_barranquilla = folium.Map(location=[10.980706, -74.807636],\n",
    "                        zoom_start=13,\n",
    "                        tiles=\"Stamen Toner\")#,API_key='pk.eyJ1IjoibWFuaGUiLCJhIjoiY2syZzR6cHMzMHJlZjNibDZkYzg3aXB1eSJ9.I08BghX_-B6GKY0NHwRTyw')\n",
    "\n",
    "folium.raster_layers.ImageOverlay(\n",
    "    image=blanco,\n",
    "    bounds=[[11.047646, -74.881417],[10.887618, -74.755426]]).add_to(mapa_barranquilla)\n",
    "\n",
    "capa_calor=HeatMap(prueba_2015[['LATITUD','LONGITUD']], min_opacity=0.1,radius=5, blur=6,max_zoom=5)\n",
    "mapa_barranquilla.add_child(capa_calor)\n",
    "tmpurl='file://{path}/{mapfile}'.format(path=os.getcwd(),mapfile='hola.html')\n",
    "mapa_barranquilla.save('hola.html')\n",
    "browser = webdriver.Firefox()\n",
    "browser.set_window_position(0, 0)\n",
    "browser.set_window_size(1600, 900)\n",
    "browser.get(tmpurl)\n",
    "browser.save_screenshot('map.png',)\n",
    "browser.quit()\n",
    "\n"
   ]
  },
  {
   "cell_type": "code",
   "execution_count": null,
   "metadata": {},
   "outputs": [],
   "source": []
  },
  {
   "cell_type": "code",
   "execution_count": null,
   "metadata": {},
   "outputs": [],
   "source": []
  }
 ],
 "metadata": {
  "kernelspec": {
   "display_name": "Python 3",
   "language": "python",
   "name": "python3"
  },
  "language_info": {
   "codemirror_mode": {
    "name": "ipython",
    "version": 3
   },
   "file_extension": ".py",
   "mimetype": "text/x-python",
   "name": "python",
   "nbconvert_exporter": "python",
   "pygments_lexer": "ipython3",
   "version": "3.7.5"
  },
  "varInspector": {
   "cols": {
    "lenName": 16,
    "lenType": 16,
    "lenVar": 40
   },
   "kernels_config": {
    "python": {
     "delete_cmd_postfix": "",
     "delete_cmd_prefix": "del ",
     "library": "var_list.py",
     "varRefreshCmd": "print(var_dic_list())"
    },
    "r": {
     "delete_cmd_postfix": ") ",
     "delete_cmd_prefix": "rm(",
     "library": "var_list.r",
     "varRefreshCmd": "cat(var_dic_list()) "
    }
   },
   "types_to_exclude": [
    "module",
    "function",
    "builtin_function_or_method",
    "instance",
    "_Feature"
   ],
   "window_display": false
  }
 },
 "nbformat": 4,
 "nbformat_minor": 2
}
