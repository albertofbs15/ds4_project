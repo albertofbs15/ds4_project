{
 "cells": [
  {
   "cell_type": "code",
   "execution_count": 8,
   "metadata": {},
   "outputs": [],
   "source": [
    "import numpy as np\n",
    "import pandas as pd\n",
    "import math\n",
    "import statsmodels.api as sm\n",
    "import matplotlib.pyplot as plt\n",
    "from statsmodels.formula.api import glm\n",
    "import collections\n",
    "from statsmodels.sandbox.stats.multicomp import multipletests\n",
    "\n",
    "#import folium # package for making maps, please make sure to use a version older than 1.0..\n",
    "\n"
   ]
  },
  {
   "cell_type": "markdown",
   "metadata": {},
   "source": [
    "Leer la base de datos, unir latitud y longitud en una sola columna"
   ]
  },
  {
   "cell_type": "code",
   "execution_count": 9,
   "metadata": {},
   "outputs": [],
   "source": [
    "df=pd.read_csv('Final_Final.csv')\n",
    "lights=pd.read_csv('lights_clean.csv')\n",
    "list_df=[]\n",
    "x_df=[]\n",
    "y_df=[]\n",
    "for i in range(df.shape[0]):\n",
    "    #address=str(round(df['LATITUD'].iloc[i],7))+' '+str(round(df['LONGITUD'].iloc[i],7))\n",
    "    address=str(df['LATITUD'].iloc[i])+' '+str(df['LONGITUD'].iloc[i])\n",
    "    list_df.append(address)   \n",
    "    \n",
    "df['LAT_LON']=list_df\n",
    "df['ID']=df['BUS_SUBIDA']\n",
    "\n",
    "\n",
    "newdf=df[['LAT_LON','ID','BUS_SUBIDA','BUS_BAJADA','TRAFICO','POT','PIEZA_URBANA','LATITUD','LONGITUD']]"
   ]
  },
  {
   "cell_type": "markdown",
   "metadata": {},
   "source": [
    "Contar la cantidad de accidentes y armar la nueva tabla.\n",
    "\n",
    "Revisar que las direcciones sean parecidas y dejar solo aquellas intersecciones donde el número de direcciones distintas sea grande. \n",
    "``counter=collections.Counter(a)``\n",
    "\n",
    "``if counter.most_common(1)[0][1]/a.size>0.3:``"
   ]
  },
  {
   "cell_type": "code",
   "execution_count": 10,
   "metadata": {},
   "outputs": [],
   "source": [
    "dff=newdf.groupby(['LAT_LON']).count().reset_index()\n",
    "list_accidents=[]\n",
    "list_df=[]\n",
    "for i in range(dff.shape[0]):\n",
    "    a=df[df['LAT_LON']==dff[\"LAT_LON\"][i]]['SITIO_EXACTO_ACCIDENTE']\n",
    "    counter=collections.Counter(a)\n",
    "    if counter.most_common(1)[0][1]/a.size>0.3:\n",
    "        list_df.append(np.array(newdf[newdf['LAT_LON']==dff['LAT_LON'].iloc[i]]).tolist()[0])\n",
    "        list_accidents.append(dff['ID'][i])\n",
    "        \n",
    "final_df = pd.DataFrame.from_records(list_df)\n",
    "final_df=final_df.rename(columns={0:'LAT_LON',1:'ID',2:'BUS_SUBIDA',3:'BUS_BAJADA',4:'TRAFICO',5:'POT',6:'PIEZA_URBANA',7:'LATITUD',8:'LONGITUD'})\n",
    "final_df['ID']=list_accidents"
   ]
  },
  {
   "cell_type": "markdown",
   "metadata": {},
   "source": [
    "Crear la matriz de distancias y de número de semáforos cerca"
   ]
  },
  {
   "cell_type": "code",
   "execution_count": null,
   "metadata": {},
   "outputs": [],
   "source": [
    "closest=np.zeros(final_df.shape[0])\n",
    "numclose=np.zeros(final_df.shape[0])\n",
    "numclose2=np.zeros(final_df.shape[0])\n",
    "numclose3=np.zeros(final_df.shape[0])\n",
    "for i in range(final_df.shape[0]):\n",
    "    corner_lat=final_df['LATITUD'][i]\n",
    "    corner_lon=final_df['LONGITUD'][i]\n",
    "    light_lat=np.array(lights['LATITUD'])\n",
    "    light_lon=np.array(lights['LONGITUD'])\n",
    "    dx = (light_lon-corner_lon)*40000*np.cos((light_lat+corner_lat)*math.pi/360)/360\n",
    "    dy = (light_lat-corner_lat)*40000/360\n",
    "    distance=np.sqrt(dx**2+dy**2)\n",
    "    closest[i]=distance[distance.argmin()]\n",
    "    numclose[i]=sum(distance<0.1)\n",
    "    numclose2[i]=sum(((distance>=0.1) & (distance<0.5)))\n",
    "    numclose3[i]=sum(((distance>=0.5) & (distance<2)))\n",
    "final_df['NLIGHTS']=list(numclose)\n",
    "final_df['NLIGHTS2']=list(numclose2)\n",
    "final_df['NLIGHTS3']=list(numclose3)\n",
    "\n",
    "final_df['CLOSEST_LIGHT']=list(closest)\n",
    "data=final_df.rename(columns={'ID':'NACCIDENTS'})"
   ]
  },
  {
   "cell_type": "markdown",
   "metadata": {},
   "source": [
    "Modelo inicial"
   ]
  },
  {
   "cell_type": "code",
   "execution_count": 5,
   "metadata": {
    "scrolled": true
   },
   "outputs": [
    {
     "data": {
      "text/html": [
       "<table class=\"simpletable\">\n",
       "<caption>Generalized Linear Model Regression Results</caption>\n",
       "<tr>\n",
       "  <th>Dep. Variable:</th>      <td>NACCIDENTS</td>    <th>  No. Observations:  </th>  <td>  5830</td> \n",
       "</tr>\n",
       "<tr>\n",
       "  <th>Model:</th>                  <td>GLM</td>       <th>  Df Residuals:      </th>  <td>  5809</td> \n",
       "</tr>\n",
       "<tr>\n",
       "  <th>Model Family:</th>         <td>Poisson</td>     <th>  Df Model:          </th>  <td>    20</td> \n",
       "</tr>\n",
       "<tr>\n",
       "  <th>Link Function:</th>          <td>log</td>       <th>  Scale:             </th> <td>  1.0000</td>\n",
       "</tr>\n",
       "<tr>\n",
       "  <th>Method:</th>                <td>IRLS</td>       <th>  Log-Likelihood:    </th> <td> -20040.</td>\n",
       "</tr>\n",
       "<tr>\n",
       "  <th>Date:</th>            <td>Wed, 27 Nov 2019</td> <th>  Deviance:          </th> <td>  25217.</td>\n",
       "</tr>\n",
       "<tr>\n",
       "  <th>Time:</th>                <td>11:49:49</td>     <th>  Pearson chi2:      </th> <td>5.05e+04</td>\n",
       "</tr>\n",
       "<tr>\n",
       "  <th>No. Iterations:</th>          <td>6</td>        <th>                     </th>     <td> </td>   \n",
       "</tr>\n",
       "<tr>\n",
       "  <th>Covariance Type:</th>     <td>nonrobust</td>    <th>                     </th>     <td> </td>   \n",
       "</tr>\n",
       "</table>\n",
       "<table class=\"simpletable\">\n",
       "<tr>\n",
       "                    <td></td>                      <th>coef</th>     <th>std err</th>      <th>z</th>      <th>P>|z|</th>  <th>[0.025</th>    <th>0.975]</th>  \n",
       "</tr>\n",
       "<tr>\n",
       "  <th>Intercept</th>                            <td>    1.2876</td> <td>    0.042</td> <td>   30.387</td> <td> 0.000</td> <td>    1.205</td> <td>    1.371</td>\n",
       "</tr>\n",
       "<tr>\n",
       "  <th>POT[T.comercial]</th>                     <td>    0.0966</td> <td>    0.029</td> <td>    3.285</td> <td> 0.001</td> <td>    0.039</td> <td>    0.154</td>\n",
       "</tr>\n",
       "<tr>\n",
       "  <th>POT[T.industrial]</th>                    <td>    0.4099</td> <td>    0.044</td> <td>    9.332</td> <td> 0.000</td> <td>    0.324</td> <td>    0.496</td>\n",
       "</tr>\n",
       "<tr>\n",
       "  <th>POT[T.ninguna]</th>                       <td>   -0.0892</td> <td>    0.033</td> <td>   -2.672</td> <td> 0.008</td> <td>   -0.155</td> <td>   -0.024</td>\n",
       "</tr>\n",
       "<tr>\n",
       "  <th>POT[T.portuaria]</th>                     <td>   -0.6026</td> <td>    0.099</td> <td>   -6.065</td> <td> 0.000</td> <td>   -0.797</td> <td>   -0.408</td>\n",
       "</tr>\n",
       "<tr>\n",
       "  <th>POT[T.protegida]</th>                     <td>   -0.0911</td> <td>    0.047</td> <td>   -1.921</td> <td> 0.055</td> <td>   -0.184</td> <td>    0.002</td>\n",
       "</tr>\n",
       "<tr>\n",
       "  <th>POT[T.residencial]</th>                   <td>   -0.2794</td> <td>    0.032</td> <td>   -8.851</td> <td> 0.000</td> <td>   -0.341</td> <td>   -0.218</td>\n",
       "</tr>\n",
       "<tr>\n",
       "  <th>PIEZA_URBANA[T.centro metropolitana]</th> <td>   -0.1036</td> <td>    0.036</td> <td>   -2.878</td> <td> 0.004</td> <td>   -0.174</td> <td>   -0.033</td>\n",
       "</tr>\n",
       "<tr>\n",
       "  <th>PIEZA_URBANA[T.ninguna]</th>              <td>    0.2247</td> <td>    0.064</td> <td>    3.492</td> <td> 0.000</td> <td>    0.099</td> <td>    0.351</td>\n",
       "</tr>\n",
       "<tr>\n",
       "  <th>PIEZA_URBANA[T.prado norte]</th>          <td>   -0.0442</td> <td>    0.031</td> <td>   -1.405</td> <td> 0.160</td> <td>   -0.106</td> <td>    0.017</td>\n",
       "</tr>\n",
       "<tr>\n",
       "  <th>PIEZA_URBANA[T.ribera occidental]</th>    <td>    0.3705</td> <td>    0.043</td> <td>    8.571</td> <td> 0.000</td> <td>    0.286</td> <td>    0.455</td>\n",
       "</tr>\n",
       "<tr>\n",
       "  <th>PIEZA_URBANA[T.riomar]</th>               <td>    0.2670</td> <td>    0.027</td> <td>    9.886</td> <td> 0.000</td> <td>    0.214</td> <td>    0.320</td>\n",
       "</tr>\n",
       "<tr>\n",
       "  <th>PIEZA_URBANA[T.suroccidental 1]</th>      <td>   -0.1777</td> <td>    0.039</td> <td>   -4.606</td> <td> 0.000</td> <td>   -0.253</td> <td>   -0.102</td>\n",
       "</tr>\n",
       "<tr>\n",
       "  <th>PIEZA_URBANA[T.suroccidental 2]</th>      <td>    0.0907</td> <td>    0.040</td> <td>    2.258</td> <td> 0.024</td> <td>    0.012</td> <td>    0.169</td>\n",
       "</tr>\n",
       "<tr>\n",
       "  <th>PIEZA_URBANA[T.suroriental]</th>          <td>    0.0809</td> <td>    0.028</td> <td>    2.843</td> <td> 0.004</td> <td>    0.025</td> <td>    0.137</td>\n",
       "</tr>\n",
       "<tr>\n",
       "  <th>BUS_SUBIDA</th>                           <td>   -0.1069</td> <td>    0.010</td> <td>  -10.806</td> <td> 0.000</td> <td>   -0.126</td> <td>   -0.088</td>\n",
       "</tr>\n",
       "<tr>\n",
       "  <th>BUS_BAJADA</th>                           <td>    0.0722</td> <td>    0.010</td> <td>    7.051</td> <td> 0.000</td> <td>    0.052</td> <td>    0.092</td>\n",
       "</tr>\n",
       "<tr>\n",
       "  <th>NLIGHTS</th>                              <td>    0.1525</td> <td>    0.013</td> <td>   11.489</td> <td> 0.000</td> <td>    0.126</td> <td>    0.178</td>\n",
       "</tr>\n",
       "<tr>\n",
       "  <th>NLIGHTS2</th>                             <td>   -0.0185</td> <td>    0.002</td> <td>   -8.266</td> <td> 0.000</td> <td>   -0.023</td> <td>   -0.014</td>\n",
       "</tr>\n",
       "<tr>\n",
       "  <th>TRAFICO</th>                              <td>    0.0441</td> <td>    0.038</td> <td>    1.153</td> <td> 0.249</td> <td>   -0.031</td> <td>    0.119</td>\n",
       "</tr>\n",
       "<tr>\n",
       "  <th>CLOSEST_LIGHT</th>                        <td>   -0.0477</td> <td>    0.017</td> <td>   -2.738</td> <td> 0.006</td> <td>   -0.082</td> <td>   -0.014</td>\n",
       "</tr>\n",
       "</table>"
      ],
      "text/plain": [
       "<class 'statsmodels.iolib.summary.Summary'>\n",
       "\"\"\"\n",
       "                 Generalized Linear Model Regression Results                  \n",
       "==============================================================================\n",
       "Dep. Variable:             NACCIDENTS   No. Observations:                 5830\n",
       "Model:                            GLM   Df Residuals:                     5809\n",
       "Model Family:                 Poisson   Df Model:                           20\n",
       "Link Function:                    log   Scale:                          1.0000\n",
       "Method:                          IRLS   Log-Likelihood:                -20040.\n",
       "Date:                Wed, 27 Nov 2019   Deviance:                       25217.\n",
       "Time:                        11:49:49   Pearson chi2:                 5.05e+04\n",
       "No. Iterations:                     6                                         \n",
       "Covariance Type:            nonrobust                                         \n",
       "========================================================================================================\n",
       "                                           coef    std err          z      P>|z|      [0.025      0.975]\n",
       "--------------------------------------------------------------------------------------------------------\n",
       "Intercept                                1.2876      0.042     30.387      0.000       1.205       1.371\n",
       "POT[T.comercial]                         0.0966      0.029      3.285      0.001       0.039       0.154\n",
       "POT[T.industrial]                        0.4099      0.044      9.332      0.000       0.324       0.496\n",
       "POT[T.ninguna]                          -0.0892      0.033     -2.672      0.008      -0.155      -0.024\n",
       "POT[T.portuaria]                        -0.6026      0.099     -6.065      0.000      -0.797      -0.408\n",
       "POT[T.protegida]                        -0.0911      0.047     -1.921      0.055      -0.184       0.002\n",
       "POT[T.residencial]                      -0.2794      0.032     -8.851      0.000      -0.341      -0.218\n",
       "PIEZA_URBANA[T.centro metropolitana]    -0.1036      0.036     -2.878      0.004      -0.174      -0.033\n",
       "PIEZA_URBANA[T.ninguna]                  0.2247      0.064      3.492      0.000       0.099       0.351\n",
       "PIEZA_URBANA[T.prado norte]             -0.0442      0.031     -1.405      0.160      -0.106       0.017\n",
       "PIEZA_URBANA[T.ribera occidental]        0.3705      0.043      8.571      0.000       0.286       0.455\n",
       "PIEZA_URBANA[T.riomar]                   0.2670      0.027      9.886      0.000       0.214       0.320\n",
       "PIEZA_URBANA[T.suroccidental 1]         -0.1777      0.039     -4.606      0.000      -0.253      -0.102\n",
       "PIEZA_URBANA[T.suroccidental 2]          0.0907      0.040      2.258      0.024       0.012       0.169\n",
       "PIEZA_URBANA[T.suroriental]              0.0809      0.028      2.843      0.004       0.025       0.137\n",
       "BUS_SUBIDA                              -0.1069      0.010    -10.806      0.000      -0.126      -0.088\n",
       "BUS_BAJADA                               0.0722      0.010      7.051      0.000       0.052       0.092\n",
       "NLIGHTS                                  0.1525      0.013     11.489      0.000       0.126       0.178\n",
       "NLIGHTS2                                -0.0185      0.002     -8.266      0.000      -0.023      -0.014\n",
       "TRAFICO                                  0.0441      0.038      1.153      0.249      -0.031       0.119\n",
       "CLOSEST_LIGHT                           -0.0477      0.017     -2.738      0.006      -0.082      -0.014\n",
       "========================================================================================================\n",
       "\"\"\""
      ]
     },
     "execution_count": 5,
     "metadata": {},
     "output_type": "execute_result"
    }
   ],
   "source": [
    "formula='NACCIDENTS~BUS_SUBIDA+BUS_BAJADA+POT+PIEZA_URBANA+NLIGHTS+NLIGHTS2+TRAFICO+CLOSEST_LIGHT'\n",
    "mod1 = glm(formula=formula, data=data, family=sm.families.Poisson()).fit()\n",
    "mod1.summary()"
   ]
  },
  {
   "cell_type": "markdown",
   "metadata": {},
   "source": [
    "Corregir pvalores por Bonferroni y mostrar los NO significativos"
   ]
  },
  {
   "cell_type": "code",
   "execution_count": 6,
   "metadata": {},
   "outputs": [
    {
     "data": {
      "text/plain": [
       "POT[T.ninguna]                         -0.089228\n",
       "POT[T.protegida]                       -0.091107\n",
       "PIEZA_URBANA[T.centro metropolitana]   -0.103631\n",
       "PIEZA_URBANA[T.prado norte]            -0.044184\n",
       "PIEZA_URBANA[T.suroccidental 2]         0.090728\n",
       "PIEZA_URBANA[T.suroriental]             0.080913\n",
       "TRAFICO                                 0.044091\n",
       "CLOSEST_LIGHT                          -0.047729\n",
       "dtype: float64"
      ]
     },
     "execution_count": 6,
     "metadata": {},
     "output_type": "execute_result"
    }
   ],
   "source": [
    "p_adjusted = multipletests(mod1.pvalues, alpha=0.05, method='bonferroni')\n",
    "mod1.params[p_adjusted[1]>0.05]"
   ]
  },
  {
   "cell_type": "markdown",
   "metadata": {},
   "source": [
    "Modelo eliminando variables ``TRAFICO`` y ``CLOSEST_LIGHT``"
   ]
  },
  {
   "cell_type": "code",
   "execution_count": 7,
   "metadata": {},
   "outputs": [
    {
     "data": {
      "image/png": "[encoded data removed]",
      "text/plain": [
       "<Figure size 432x288 with 1 Axes>"
      ]
     },
     "metadata": {
      "needs_background": "light"
     },
     "output_type": "display_data"
    },
    {
     "data": {
      "image/png": "[encoded data removed]",
      "text/plain": [
       "<Figure size 432x288 with 1 Axes>"
      ]
     },
     "metadata": {
      "needs_background": "light"
     },
     "output_type": "display_data"
    }
   ],
   "source": [
    "formula2='NACCIDENTS~BUS_SUBIDA+BUS_BAJADA+POT+PIEZA_URBANA+NLIGHTS+NLIGHTS2'\n",
    "mod2 = glm(formula=formula, data=data, family=sm.families.Poisson()).fit()\n",
    "\n",
    "mod2.predict()\n",
    "plt.plot(list(mod2.predict()))\n",
    "plt.show()\n",
    "plt.plot(data['NACCIDENTS'])\n",
    "plt.show()"
   ]
  }
 ],
 "metadata": {
  "kernelspec": {
   "display_name": "Python 3",
   "language": "python",
   "name": "python3"
  },
  "language_info": {
   "codemirror_mode": {
    "name": "ipython",
    "version": 3
   },
   "file_extension": ".py",
   "mimetype": "text/x-python",
   "name": "python",
   "nbconvert_exporter": "python",
   "pygments_lexer": "ipython3",
   "version": "3.6.9"
  }
 },
 "nbformat": 4,
 "nbformat_minor": 2
}
