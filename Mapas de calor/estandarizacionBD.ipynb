{
 "cells": [
  {
   "cell_type": "code",
   "execution_count": 1,
   "metadata": {},
   "outputs": [],
   "source": [
    "import numpy                 as np\n",
    "import pandas                as pd"
   ]
  },
  {
   "cell_type": "code",
   "execution_count": 3,
   "metadata": {},
   "outputs": [
    {
     "data": {
      "text/plain": [
       "Index(['Unnamed: 0', 'ID', 'FECHA_ACCIDENTE', 'AÑO ACCIDENTE_x',\n",
       "       'MES_ACCIDENTE', 'DIA_ACCIDENTE', 'HORA_ACCIDENTE',\n",
       "       'GRAVEDAD_ACCIDENTE', 'CLASE_ACCIDENTE', 'SITIO_EXACTO_ACCIDENTE',\n",
       "       'CANT_HERIDOS_EN _SITIO_ACCIDENTE', 'CANT_MUERTOS_EN _SITIO_ACCIDENTE',\n",
       "       'CANTIDAD_ACCIDENTES', 'longitude', 'latitude', 'pot', 'pieza urbana',\n",
       "       'bus_subidas', 'bus_bajadas', 'trafico', 'IsHoliday', 'Type',\n",
       "       'DayOfMonth', 'Month', 'Year', 'DayOfYear', 'WeekOfYear', 'DayOfWeek',\n",
       "       'QuarterOfYear', 'home_team', 'away_team', 'home_result', 'away_result',\n",
       "       'junior_won', 'relevance', 'AUTOMOVIL', 'AÑO ACCIDENTE_y', 'BICICLETA',\n",
       "       'BUS', 'BUS ARTICULADO', 'BUSETA', 'CAMION', 'CAMION (RNMA)',\n",
       "       'CAMIONETA', 'CAMPERO', 'CARRETILLA ELEVADORA', 'CICLO TAXI',\n",
       "       'CLASE ACCIDENTE', 'CUATRIMOTO', 'DESC CLASE', 'DESCONOCIDA',\n",
       "       'DIA ACCIDENTE', 'DUMPER VOLQUETAARTICULADA', 'HORA ACCIDENTE',\n",
       "       'MAQUINARIA AGRICOLA', 'MAQUINARIA INDUSTRIAL', 'MES ACCIDENTE',\n",
       "       'MICROBUS', 'MINI EXCAVADORA', 'MINICARGADOR', 'MONTACARGAS',\n",
       "       'MOTOCARRO', 'MOTOCICLETA', 'MOTOTRICICLO', 'NO REGISTRA', 'REMOLQUE',\n",
       "       'RETROEXCAVADORA', 'SEMIREMOLQUE', 'TRACCION ANIMAL', 'TRACTO/CAMION',\n",
       "       'VOLQUETA', 'direccion', 'hipotesis'],\n",
       "      dtype='object')"
      ]
     },
     "execution_count": 3,
     "metadata": {},
     "output_type": "execute_result"
    }
   ],
   "source": [
    "df=pd.read_csv('final.csv')\n",
    "df.columns"
   ]
  },
  {
   "cell_type": "code",
   "execution_count": 5,
   "metadata": {},
   "outputs": [
    {
     "data": {
      "text/plain": [
       "Index(['ID', 'FECHA_ACCIDENTE', 'AÑO ACCIDENTE_x', 'MES_ACCIDENTE',\n",
       "       'DIA_ACCIDENTE', 'HORA_ACCIDENTE', 'GRAVEDAD_ACCIDENTE',\n",
       "       'CLASE_ACCIDENTE', 'SITIO_EXACTO_ACCIDENTE',\n",
       "       'CANT_HERIDOS_EN _SITIO_ACCIDENTE', 'CANT_MUERTOS_EN _SITIO_ACCIDENTE',\n",
       "       'longitude', 'latitude', 'pot', 'pieza urbana', 'bus_subidas',\n",
       "       'bus_bajadas', 'trafico', 'IsHoliday', 'Type', 'DayOfYear',\n",
       "       'WeekOfYear', 'QuarterOfYear', 'home_team', 'away_team', 'home_result',\n",
       "       'away_result', 'junior_won', 'relevance', 'hipotesis', 'MOTOCICLETA',\n",
       "       'AUTOMOVIL', 'CAMIONETA', 'BUS', 'CAMION', 'CAMPERO', 'BUSETA',\n",
       "       'BICICLETA', 'MICROBUS', 'TRACTO/CAMION', 'VOLQUETA', 'MOTOCARRO',\n",
       "       'DESCONOCIDA', 'CUATRIMOTO', 'MAQUINARIA AGRICOLA', 'TRACCION ANIMAL',\n",
       "       'MAQUINARIA INDUSTRIAL', 'CAMION (RNMA)', 'DUMPER VOLQUETAARTICULADA',\n",
       "       'REMOLQUE', 'SEMIREMOLQUE', 'RETROEXCAVADORA', 'MONTACARGAS',\n",
       "       'BUS ARTICULADO', 'MINICARGADOR', 'MINI EXCAVADORA', 'NO REGISTRA'],\n",
       "      dtype='object')"
      ]
     },
     "execution_count": 5,
     "metadata": {},
     "output_type": "execute_result"
    }
   ],
   "source": [
    "dff=df[['ID','FECHA_ACCIDENTE','AÑO ACCIDENTE_x','MES_ACCIDENTE','DIA_ACCIDENTE','HORA_ACCIDENTE','GRAVEDAD_ACCIDENTE','CLASE_ACCIDENTE','SITIO_EXACTO_ACCIDENTE','CANT_HERIDOS_EN _SITIO_ACCIDENTE', 'CANT_MUERTOS_EN _SITIO_ACCIDENTE','longitude', 'latitude', 'pot', 'pieza urbana','bus_subidas', 'bus_bajadas', 'trafico', 'IsHoliday', 'Type','DayOfYear', 'WeekOfYear','QuarterOfYear', 'home_team', 'away_team', 'home_result', 'away_result','junior_won', 'relevance', 'hipotesis', 'MOTOCICLETA', 'AUTOMOVIL','CAMIONETA', 'BUS', 'CAMION', 'CAMPERO', 'BUSETA', 'BICICLETA','MICROBUS', 'TRACTO/CAMION', 'VOLQUETA', 'MOTOCARRO', 'DESCONOCIDA','CUATRIMOTO', 'MAQUINARIA AGRICOLA', 'TRACCION ANIMAL','MAQUINARIA INDUSTRIAL', 'CAMION (RNMA)', 'DUMPER VOLQUETAARTICULADA','REMOLQUE', 'SEMIREMOLQUE', 'RETROEXCAVADORA', 'MONTACARGAS','BUS ARTICULADO', 'MINICARGADOR', 'MINI EXCAVADORA', 'NO REGISTRA']]\n",
    "dff.columns"
   ]
  },
  {
   "cell_type": "code",
   "execution_count": 6,
   "metadata": {},
   "outputs": [],
   "source": [
    "dff.columns=['ID', 'FECHA_ACCIDENTE', 'AÑO_ACCIDENTE', 'MES_ACCIDENTE',\n",
    "       'DIA_ACCIDENTE', 'HORA_ACCIDENTE', 'GRAVEDAD_ACCIDENTE',\n",
    "       'CLASE_ACCIDENTE', 'SITIO_EXACTO_ACCIDENTE',\n",
    "       'CANT_HERIDOS_EN _SITIO_ACCIDENTE', 'CANT_MUERTOS_EN _SITIO_ACCIDENTE',\n",
    "       'LONGITUD', 'LATITUD', 'POT', 'PIEZA_URBANA', 'BUS_SUBIDA',\n",
    "       'BUS_BAJADA', 'TRAFICO', 'ES_FESTIVO', 'TIPO_FESTIVO', 'DIA_DEL_AÑO',\n",
    "       'SEMANA_DEL_AÑO', 'CUATRIMESTRE_DEL_AÑO', 'JUNIOR_LOCAL', 'JUNIOR_VISITANTE', 'RESULTADO_LOCAL',\n",
    "       'RESULTADO_VISITANTE', 'JUNIOR_GANO', 'RELEVANCIA_PARTIDO', 'HIPOTESIS_ACCIDENTE', 'VEHICULO_MOTOCICLETA',\n",
    "       'VEHICULO_AUTOMOVIL', 'VEHICULO_CAMIONETA', 'VEHICULO_BUS', 'VEHICULO_CAMION', 'VEHICULO_CAMPERO', 'VEHICULO_BUSETA',\n",
    "       'VEHICULO_BICICLETA', 'VEHICULO_MICROBUS', 'VEHICULO_TRACTO_CAMION', 'VEHICULO_VOLQUETA', 'VEHICULO_MOTOCARRO',\n",
    "       'VEHICULO_DESCONOCIDO', 'VEHICULO_CUATRIMOTO', 'VEHICULO_MAQUINARIA_AGRICOLA', 'VEHICULO_TRACCION_ANIMAL',\n",
    "       'VEHICULO_MAQUIRIA_INDUSTRIAL', 'VEHICULO_CAMION_RNMA', 'VEHICULO_DUMPER_VOLQUETAARTICULADA',\n",
    "       'VEHICULO_REMOLQUE', 'VEHICULO_SEMIREMOLQUE', 'VEHICULO_RETROEXCAVADORA', 'VEHICULO_MONTACARGAS',\n",
    "       'VEHICULO_BUS_ARTICULADO', 'VEHICULO_MINICARGADOR', 'VEHICULO_MINI_EXCAVADORA', 'VEHICULO_NO_REGISTRA']"
   ]
  },
  {
   "cell_type": "code",
   "execution_count": 7,
   "metadata": {},
   "outputs": [],
   "source": [
    "dff.to_csv('Final_Final.csv')"
   ]
  }
 ],
 "metadata": {
  "kernelspec": {
   "display_name": "Python 3",
   "language": "python",
   "name": "python3"
  },
  "language_info": {
   "codemirror_mode": {
    "name": "ipython",
    "version": 3
   },
   "file_extension": ".py",
   "mimetype": "text/x-python",
   "name": "python",
   "nbconvert_exporter": "python",
   "pygments_lexer": "ipython3",
   "version": "3.7.4"
  },
  "varInspector": {
   "cols": {
    "lenName": 16,
    "lenType": 16,
    "lenVar": 40
   },
   "kernels_config": {
    "python": {
     "delete_cmd_postfix": "",
     "delete_cmd_prefix": "del ",
     "library": "var_list.py",
     "varRefreshCmd": "print(var_dic_list())"
    },
    "r": {
     "delete_cmd_postfix": ") ",
     "delete_cmd_prefix": "rm(",
     "library": "var_list.r",
     "varRefreshCmd": "cat(var_dic_list()) "
    }
   },
   "types_to_exclude": [
    "module",
    "function",
    "builtin_function_or_method",
    "instance",
    "_Feature"
   ],
   "window_display": false
  }
 },
 "nbformat": 4,
 "nbformat_minor": 2
}
