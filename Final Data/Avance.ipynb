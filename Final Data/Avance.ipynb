{
 "cells": [
  {
   "cell_type": "code",
   "execution_count": 34,
   "metadata": {},
   "outputs": [],
   "source": [
    "import numpy as np\n",
    "import pandas as pd\n",
    "import math\n",
    "import statsmodels.api as sm\n",
    "import matplotlib.pyplot as plt\n",
    "from statsmodels.formula.api import glm\n",
    "import collections\n",
    "from statsmodels.sandbox.stats.multicomp import multipletests\n",
    "import time\n",
    "from folium import plugins\n",
    "import folium\n",
    "from folium.plugins import HeatMap\n",
    "from folium.plugins import HeatMapWithTime\n",
    "import os\n",
    "from calendar import month_name\n",
    "import datetime"
   ]
  },
  {
   "cell_type": "code",
   "execution_count": 27,
   "metadata": {},
   "outputs": [],
   "source": [
    "df=pd.read_csv('Final_poisson.csv').iloc[:,1:]"
   ]
  },
  {
   "cell_type": "code",
   "execution_count": 28,
   "metadata": {},
   "outputs": [],
   "source": [
    "def conteo_perf(newdf=df):\n",
    "    df_drop=newdf.drop_duplicates(subset='LAT_LON') \n",
    "    conteos=newdf[['LAT_LON','SITIO_EXACTO_ACCIDENTE']].groupby(['LAT_LON','SITIO_EXACTO_ACCIDENTE']).size().reset_index(name='count')\n",
    "    grp_conteos = conteos.groupby('LAT_LON')['count'].agg(['sum','max'])\n",
    "    grp_conteos['sum_rate'] = grp_conteos['max'] / grp_conteos['sum']\n",
    "    filtered_conteos = grp_conteos[grp_conteos['sum_rate'] > 0.3]\n",
    "    return_df = filtered_conteos.drop(['max', 'sum_rate'], axis=1)\n",
    "    return_df.rename(columns = {'sum':'NACCIDENTS'}, inplace = True) \n",
    "    fusion=pd.merge(return_df,df_drop,on='LAT_LON',how='inner')[['NACCIDENTS','AÑO_ACCIDENTE','MES_ACCIDENTE',\n",
    "                                                     'CLASE_ACCIDENTE','LONGITUD', 'LATITUD',\n",
    "                                                     'POT', 'PIEZA_URBANA', 'BUS_SUBIDA','BUS_BAJADA', \n",
    "                                                     'TRAFICO','ES_FESTIVO','SOLO_HORA','DIA_ACCIDENTE','JUNIOR_JUGO']].reset_index().iloc[:,1:]\n",
    "    return(fusion)"
   ]
  },
  {
   "cell_type": "code",
   "execution_count": 29,
   "metadata": {},
   "outputs": [],
   "source": [
    "semaforos=pd.read_csv('lights_clean.csv')[['LATITUD','LONGITUD']]"
   ]
  },
  {
   "cell_type": "code",
   "execution_count": 30,
   "metadata": {},
   "outputs": [],
   "source": [
    "def distancia_semaforos_mas_rapido(final_df,lights=semaforos):\n",
    "    closest=np.zeros(final_df.shape[0])\n",
    "    numclose=np.zeros(final_df.shape[0])\n",
    "    numclose2=np.zeros(final_df.shape[0])\n",
    "    numclose3=np.zeros(final_df.shape[0])\n",
    "    for i in range(final_df.shape[0]):\n",
    "        corner_lat=final_df['LATITUD'][i]\n",
    "        corner_lon=final_df['LONGITUD'][i]\n",
    "        light_lat=np.array(lights['LATITUD'])\n",
    "        light_lon=np.array(lights['LONGITUD'])\n",
    "        dx = (light_lon-corner_lon)*40000*np.cos((light_lat+corner_lat)*math.pi/360)/360\n",
    "        dy = (light_lat-corner_lat)*40000/360\n",
    "        distance=np.sqrt(dx**2+dy**2)\n",
    "        closest[i]=distance[distance.argmin()]\n",
    "        numclose[i]=np.sum(distance<0.1)\n",
    "        numclose2[i]=np.sum(((distance>=0.1) & (distance<0.5)))\n",
    "        numclose3[i]=np.sum(((distance>=0.5) & (distance<2)))\n",
    "    final_df['NLIGHTS']=list(numclose)\n",
    "    final_df['NLIGHTS2']=list(numclose2)\n",
    "    final_df['NLIGHTS3']=list(numclose3)\n",
    "    final_df['CLOSEST_LIGHT']=list(closest)\n",
    "    return(final_df)"
   ]
  },
  {
   "cell_type": "code",
   "execution_count": 1,
   "metadata": {},
   "outputs": [
    {
     "ename": "NameError",
     "evalue": "name 'df' is not defined",
     "output_type": "error",
     "traceback": [
      "\u001b[1;31m---------------------------------------------------------------------------\u001b[0m",
      "\u001b[1;31mNameError\u001b[0m                                 Traceback (most recent call last)",
      "\u001b[1;32m<ipython-input-1-cd41d9da786d>\u001b[0m in \u001b[0;36m<module>\u001b[1;34m\u001b[0m\n\u001b[1;32m----> 1\u001b[1;33m \u001b[1;32mdef\u001b[0m \u001b[0mmodelo_poisson\u001b[0m\u001b[1;33m(\u001b[0m\u001b[0mdia\u001b[0m\u001b[1;33m=\u001b[0m\u001b[1;32mFalse\u001b[0m\u001b[1;33m,\u001b[0m\u001b[0mmes\u001b[0m\u001b[1;33m=\u001b[0m\u001b[1;32mFalse\u001b[0m\u001b[1;33m,\u001b[0m\u001b[0mhora\u001b[0m\u001b[1;33m=\u001b[0m\u001b[1;36m25\u001b[0m\u001b[1;33m,\u001b[0m \u001b[0mdf\u001b[0m\u001b[1;33m=\u001b[0m\u001b[0mdf\u001b[0m\u001b[1;33m,\u001b[0m\u001b[0mlights\u001b[0m\u001b[1;33m=\u001b[0m\u001b[0msemaforos\u001b[0m\u001b[1;33m,\u001b[0m\u001b[0mlights_aux\u001b[0m\u001b[1;33m=\u001b[0m\u001b[0msemaforos\u001b[0m\u001b[1;33m)\u001b[0m\u001b[1;33m:\u001b[0m \u001b[1;31m#Ojo dia, festivo, mes, año tienen que ser excluyente, si uno es verdadero automaticamente los otros son falsos\u001b[0m\u001b[1;33m\u001b[0m\u001b[1;33m\u001b[0m\u001b[0m\n\u001b[0m\u001b[0;32m      2\u001b[0m         \u001b[1;32mif\u001b[0m\u001b[1;33m(\u001b[0m\u001b[0mmes\u001b[0m\u001b[1;33m!=\u001b[0m\u001b[1;32mFalse\u001b[0m\u001b[1;33m)\u001b[0m\u001b[1;33m:\u001b[0m\u001b[1;33m\u001b[0m\u001b[1;33m\u001b[0m\u001b[0m\n\u001b[0;32m      3\u001b[0m             \u001b[0mdf\u001b[0m\u001b[1;33m=\u001b[0m\u001b[0mdf\u001b[0m\u001b[1;33m[\u001b[0m\u001b[0mdf\u001b[0m\u001b[1;33m.\u001b[0m\u001b[0mMES_ACCIDENTE\u001b[0m\u001b[1;33m==\u001b[0m\u001b[0mmes\u001b[0m\u001b[1;33m]\u001b[0m\u001b[1;33m\u001b[0m\u001b[1;33m\u001b[0m\u001b[0m\n\u001b[0;32m      4\u001b[0m         \u001b[1;32mif\u001b[0m\u001b[1;33m(\u001b[0m\u001b[0mdia\u001b[0m\u001b[1;33m!=\u001b[0m\u001b[1;32mFalse\u001b[0m\u001b[1;33m)\u001b[0m\u001b[1;33m:\u001b[0m\u001b[1;33m\u001b[0m\u001b[1;33m\u001b[0m\u001b[0m\n\u001b[0;32m      5\u001b[0m             \u001b[0mdf\u001b[0m\u001b[1;33m=\u001b[0m\u001b[0mdf\u001b[0m\u001b[1;33m[\u001b[0m\u001b[0mdf\u001b[0m\u001b[1;33m.\u001b[0m\u001b[0mDIA_ACCIDENTE\u001b[0m\u001b[1;33m==\u001b[0m\u001b[0mdia\u001b[0m\u001b[1;33m]\u001b[0m\u001b[1;33m\u001b[0m\u001b[1;33m\u001b[0m\u001b[0m\n",
      "\u001b[1;31mNameError\u001b[0m: name 'df' is not defined"
     ]
    }
   ],
   "source": [
    "def modelo_poisson(dia=False,mes=False,hora=25, df=df,lights=semaforos,lights_aux=semaforos): #Ojo dia, festivo, mes, año tienen que ser excluyente, si uno es verdadero automaticamente los otros son falsos\n",
    "        if(mes!=False):\n",
    "            df=df[df.MES_ACCIDENTE==mes]\n",
    "        if(dia!=False):\n",
    "            df=df[df.DIA_ACCIDENTE==dia]\n",
    "        if(hora!=25):\n",
    "            df=df[df.SOLO_HORA==hora]\n",
    "        data=conteo_perf(newdf=df)\n",
    "        data_aux=data.copy()\n",
    "        data=distancia_semaforos_mas_rapido(final_df=data,lights=lights)\n",
    "        data_aux=distancia_semaforos_mas_rapido(final_df=data_aux,lights=lights_aux)\n",
    "        formula='NACCIDENTS~BUS_SUBIDA+BUS_BAJADA+POT+PIEZA_URBANA+NLIGHTS+NLIGHTS2+TRAFICO+CLOSEST_LIGHT'\n",
    "        model = glm(formula=formula, data=data, family=sm.families.Poisson()).fit()\n",
    "        data_aux['PREDICHOS']=model.predict(data_aux)   \n",
    "        data['PREDICHO']=model.predict()\n",
    "        return([data[['LATITUD','LONGITUD','PREDICHOS']],data_aux[['LATITUD','LONGITUD','PREDICHOS']]])"
   ]
  },
  {
   "cell_type": "code",
   "execution_count": 53,
   "metadata": {},
   "outputs": [],
   "source": [
    "def mapa_calor_año(lights_aux=semaforos):\n",
    "    id=datetime.datetime.now().strftime('%Y%m%d%H%M%S')\n",
    "    modelo=modelo_poisson(lights_aux=lights_aux)\n",
    "    mapa_barranquilla_observados = folium.Map(location=[10.980706, -74.807636],zoom_start=13,tiles=\"OpenStreetMap\")\n",
    "    mapa_barranquilla_predichos = folium.Map(location=[10.980706, -74.807636],zoom_start=13,tiles=\"OpenStreetMap\")\n",
    "    capa_calor_observados=HeatMap(modelo[0][['LATITUD','LONGITUD','NACCIDENTS']],radius=15)\n",
    "    capa_calor_predichos=HeatMap(modelo[1][['LATITUD','LONGITUD','PREDICHOS']],radius=15)\n",
    "    mapa_barranquilla_predichos.add_child(capa_calor_predichos)\n",
    "    mapa_barranquilla_observados.add_child(capa_calor_observados)\n",
    "    mapa_barranquilla_observados.save('anho_asIs_'+id+'.html')\n",
    "    mapa_barranquilla_predichos.save('anho_toBe_'+id+'.html')\n",
    "    anho={}\n",
    "    anho['id']=id\n",
    "    anho['key']='Year'\n",
    "    anho['AsIs']='anho_asIs_'+id+'.html'\n",
    "    anho['toBe']='anho_toBe_'+id+'.html'\n",
    "    lista=[anho]\n",
    "    return(lista)\n",
    "\n",
    "def video_mapa_hora(horas=[0,1,2,3,4,5,6,7,8,9,10,11,12,13,14,15,16,17,18,19,20,21,22,23],lights_aux=semaforos):\n",
    "#     aux_predichos=[]\n",
    "#     aux_observados=[]\n",
    "    lista=[]\n",
    "    id=datetime.datetime.now().strftime('%Y%m%d%H%M%S')\n",
    "    for i in horas:\n",
    "        \n",
    "        modelo=modelo_poisson(hora=i,lights_aux=lights_aux)\n",
    "        mapa_barranquilla_observados = folium.Map(location=[10.980706, -74.807636],zoom_start=13,tiles=\"OpenStreetMap\")\n",
    "        mapa_barranquilla_predichos = folium.Map(location=[10.980706, -74.807636],zoom_start=13,tiles=\"OpenStreetMap\")\n",
    "        capa_calor_observados=HeatMap(modelo[0][['LATITUD','LONGITUD','NACCIDENTS']],radius=15)\n",
    "        capa_calor_predichos=HeatMap(modelo[1][['LATITUD','LONGITUD','PREDICHOS']],radius=15)\n",
    "        mapa_barranquilla_predichos.add_child(capa_calor_predichos)\n",
    "        mapa_barranquilla_observados.add_child(capa_calor_observados)\n",
    "        mapa_barranquilla_observados.save('hora_'+str(i)+'_asIs_'+id+'.html')\n",
    "        mapa_barranquilla_predichos.save('hora_'+str(i)+'_toBe_'+id+'.html')\n",
    "        aux={}\n",
    "        aux['id']=id\n",
    "        aux['key']=str(i)\n",
    "        aux['asIs']='hora_'+str(i)+'_asIs_'+id+'.html'\n",
    "        aux['toBe']='hora_'+str(i)+'_toBe_'+id+'.html'\n",
    "        lista.append(aux)\n",
    "#         aux_predichos.append(mapa_barranquilla_predichos)\n",
    "#         aux_observados.append(mapa_barranquilla_observados)\n",
    "    return(lista)\n",
    "\n",
    "def video_mapa_mes(mes=[1,2,3,4,5,6,7,8,9,10,11,12],lights_aux=semaforos):\n",
    "#     aux_predichos=[]\n",
    "    lista=[]\n",
    "    id=datetime.datetime.now().strftime('%Y%m%d%H%M%S')\n",
    "#     aux_observados=[]\n",
    "    for i in mes:\n",
    "        modelo=modelo_poisson(mes=i,lights_aux=lights_aux)\n",
    "        mapa_barranquilla_observados = folium.Map(location=[10.980706, -74.807636],zoom_start=13,tiles=\"OpenStreetMap\")\n",
    "        mapa_barranquilla_predichos = folium.Map(location=[10.980706, -74.807636],zoom_start=13,tiles=\"OpenStreetMap\")\n",
    "        capa_calor_observados=HeatMap(modelo[0][['LATITUD','LONGITUD','NACCIDENTS']],radius=15)\n",
    "        capa_calor_predichos=HeatMap(modelo[1][['LATITUD','LONGITUD','PREDICHOS']],radius=15)\n",
    "        mapa_barranquilla_predichos.add_child(capa_calor_predichos)\n",
    "        mapa_barranquilla_observados.add_child(capa_calor_observados)\n",
    "        mapa_barranquilla_observados.save('mes_'+month_name[i]+'_asIs_'+id+'.html')\n",
    "        mapa_barranquilla_predichos.save('mes_'+month_name[i]+'_toBe_'+id+'.html')\n",
    "#         aux_predichos.append(mapa_barranquilla_predichos)\n",
    "#         aux_observados.append(mapa_barranquilla_observados)\n",
    "        aux={}\n",
    "        aux['key']=month_name[i]\n",
    "        aux['id']=id\n",
    "        aux['asIs']='mes_'+month_name[i]+'_asIs_'+id+'.html'\n",
    "        aux['toBe']='mes_'+month_name[i]+'_toBe_'+id+'.html'\n",
    "        lista.append(aux)\n",
    "    return(lista)\n",
    "\n",
    "\n",
    "def video_mapa_dia(dias=['Lun','Mar','Mié','Jue','Vie','Sáb','Dom'],lights_aux=semaforos):\n",
    "#     aux_predichos=[]\n",
    "    lista=[]\n",
    "    id=datetime.datetime.now().strftime('%Y%m%d%H%M%S')\n",
    "#     aux_observados=[]\n",
    "    for i in dias:\n",
    "        modelo=modelo_poisson(dia=i,lights_aux=lights_aux)\n",
    "        mapa_barranquilla_observados = folium.Map(location=[10.980706, -74.807636],zoom_start=13,tiles=\"OpenStreetMap\")\n",
    "        mapa_barranquilla_predichos = folium.Map(location=[10.980706, -74.807636],zoom_start=13,tiles=\"OpenStreetMap\")\n",
    "        capa_calor_observados=HeatMap(modelo[0][['LATITUD','LONGITUD','NACCIDENTS']],radius=15)\n",
    "        capa_calor_predichos=HeatMap(modelo[1][['LATITUD','LONGITUD','PREDICHOS']],radius=15)\n",
    "        mapa_barranquilla_predichos.add_child(capa_calor_predichos)\n",
    "        mapa_barranquilla_observados.add_child(capa_calor_observados)\n",
    "        mapa_barranquilla_observados.save('dia_'+i+'_asIs_'+id+'.html')\n",
    "        mapa_barranquilla_predichos.save('dia_'+i+'_toBe_'+id+'.html')\n",
    "        aux={}\n",
    "        aux['id']=id\n",
    "        aux['key']=i\n",
    "        aux['asIs']='dia_'+i+'_asIs_'+id+'.html'\n",
    "        aux['toBe']='dia_'+i+'_toBe_'+id+'.html'\n",
    "        lista.append(aux)        \n",
    "#         aux_predichos.append(mapa_barranquilla_predichos)\n",
    "#         aux_observados.append(mapa_barranquilla_observados)\n",
    "    return(lista)"
   ]
  },
  {
   "cell_type": "code",
   "execution_count": 42,
   "metadata": {},
   "outputs": [
    {
     "name": "stdout",
     "output_type": "stream",
     "text": [
      "--- 4.285816669464111 seconds ---\n"
     ]
    }
   ],
   "source": [
    "#a=video_mapa_observados_dia()\n",
    "start_time = time.time()\n",
    "a=video_mapa_dia(lights_aux=semaforos)\n",
    "print(\"--- %s seconds ---\" % (time.time() - start_time))  "
   ]
  },
  {
   "cell_type": "code",
   "execution_count": 43,
   "metadata": {},
   "outputs": [],
   "source": [
    "def funcion_final(dia=False,mes=False,hora=25, df=df,lights=semaforos,lights_aux=semaforos):\n",
    "    \n",
    "    if(mes!=False):\n",
    "        return(video_mapa_mes(mes=mes,lights_aux=semaforos))            \n",
    "    if(dia!=False):\n",
    "        return(video_mapa_dia(dias=dia,lights_aux=semaforos))\n",
    "    if(hora!=25):\n",
    "        return(video_mapa_hora(horas=hora,lights_aux=semaforos))\n",
    "    return(mapa_calor_año(lights_aux=semaforos))\n",
    "    \n",
    "    \n",
    "    "
   ]
  },
  {
   "cell_type": "code",
   "execution_count": 54,
   "metadata": {},
   "outputs": [
    {
     "data": {
      "text/plain": [
       "[{'key': 'January',\n",
       "  'id': '20191209222918',\n",
       "  'asIs': 'mes_January_asIs_20191209222918.html',\n",
       "  'toBe': 'mes_January_toBe_20191209222918.html'},\n",
       " {'key': 'February',\n",
       "  'id': '20191209222918',\n",
       "  'asIs': 'mes_February_asIs_20191209222918.html',\n",
       "  'toBe': 'mes_February_toBe_20191209222918.html'},\n",
       " {'key': 'March',\n",
       "  'id': '20191209222918',\n",
       "  'asIs': 'mes_March_asIs_20191209222918.html',\n",
       "  'toBe': 'mes_March_toBe_20191209222918.html'},\n",
       " {'key': 'April',\n",
       "  'id': '20191209222918',\n",
       "  'asIs': 'mes_April_asIs_20191209222918.html',\n",
       "  'toBe': 'mes_April_toBe_20191209222918.html'},\n",
       " {'key': 'May',\n",
       "  'id': '20191209222918',\n",
       "  'asIs': 'mes_May_asIs_20191209222918.html',\n",
       "  'toBe': 'mes_May_toBe_20191209222918.html'},\n",
       " {'key': 'June',\n",
       "  'id': '20191209222918',\n",
       "  'asIs': 'mes_June_asIs_20191209222918.html',\n",
       "  'toBe': 'mes_June_toBe_20191209222918.html'},\n",
       " {'key': 'July',\n",
       "  'id': '20191209222918',\n",
       "  'asIs': 'mes_July_asIs_20191209222918.html',\n",
       "  'toBe': 'mes_July_toBe_20191209222918.html'},\n",
       " {'key': 'August',\n",
       "  'id': '20191209222918',\n",
       "  'asIs': 'mes_August_asIs_20191209222918.html',\n",
       "  'toBe': 'mes_August_toBe_20191209222918.html'},\n",
       " {'key': 'September',\n",
       "  'id': '20191209222918',\n",
       "  'asIs': 'mes_September_asIs_20191209222918.html',\n",
       "  'toBe': 'mes_September_toBe_20191209222918.html'},\n",
       " {'key': 'October',\n",
       "  'id': '20191209222918',\n",
       "  'asIs': 'mes_October_asIs_20191209222918.html',\n",
       "  'toBe': 'mes_October_toBe_20191209222918.html'},\n",
       " {'key': 'November',\n",
       "  'id': '20191209222918',\n",
       "  'asIs': 'mes_November_asIs_20191209222918.html',\n",
       "  'toBe': 'mes_November_toBe_20191209222918.html'},\n",
       " {'key': 'December',\n",
       "  'id': '20191209222918',\n",
       "  'asIs': 'mes_December_asIs_20191209222918.html',\n",
       "  'toBe': 'mes_December_toBe_20191209222918.html'}]"
      ]
     },
     "execution_count": 54,
     "metadata": {},
     "output_type": "execute_result"
    }
   ],
   "source": [
    "video_mapa_mes()"
   ]
  }
 ],
 "metadata": {
  "kernelspec": {
   "display_name": "Python 3",
   "language": "python",
   "name": "python3"
  },
  "language_info": {
   "codemirror_mode": {
    "name": "ipython",
    "version": 3
   },
   "file_extension": ".py",
   "mimetype": "text/x-python",
   "name": "python",
   "nbconvert_exporter": "python",
   "pygments_lexer": "ipython3",
   "version": "3.7.5"
  },
  "varInspector": {
   "cols": {
    "lenName": 16,
    "lenType": 16,
    "lenVar": 40
   },
   "kernels_config": {
    "python": {
     "delete_cmd_postfix": "",
     "delete_cmd_prefix": "del ",
     "library": "var_list.py",
     "varRefreshCmd": "print(var_dic_list())"
    },
    "r": {
     "delete_cmd_postfix": ") ",
     "delete_cmd_prefix": "rm(",
     "library": "var_list.r",
     "varRefreshCmd": "cat(var_dic_list()) "
    }
   },
   "types_to_exclude": [
    "module",
    "function",
    "builtin_function_or_method",
    "instance",
    "_Feature"
   ],
   "window_display": false
  }
 },
 "nbformat": 4,
 "nbformat_minor": 2
}
