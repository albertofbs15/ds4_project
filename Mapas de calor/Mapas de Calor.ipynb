{
 "cells": [
  {
   "cell_type": "code",
   "execution_count": 1,
   "metadata": {},
   "outputs": [],
   "source": [
    "import pandas as pd\n",
    "import numpy as np\n",
    "from folium import plugins\n",
    "import folium\n",
    "from folium.plugins import HeatMap\n",
    "import matplotlib.pyplot as plt\n",
    "import matplotlib.image as mpimg\n",
    "from selenium import webdriver\n",
    "import os\n",
    "import time\n",
    "from PIL import Image"
   ]
  },
  {
   "cell_type": "code",
   "execution_count": 2,
   "metadata": {},
   "outputs": [],
   "source": [
    "df=pd.read_csv('Final_Final.csv').iloc[:,1:]\n",
    "blanco=mpimg.imread('blanco.png')"
   ]
  },
  {
   "cell_type": "code",
   "execution_count": 8,
   "metadata": {},
   "outputs": [
    {
     "data": {
      "text/plain": [
       "Index(['ID', 'FECHA_ACCIDENTE', 'AÑO_ACCIDENTE', 'MES_ACCIDENTE',\n",
       "       'DIA_ACCIDENTE', 'HORA_ACCIDENTE', 'GRAVEDAD_ACCIDENTE',\n",
       "       'CLASE_ACCIDENTE', 'SITIO_EXACTO_ACCIDENTE',\n",
       "       'CANT_HERIDOS_EN _SITIO_ACCIDENTE', 'CANT_MUERTOS_EN _SITIO_ACCIDENTE',\n",
       "       'LONGITUD', 'LATITUD', 'POT', 'PIEZA_URBANA', 'BUS_SUBIDA',\n",
       "       'BUS_BAJADA', 'TRAFICO', 'ES_FESTIVO', 'TIPO_FESTIVO', 'DIA_DEL_AÑO',\n",
       "       'SEMANA_DEL_AÑO', 'CUATRIMESTRE_DEL_AÑO', 'JUNIOR_LOCAL',\n",
       "       'JUNIOR_VISITANTE', 'RESULTADO_LOCAL', 'RESULTADO_VISITANTE',\n",
       "       'JUNIOR_GANO', 'RELEVANCIA_PARTIDO', 'HIPOTESIS_ACCIDENTE',\n",
       "       'VEHICULO_MOTOCICLETA', 'VEHICULO_AUTOMOVIL', 'VEHICULO_CAMIONETA',\n",
       "       'VEHICULO_BUS', 'VEHICULO_CAMION', 'VEHICULO_CAMPERO',\n",
       "       'VEHICULO_BUSETA', 'VEHICULO_BICICLETA', 'VEHICULO_MICROBUS',\n",
       "       'VEHICULO_TRACTO_CAMION', 'VEHICULO_VOLQUETA', 'VEHICULO_MOTOCARRO',\n",
       "       'VEHICULO_DESCONOCIDO', 'VEHICULO_CUATRIMOTO',\n",
       "       'VEHICULO_MAQUINARIA_AGRICOLA', 'VEHICULO_TRACCION_ANIMAL',\n",
       "       'VEHICULO_MAQUIRIA_INDUSTRIAL', 'VEHICULO_CAMION_RNMA',\n",
       "       'VEHICULO_DUMPER_VOLQUETAARTICULADA', 'VEHICULO_REMOLQUE',\n",
       "       'VEHICULO_SEMIREMOLQUE', 'VEHICULO_RETROEXCAVADORA',\n",
       "       'VEHICULO_MONTACARGAS', 'VEHICULO_BUS_ARTICULADO',\n",
       "       'VEHICULO_MINICARGADOR', 'VEHICULO_MINI_EXCAVADORA',\n",
       "       'VEHICULO_NO_REGISTRA'],\n",
       "      dtype='object')"
      ]
     },
     "execution_count": 8,
     "metadata": {},
     "output_type": "execute_result"
    }
   ],
   "source": [
    "df.columns"
   ]
  },
  {
   "cell_type": "markdown",
   "metadata": {},
   "source": [
    "# Mejor se crea la función parametro \"variable\""
   ]
  },
  {
   "cell_type": "code",
   "execution_count": 5,
   "metadata": {},
   "outputs": [],
   "source": [
    "def imagenes(variable='AÑO_ACCIDENTE',radio=5,blur=6,max_zoom=5):\n",
    "    variable_agrupado=df.groupby(variable)\n",
    "    browser = webdriver.Chrome()\n",
    "    browser.set_window_position(0, 0)\n",
    "    browser.set_window_size(1600, 900) # resolucion pc del trabajo\n",
    "    #browser.set_window_size(1920, 1080) #resolución pc de la casa\n",
    "    for aux in variable_agrupado:\n",
    "        grupo=aux[1]\n",
    "        mapa_barranquilla = folium.Map(\n",
    "            location=[10.980706, -74.807636],\n",
    "            zoom_start=13,tiles=\"OpenStreetMap\")\n",
    "        folium.raster_layers.ImageOverlay(\n",
    "            image=blanco,\n",
    "            bounds=[[11.047646, -74.881417],[10.887618, -74.755426]]).add_to(mapa_barranquilla)\n",
    "        capa_calor=HeatMap(grupo[['LATITUD','LONGITUD']], min_opacity=0.1,radius=radio, blur=blur,max_zoom=max_zoom)\n",
    "        mapa_barranquilla.add_child(capa_calor)\n",
    "        tmpurl='file://{path}/{mapfile}.html'.format(path=os.getcwd(),mapfile=aux[0])\n",
    "        mapa_barranquilla.save('{nombre}.html'.format(nombre=aux[0]))\n",
    "        browser.get(tmpurl)\n",
    "        browser.save_screenshot('{nombre}.png'.format(nombre=aux[0]))\n",
    "        im = Image.open('{nombre}.png'.format(nombre=aux[0]))         \n",
    "        im1 = im.crop((332, 0, 1062, 742)) \n",
    "        os.remove('{nombre}.png'.format(nombre=aux[0]))        \n",
    "        os.remove('{nombre}.html'.format(nombre=aux[0]))\n",
    "        im1.save('{nombre}.png'.format(nombre=aux[0]))\n",
    "    browser.quit()\n",
    "    "
   ]
  },
  {
   "cell_type": "markdown",
   "metadata": {},
   "source": [
    "# Año"
   ]
  },
  {
   "cell_type": "code",
   "execution_count": 8,
   "metadata": {},
   "outputs": [],
   "source": [
    "imagenes(radio=7)"
   ]
  },
  {
   "cell_type": "markdown",
   "metadata": {},
   "source": [
    "# Mes"
   ]
  },
  {
   "cell_type": "code",
   "execution_count": 24,
   "metadata": {},
   "outputs": [],
   "source": [
    "imagenes(variable='MES_ACCIDENTE',radio=10,blur=15)"
   ]
  },
  {
   "cell_type": "markdown",
   "metadata": {},
   "source": [
    "# Imágenes para los días de la semana"
   ]
  },
  {
   "cell_type": "code",
   "execution_count": 25,
   "metadata": {},
   "outputs": [],
   "source": [
    "imagenes(variable='DIA_ACCIDENTE',radio=10,blur=15)"
   ]
  },
  {
   "cell_type": "markdown",
   "metadata": {},
   "source": [
    "# Imágenes para tipo de accidente"
   ]
  },
  {
   "cell_type": "code",
   "execution_count": 26,
   "metadata": {},
   "outputs": [],
   "source": [
    "imagenes(variable='GRAVEDAD_ACCIDENTE',radio=10,blur=15)"
   ]
  },
  {
   "cell_type": "markdown",
   "metadata": {},
   "source": [
    "# Imágenes para clase de accidentes"
   ]
  },
  {
   "cell_type": "code",
   "execution_count": 27,
   "metadata": {},
   "outputs": [],
   "source": [
    "imagenes(variable='CLASE_ACCIDENTE',radio=10,blur=15)"
   ]
  },
  {
   "cell_type": "code",
   "execution_count": 28,
   "metadata": {},
   "outputs": [],
   "source": [
    "imagenes(variable='CUATRIMESTRE_DEL_AÑO',radio=10,blur=15)"
   ]
  },
  {
   "cell_type": "code",
   "execution_count": 29,
   "metadata": {
    "scrolled": true
   },
   "outputs": [],
   "source": [
    "imagenes(variable=['AÑO_ACCIDENTE','MES_ACCIDENTE'],radio=10,blur=15)"
   ]
  },
  {
   "cell_type": "code",
   "execution_count": 30,
   "metadata": {},
   "outputs": [],
   "source": [
    "imagenes(variable=['DIA_ACCIDENTE','SOLO_HORA'],radio=10,blur=15)"
   ]
  },
  {
   "cell_type": "code",
   "execution_count": 31,
   "metadata": {},
   "outputs": [],
   "source": [
    "imagenes(variable='SOLO_HORA',radio=10,blur=15)"
   ]
  },
  {
   "cell_type": "code",
   "execution_count": 32,
   "metadata": {},
   "outputs": [],
   "source": [
    "imagenes(variable=['AÑO_ACCIDENTE','SOLO_HORA'],radio=10,blur=15)"
   ]
  }
 ],
 "metadata": {
  "kernelspec": {
   "display_name": "Python 3",
   "language": "python",
   "name": "python3"
  },
  "language_info": {
   "codemirror_mode": {
    "name": "ipython",
    "version": 3
   },
   "file_extension": ".py",
   "mimetype": "text/x-python",
   "name": "python",
   "nbconvert_exporter": "python",
   "pygments_lexer": "ipython3",
   "version": "3.7.5"
  },
  "varInspector": {
   "cols": {
    "lenName": 16,
    "lenType": 16,
    "lenVar": 40
   },
   "kernels_config": {
    "python": {
     "delete_cmd_postfix": "",
     "delete_cmd_prefix": "del ",
     "library": "var_list.py",
     "varRefreshCmd": "print(var_dic_list())"
    },
    "r": {
     "delete_cmd_postfix": ") ",
     "delete_cmd_prefix": "rm(",
     "library": "var_list.r",
     "varRefreshCmd": "cat(var_dic_list()) "
    }
   },
   "types_to_exclude": [
    "module",
    "function",
    "builtin_function_or_method",
    "instance",
    "_Feature"
   ],
   "window_display": false
  }
 },
 "nbformat": 4,
 "nbformat_minor": 2
}
